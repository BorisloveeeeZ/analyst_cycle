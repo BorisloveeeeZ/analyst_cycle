{
 "cells": [
  {
   "cell_type": "code",
   "execution_count": 82,
   "metadata": {},
   "outputs": [],
   "source": [
    "import pandas as pd\n",
    "import numpy as np"
   ]
  },
  {
   "cell_type": "markdown",
   "metadata": {},
   "source": [
    "## Работа с таблицой"
   ]
  },
  {
   "cell_type": "markdown",
   "metadata": {},
   "source": [
    "Создадим небольшой датафрейм"
   ]
  },
  {
   "cell_type": "code",
   "execution_count": 88,
   "metadata": {},
   "outputs": [
    {
     "data": {
      "text/html": [
       "<div>\n",
       "<style scoped>\n",
       "    .dataframe tbody tr th:only-of-type {\n",
       "        vertical-align: middle;\n",
       "    }\n",
       "\n",
       "    .dataframe tbody tr th {\n",
       "        vertical-align: top;\n",
       "    }\n",
       "\n",
       "    .dataframe thead th {\n",
       "        text-align: right;\n",
       "    }\n",
       "</style>\n",
       "<table border=\"1\" class=\"dataframe\">\n",
       "  <thead>\n",
       "    <tr style=\"text-align: right;\">\n",
       "      <th></th>\n",
       "      <th>A</th>\n",
       "      <th>B</th>\n",
       "      <th>C</th>\n",
       "      <th>D</th>\n",
       "    </tr>\n",
       "  </thead>\n",
       "  <tbody>\n",
       "    <tr>\n",
       "      <th>0</th>\n",
       "      <td>0</td>\n",
       "      <td>0</td>\n",
       "      <td>-1</td>\n",
       "      <td>65</td>\n",
       "    </tr>\n",
       "    <tr>\n",
       "      <th>1</th>\n",
       "      <td>1</td>\n",
       "      <td>3</td>\n",
       "      <td>-2</td>\n",
       "      <td>21</td>\n",
       "    </tr>\n",
       "    <tr>\n",
       "      <th>2</th>\n",
       "      <td>2</td>\n",
       "      <td>3</td>\n",
       "      <td>-1</td>\n",
       "      <td>77</td>\n",
       "    </tr>\n",
       "    <tr>\n",
       "      <th>3</th>\n",
       "      <td>3</td>\n",
       "      <td>7</td>\n",
       "      <td>-7</td>\n",
       "      <td>65</td>\n",
       "    </tr>\n",
       "    <tr>\n",
       "      <th>4</th>\n",
       "      <td>4</td>\n",
       "      <td>2</td>\n",
       "      <td>8</td>\n",
       "      <td>-4</td>\n",
       "    </tr>\n",
       "  </tbody>\n",
       "</table>\n",
       "</div>"
      ],
      "text/plain": [
       "   A  B  C   D\n",
       "0  0  0 -1  65\n",
       "1  1  3 -2  21\n",
       "2  2  3 -1  77\n",
       "3  3  7 -7  65\n",
       "4  4  2  8  -4"
      ]
     },
     "execution_count": 88,
     "metadata": {},
     "output_type": "execute_result"
    }
   ],
   "source": [
    "np.random.seed(1000-7)\n",
    "df = pd.DataFrame({'A': list(range(5)), \n",
    "                   'B': np.random.randint(0, 10, 5),\n",
    "                   'C': np.random.randint(-10, 10, 5), \n",
    "                   'D': np.random.randint(-10, 100, 5)})\n",
    "df                   "
   ]
  },
  {
   "cell_type": "code",
   "execution_count": 89,
   "metadata": {},
   "outputs": [
    {
     "data": {
      "text/html": [
       "<style type=\"text/css\">\n",
       "</style>\n",
       "<table id=\"T_23e59\">\n",
       "  <thead>\n",
       "    <tr>\n",
       "      <th id=\"T_23e59_level0_col0\" class=\"col_heading level0 col0\" >A</th>\n",
       "      <th id=\"T_23e59_level0_col1\" class=\"col_heading level0 col1\" >B</th>\n",
       "      <th id=\"T_23e59_level0_col2\" class=\"col_heading level0 col2\" >C</th>\n",
       "      <th id=\"T_23e59_level0_col3\" class=\"col_heading level0 col3\" >D</th>\n",
       "    </tr>\n",
       "  </thead>\n",
       "  <tbody>\n",
       "    <tr>\n",
       "      <td id=\"T_23e59_row0_col0\" class=\"data row0 col0\" >0</td>\n",
       "      <td id=\"T_23e59_row0_col1\" class=\"data row0 col1\" >0</td>\n",
       "      <td id=\"T_23e59_row0_col2\" class=\"data row0 col2\" >-1</td>\n",
       "      <td id=\"T_23e59_row0_col3\" class=\"data row0 col3\" >65</td>\n",
       "    </tr>\n",
       "    <tr>\n",
       "      <td id=\"T_23e59_row1_col0\" class=\"data row1 col0\" >1</td>\n",
       "      <td id=\"T_23e59_row1_col1\" class=\"data row1 col1\" >3</td>\n",
       "      <td id=\"T_23e59_row1_col2\" class=\"data row1 col2\" >-2</td>\n",
       "      <td id=\"T_23e59_row1_col3\" class=\"data row1 col3\" >21</td>\n",
       "    </tr>\n",
       "    <tr>\n",
       "      <td id=\"T_23e59_row2_col0\" class=\"data row2 col0\" >2</td>\n",
       "      <td id=\"T_23e59_row2_col1\" class=\"data row2 col1\" >3</td>\n",
       "      <td id=\"T_23e59_row2_col2\" class=\"data row2 col2\" >-1</td>\n",
       "      <td id=\"T_23e59_row2_col3\" class=\"data row2 col3\" >77</td>\n",
       "    </tr>\n",
       "    <tr>\n",
       "      <td id=\"T_23e59_row3_col0\" class=\"data row3 col0\" >3</td>\n",
       "      <td id=\"T_23e59_row3_col1\" class=\"data row3 col1\" >7</td>\n",
       "      <td id=\"T_23e59_row3_col2\" class=\"data row3 col2\" >-7</td>\n",
       "      <td id=\"T_23e59_row3_col3\" class=\"data row3 col3\" >65</td>\n",
       "    </tr>\n",
       "    <tr>\n",
       "      <td id=\"T_23e59_row4_col0\" class=\"data row4 col0\" >4</td>\n",
       "      <td id=\"T_23e59_row4_col1\" class=\"data row4 col1\" >2</td>\n",
       "      <td id=\"T_23e59_row4_col2\" class=\"data row4 col2\" >8</td>\n",
       "      <td id=\"T_23e59_row4_col3\" class=\"data row4 col3\" >-4</td>\n",
       "    </tr>\n",
       "  </tbody>\n",
       "</table>\n"
      ],
      "text/plain": [
       "<pandas.io.formats.style.Styler at 0x7f4aa64f7250>"
      ]
     },
     "execution_count": 89,
     "metadata": {},
     "output_type": "execute_result"
    }
   ],
   "source": [
    "#Спрячем индекс\n",
    "df.style.hide()"
   ]
  },
  {
   "cell_type": "code",
   "execution_count": 90,
   "metadata": {},
   "outputs": [
    {
     "data": {
      "text/html": [
       "<style type=\"text/css\">\n",
       "</style>\n",
       "<table id=\"T_03386\">\n",
       "  <caption>Brent price</caption>\n",
       "  <thead>\n",
       "    <tr>\n",
       "      <th id=\"T_03386_level0_col0\" class=\"col_heading level0 col0\" >A</th>\n",
       "      <th id=\"T_03386_level0_col1\" class=\"col_heading level0 col1\" >B</th>\n",
       "      <th id=\"T_03386_level0_col2\" class=\"col_heading level0 col2\" >C</th>\n",
       "      <th id=\"T_03386_level0_col3\" class=\"col_heading level0 col3\" >D</th>\n",
       "    </tr>\n",
       "  </thead>\n",
       "  <tbody>\n",
       "    <tr>\n",
       "      <td id=\"T_03386_row0_col0\" class=\"data row0 col0\" >0</td>\n",
       "      <td id=\"T_03386_row0_col1\" class=\"data row0 col1\" >0</td>\n",
       "      <td id=\"T_03386_row0_col2\" class=\"data row0 col2\" >-1</td>\n",
       "      <td id=\"T_03386_row0_col3\" class=\"data row0 col3\" >65</td>\n",
       "    </tr>\n",
       "    <tr>\n",
       "      <td id=\"T_03386_row1_col0\" class=\"data row1 col0\" >1</td>\n",
       "      <td id=\"T_03386_row1_col1\" class=\"data row1 col1\" >3</td>\n",
       "      <td id=\"T_03386_row1_col2\" class=\"data row1 col2\" >-2</td>\n",
       "      <td id=\"T_03386_row1_col3\" class=\"data row1 col3\" >21</td>\n",
       "    </tr>\n",
       "    <tr>\n",
       "      <td id=\"T_03386_row2_col0\" class=\"data row2 col0\" >2</td>\n",
       "      <td id=\"T_03386_row2_col1\" class=\"data row2 col1\" >3</td>\n",
       "      <td id=\"T_03386_row2_col2\" class=\"data row2 col2\" >-1</td>\n",
       "      <td id=\"T_03386_row2_col3\" class=\"data row2 col3\" >77</td>\n",
       "    </tr>\n",
       "    <tr>\n",
       "      <td id=\"T_03386_row3_col0\" class=\"data row3 col0\" >3</td>\n",
       "      <td id=\"T_03386_row3_col1\" class=\"data row3 col1\" >7</td>\n",
       "      <td id=\"T_03386_row3_col2\" class=\"data row3 col2\" >-7</td>\n",
       "      <td id=\"T_03386_row3_col3\" class=\"data row3 col3\" >65</td>\n",
       "    </tr>\n",
       "    <tr>\n",
       "      <td id=\"T_03386_row4_col0\" class=\"data row4 col0\" >4</td>\n",
       "      <td id=\"T_03386_row4_col1\" class=\"data row4 col1\" >2</td>\n",
       "      <td id=\"T_03386_row4_col2\" class=\"data row4 col2\" >8</td>\n",
       "      <td id=\"T_03386_row4_col3\" class=\"data row4 col3\" >-4</td>\n",
       "    </tr>\n",
       "  </tbody>\n",
       "</table>\n"
      ],
      "text/plain": [
       "<pandas.io.formats.style.Styler at 0x7f4aa6546760>"
      ]
     },
     "execution_count": 90,
     "metadata": {},
     "output_type": "execute_result"
    }
   ],
   "source": [
    "#Добавим подпись к таблице\n",
    "\n",
    "df = df.style.hide().set_caption('Brent price')\n",
    "df"
   ]
  },
  {
   "cell_type": "code",
   "execution_count": 91,
   "metadata": {},
   "outputs": [
    {
     "data": {
      "text/html": [
       "<style type=\"text/css\">\n",
       "#T_03386_row0_col0 {\n",
       "  background-color: red;\n",
       "}\n",
       "#T_03386_row0_col2, #T_03386_row2_col2 {\n",
       "  background-color: #2a788e;\n",
       "  color: #f1f1f1;\n",
       "}\n",
       "#T_03386_row0_col3, #T_03386_row3_col3 {\n",
       "  background-color: #9dd93b;\n",
       "  color: #000000;\n",
       "}\n",
       "#T_03386_row1_col2 {\n",
       "  background-color: #31688e;\n",
       "  color: #f1f1f1;\n",
       "}\n",
       "#T_03386_row1_col3 {\n",
       "  background-color: #33628d;\n",
       "  color: #f1f1f1;\n",
       "}\n",
       "#T_03386_row2_col3, #T_03386_row4_col2 {\n",
       "  background-color: #fde725;\n",
       "  color: #000000;\n",
       "}\n",
       "#T_03386_row3_col1 {\n",
       "  background-color: orange;\n",
       "}\n",
       "#T_03386_row3_col2, #T_03386_row4_col3 {\n",
       "  background-color: #440154;\n",
       "  color: #f1f1f1;\n",
       "}\n",
       "</style>\n",
       "<table id=\"T_03386\">\n",
       "  <caption>Brent price</caption>\n",
       "  <thead>\n",
       "    <tr>\n",
       "      <th id=\"T_03386_level0_col0\" class=\"col_heading level0 col0\" >A</th>\n",
       "      <th id=\"T_03386_level0_col1\" class=\"col_heading level0 col1\" >B</th>\n",
       "      <th id=\"T_03386_level0_col2\" class=\"col_heading level0 col2\" >C</th>\n",
       "      <th id=\"T_03386_level0_col3\" class=\"col_heading level0 col3\" >D</th>\n",
       "    </tr>\n",
       "  </thead>\n",
       "  <tbody>\n",
       "    <tr>\n",
       "      <td id=\"T_03386_row0_col0\" class=\"data row0 col0\" >0</td>\n",
       "      <td id=\"T_03386_row0_col1\" class=\"data row0 col1\" >0</td>\n",
       "      <td id=\"T_03386_row0_col2\" class=\"data row0 col2\" >-1</td>\n",
       "      <td id=\"T_03386_row0_col3\" class=\"data row0 col3\" >65</td>\n",
       "    </tr>\n",
       "    <tr>\n",
       "      <td id=\"T_03386_row1_col0\" class=\"data row1 col0\" >1</td>\n",
       "      <td id=\"T_03386_row1_col1\" class=\"data row1 col1\" >3</td>\n",
       "      <td id=\"T_03386_row1_col2\" class=\"data row1 col2\" >-2</td>\n",
       "      <td id=\"T_03386_row1_col3\" class=\"data row1 col3\" >21</td>\n",
       "    </tr>\n",
       "    <tr>\n",
       "      <td id=\"T_03386_row2_col0\" class=\"data row2 col0\" >2</td>\n",
       "      <td id=\"T_03386_row2_col1\" class=\"data row2 col1\" >3</td>\n",
       "      <td id=\"T_03386_row2_col2\" class=\"data row2 col2\" >-1</td>\n",
       "      <td id=\"T_03386_row2_col3\" class=\"data row2 col3\" >77</td>\n",
       "    </tr>\n",
       "    <tr>\n",
       "      <td id=\"T_03386_row3_col0\" class=\"data row3 col0\" >3</td>\n",
       "      <td id=\"T_03386_row3_col1\" class=\"data row3 col1\" >7</td>\n",
       "      <td id=\"T_03386_row3_col2\" class=\"data row3 col2\" >-7</td>\n",
       "      <td id=\"T_03386_row3_col3\" class=\"data row3 col3\" >65</td>\n",
       "    </tr>\n",
       "    <tr>\n",
       "      <td id=\"T_03386_row4_col0\" class=\"data row4 col0\" >4</td>\n",
       "      <td id=\"T_03386_row4_col1\" class=\"data row4 col1\" >2</td>\n",
       "      <td id=\"T_03386_row4_col2\" class=\"data row4 col2\" >8</td>\n",
       "      <td id=\"T_03386_row4_col3\" class=\"data row4 col3\" >-4</td>\n",
       "    </tr>\n",
       "  </tbody>\n",
       "</table>\n"
      ],
      "text/plain": [
       "<pandas.io.formats.style.Styler at 0x7f4aa6546760>"
      ]
     },
     "execution_count": 91,
     "metadata": {},
     "output_type": "execute_result"
    }
   ],
   "source": [
    "# Нанесем хитмэп\n",
    "(df\n",
    " .highlight_min('A', color='red')\n",
    " .highlight_max('B', color='orange')\n",
    " .background_gradient(subset=['C','D'],cmap='viridis')\n",
    ")"
   ]
  },
  {
   "cell_type": "markdown",
   "metadata": {},
   "source": [
    "## Форматирование изображения"
   ]
  },
  {
   "cell_type": "code",
   "execution_count": 92,
   "metadata": {},
   "outputs": [
    {
     "data": {
      "text/html": [
       "<div>\n",
       "<style scoped>\n",
       "    .dataframe tbody tr th:only-of-type {\n",
       "        vertical-align: middle;\n",
       "    }\n",
       "\n",
       "    .dataframe tbody tr th {\n",
       "        vertical-align: top;\n",
       "    }\n",
       "\n",
       "    .dataframe thead th {\n",
       "        text-align: right;\n",
       "    }\n",
       "</style>\n",
       "<table border=\"1\" class=\"dataframe\">\n",
       "  <thead>\n",
       "    <tr style=\"text-align: right;\">\n",
       "      <th></th>\n",
       "      <th>A</th>\n",
       "      <th>B</th>\n",
       "      <th>C</th>\n",
       "      <th>D</th>\n",
       "      <th>E</th>\n",
       "      <th>F</th>\n",
       "    </tr>\n",
       "  </thead>\n",
       "  <tbody>\n",
       "    <tr>\n",
       "      <th>0</th>\n",
       "      <td>1.00</td>\n",
       "      <td>-0.273709</td>\n",
       "      <td>NaN</td>\n",
       "      <td>0.339979</td>\n",
       "      <td>-1.383953</td>\n",
       "      <td>A</td>\n",
       "    </tr>\n",
       "    <tr>\n",
       "      <th>1</th>\n",
       "      <td>3.25</td>\n",
       "      <td>-1.268031</td>\n",
       "      <td>0.770753</td>\n",
       "      <td>-0.137582</td>\n",
       "      <td>0.009736</td>\n",
       "      <td>A</td>\n",
       "    </tr>\n",
       "    <tr>\n",
       "      <th>2</th>\n",
       "      <td>5.50</td>\n",
       "      <td>-0.317330</td>\n",
       "      <td>-1.130181</td>\n",
       "      <td>2.430871</td>\n",
       "      <td>1.027037</td>\n",
       "      <td>A</td>\n",
       "    </tr>\n",
       "    <tr>\n",
       "      <th>3</th>\n",
       "      <td>7.75</td>\n",
       "      <td>-0.239790</td>\n",
       "      <td>0.380286</td>\n",
       "      <td>NaN</td>\n",
       "      <td>-1.604199</td>\n",
       "      <td>A</td>\n",
       "    </tr>\n",
       "    <tr>\n",
       "      <th>4</th>\n",
       "      <td>10.00</td>\n",
       "      <td>-0.093522</td>\n",
       "      <td>-0.557503</td>\n",
       "      <td>0.015578</td>\n",
       "      <td>-0.442700</td>\n",
       "      <td>A</td>\n",
       "    </tr>\n",
       "  </tbody>\n",
       "</table>\n",
       "</div>"
      ],
      "text/plain": [
       "       A         B         C         D         E  F\n",
       "0   1.00 -0.273709       NaN  0.339979 -1.383953  A\n",
       "1   3.25 -1.268031  0.770753 -0.137582  0.009736  A\n",
       "2   5.50 -0.317330 -1.130181  2.430871  1.027037  A\n",
       "3   7.75 -0.239790  0.380286       NaN -1.604199  A\n",
       "4  10.00 -0.093522 -0.557503  0.015578 -0.442700  A"
      ]
     },
     "execution_count": 92,
     "metadata": {},
     "output_type": "execute_result"
    }
   ],
   "source": [
    "df = pd.DataFrame({'A': np.linspace(1, 10, 5)})\n",
    "df = pd.concat([df, pd.DataFrame(np.random.randn(5, 4), columns=list('BCDE'))],axis=1)\n",
    "df['F'] = np.random.choice(['A', 'B'], size=5)\n",
    "df.iloc[3, 3] = np.nan \n",
    "df.iloc[0, 2] = np.nan \n",
    "df"
   ]
  },
  {
   "cell_type": "markdown",
   "metadata": {},
   "source": [
    "Оставим два знака, добавим плюс для положительных, кроме F  "
   ]
  },
  {
   "cell_type": "code",
   "execution_count": 93,
   "metadata": {},
   "outputs": [
    {
     "data": {
      "text/html": [
       "<style type=\"text/css\">\n",
       "</style>\n",
       "<table id=\"T_3c645\">\n",
       "  <thead>\n",
       "    <tr>\n",
       "      <th class=\"blank level0\" >&nbsp;</th>\n",
       "      <th id=\"T_3c645_level0_col0\" class=\"col_heading level0 col0\" >A</th>\n",
       "      <th id=\"T_3c645_level0_col1\" class=\"col_heading level0 col1\" >B</th>\n",
       "      <th id=\"T_3c645_level0_col2\" class=\"col_heading level0 col2\" >C</th>\n",
       "      <th id=\"T_3c645_level0_col3\" class=\"col_heading level0 col3\" >D</th>\n",
       "      <th id=\"T_3c645_level0_col4\" class=\"col_heading level0 col4\" >E</th>\n",
       "      <th id=\"T_3c645_level0_col5\" class=\"col_heading level0 col5\" >F</th>\n",
       "    </tr>\n",
       "  </thead>\n",
       "  <tbody>\n",
       "    <tr>\n",
       "      <th id=\"T_3c645_level0_row0\" class=\"row_heading level0 row0\" >0</th>\n",
       "      <td id=\"T_3c645_row0_col0\" class=\"data row0 col0\" >+1.00</td>\n",
       "      <td id=\"T_3c645_row0_col1\" class=\"data row0 col1\" >-0.27</td>\n",
       "      <td id=\"T_3c645_row0_col2\" class=\"data row0 col2\" >+nan</td>\n",
       "      <td id=\"T_3c645_row0_col3\" class=\"data row0 col3\" >+0.34</td>\n",
       "      <td id=\"T_3c645_row0_col4\" class=\"data row0 col4\" >-1.38</td>\n",
       "      <td id=\"T_3c645_row0_col5\" class=\"data row0 col5\" >A</td>\n",
       "    </tr>\n",
       "    <tr>\n",
       "      <th id=\"T_3c645_level0_row1\" class=\"row_heading level0 row1\" >1</th>\n",
       "      <td id=\"T_3c645_row1_col0\" class=\"data row1 col0\" >+3.25</td>\n",
       "      <td id=\"T_3c645_row1_col1\" class=\"data row1 col1\" >-1.27</td>\n",
       "      <td id=\"T_3c645_row1_col2\" class=\"data row1 col2\" >+0.77</td>\n",
       "      <td id=\"T_3c645_row1_col3\" class=\"data row1 col3\" >-0.14</td>\n",
       "      <td id=\"T_3c645_row1_col4\" class=\"data row1 col4\" >+0.01</td>\n",
       "      <td id=\"T_3c645_row1_col5\" class=\"data row1 col5\" >A</td>\n",
       "    </tr>\n",
       "    <tr>\n",
       "      <th id=\"T_3c645_level0_row2\" class=\"row_heading level0 row2\" >2</th>\n",
       "      <td id=\"T_3c645_row2_col0\" class=\"data row2 col0\" >+5.50</td>\n",
       "      <td id=\"T_3c645_row2_col1\" class=\"data row2 col1\" >-0.32</td>\n",
       "      <td id=\"T_3c645_row2_col2\" class=\"data row2 col2\" >-1.13</td>\n",
       "      <td id=\"T_3c645_row2_col3\" class=\"data row2 col3\" >+2.43</td>\n",
       "      <td id=\"T_3c645_row2_col4\" class=\"data row2 col4\" >+1.03</td>\n",
       "      <td id=\"T_3c645_row2_col5\" class=\"data row2 col5\" >A</td>\n",
       "    </tr>\n",
       "    <tr>\n",
       "      <th id=\"T_3c645_level0_row3\" class=\"row_heading level0 row3\" >3</th>\n",
       "      <td id=\"T_3c645_row3_col0\" class=\"data row3 col0\" >+7.75</td>\n",
       "      <td id=\"T_3c645_row3_col1\" class=\"data row3 col1\" >-0.24</td>\n",
       "      <td id=\"T_3c645_row3_col2\" class=\"data row3 col2\" >+0.38</td>\n",
       "      <td id=\"T_3c645_row3_col3\" class=\"data row3 col3\" >+nan</td>\n",
       "      <td id=\"T_3c645_row3_col4\" class=\"data row3 col4\" >-1.60</td>\n",
       "      <td id=\"T_3c645_row3_col5\" class=\"data row3 col5\" >A</td>\n",
       "    </tr>\n",
       "    <tr>\n",
       "      <th id=\"T_3c645_level0_row4\" class=\"row_heading level0 row4\" >4</th>\n",
       "      <td id=\"T_3c645_row4_col0\" class=\"data row4 col0\" >+10.00</td>\n",
       "      <td id=\"T_3c645_row4_col1\" class=\"data row4 col1\" >-0.09</td>\n",
       "      <td id=\"T_3c645_row4_col2\" class=\"data row4 col2\" >-0.56</td>\n",
       "      <td id=\"T_3c645_row4_col3\" class=\"data row4 col3\" >+0.02</td>\n",
       "      <td id=\"T_3c645_row4_col4\" class=\"data row4 col4\" >-0.44</td>\n",
       "      <td id=\"T_3c645_row4_col5\" class=\"data row4 col5\" >A</td>\n",
       "    </tr>\n",
       "  </tbody>\n",
       "</table>\n"
      ],
      "text/plain": [
       "<pandas.io.formats.style.Styler at 0x7f4aa655c640>"
      ]
     },
     "execution_count": 93,
     "metadata": {},
     "output_type": "execute_result"
    }
   ],
   "source": [
    "df.style.format(\"{:+.2f}\", subset=df.columns.drop('F'))"
   ]
  },
  {
   "cell_type": "markdown",
   "metadata": {},
   "source": [
    "Работа с таблицей "
   ]
  },
  {
   "cell_type": "markdown",
   "metadata": {},
   "source": []
  }
 ],
 "metadata": {
  "interpreter": {
   "hash": "f9f85f796d01129d0dd105a088854619f454435301f6ffec2fea96ecbd9be4ac"
  },
  "kernelspec": {
   "display_name": "Python 3.9.12 64-bit",
   "language": "python",
   "name": "python3"
  },
  "language_info": {
   "codemirror_mode": {
    "name": "ipython",
    "version": 3
   },
   "file_extension": ".py",
   "mimetype": "text/x-python",
   "name": "python",
   "nbconvert_exporter": "python",
   "pygments_lexer": "ipython3",
   "version": "3.9.12"
  },
  "orig_nbformat": 4
 },
 "nbformat": 4,
 "nbformat_minor": 2
}
