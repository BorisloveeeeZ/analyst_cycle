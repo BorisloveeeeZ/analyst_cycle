{
 "cells": [
  {
   "cell_type": "markdown",
   "metadata": {
    "pycharm": {
     "name": "#%% md\n"
    }
   },
   "source": [
    "# Проект e-commerce: \n",
    "Продакт-менеджер Василий попросил вас проанализировать совершенные покупки и ответить на следующие вопросы:\n",
    "\n",
    "1. Сколько у нас пользователей, которые совершили покупку только один раз? \n",
    "\n",
    "2. Сколько заказов в месяц в среднем не доставляется по разным причинам (вывести детализацию по причинам)? \n",
    "\n",
    "3. По каждому товару определить, в какой день недели товар чаще всего покупается. \n",
    "\n",
    "4. Сколько у каждого из пользователей в среднем покупок в неделю (по месяцам)? Не стоит забывать, что внутри месяца может быть не целое количество недель. Например, в ноябре 2021 года 4,28 недели. И внутри метрики это нужно учесть. \n",
    "\n",
    "5. Используя pandas, проведи когортный анализ пользователей. В период с января по декабрь выяви когорту с самым высоким retention на 3й месяц. \n",
    "\n",
    "6. Часто для качественного анализа аудитории использую подходы, основанные на сегментации. Используя python, построй RFM-сегментацию пользователей, чтобы качественно оценить свою аудиторию. В кластеризации можешь выбрать следующие метрики: R - время от последней покупки пользователя до текущей даты, F - суммарное количество покупок у пользователя за всё время, M - сумма покупок за всё время. Подробно опиши, как ты создавал кластеры. Для каждого RFM-сегмента построй границы метрик recency, frequency и monetary для интерпретации этих кластеров. Пример такого описания: RFM-сегмент 132 (recency=1, frequency=3, monetary=2) имеет границы метрик recency от 130 до 500 дней, frequency от 2 до 5 заказов в неделю, monetary от 1780 до 3560 рублей в неделю.  \n",
    "\n"
   ]
  },
  {
   "cell_type": "markdown",
   "metadata": {
    "pycharm": {
     "name": "#%% md\n"
    }
   },
   "source": [
    "## Файлы:\n",
    "\n",
    " olist_customers_datase.csv — таблица с уникальными идентификаторами пользователей\n",
    "customer_id — позаказный идентификатор пользователя\n",
    "\n",
    "customer_unique_id —  уникальный идентификатор пользователя  (аналог номера паспорта)\n",
    "\n",
    "customer_zip_code_prefix —  почтовый индекс пользователя\n",
    "\n",
    "customer_city —  город доставки пользователя\n",
    "\n",
    "customer_state —  штат доставки пользователя\n",
    "\n",
    "olist_orders_dataset.csv —  таблица заказов\n",
    "order_id —  уникальный идентификатор заказа (номер чека)\n",
    "\n",
    "customer_id —  позаказный идентификатор пользователя\n",
    "\n",
    "order_status —  статус заказа\n",
    "\n",
    "order_purchase_timestamp —  время создания заказа\n",
    "\n",
    "order_approved_at —  время подтверждения оплаты заказа\n",
    "\n",
    "order_delivered_carrier_date —  время передачи заказа в логистическую службу\n",
    "\n",
    "order_delivered_customer_date —  время доставки заказа\n",
    "\n",
    "order_estimated_delivery_date —  обещанная дата доставки\n",
    "\n",
    "olist_order_items_dataset.csv —  товарные позиции, входящие в заказы\n",
    "order_id —  уникальный идентификатор заказа (номер чека)\n",
    "\n",
    "order_item_id —  идентификатор товара внутри одного заказа\n",
    "\n",
    "product_id —  ид товара (аналог штрихкода)\n",
    "\n",
    "seller_id — ид производителя товара\n",
    "\n",
    "shipping_limit_date —  максимальная дата доставки продавцом для передачи заказа партнеру по логистике\n",
    "\n",
    "price —  цена за единицу товара\n",
    "\n",
    "freight_value —  вес товара\n",
    "\n",
    "— Пример структуры данных можно визуализировать по order_id == 00143d0f86d6fbd9f9b38ab440ac16f5\n",
    "\n",
    "Уникальные статусы заказов в таблице olist_orders_dataset:\n",
    "\n",
    "created —  создан\n",
    "approved —  подтверждён\n",
    "invoiced —  выставлен счёт\n",
    "processing —  в процессе сборки заказа\n",
    "shipped —  отгружен со склада\n",
    "delivered —  доставлен пользователю\n",
    "unavailable —  недоступен\n",
    "canceled —  отменён"
   ]
  },
  {
   "cell_type": "markdown",
   "metadata": {
    "pycharm": {
     "name": "#%% md\n"
    }
   },
   "source": [
    "# Загрузим данные"
   ]
  },
  {
   "cell_type": "code",
   "execution_count": 1,
   "metadata": {
    "pycharm": {
     "name": "#%%\n"
    }
   },
   "outputs": [],
   "source": [
    "import pandas as pd\n",
    "import seaborn as sns\n",
    "import numpy as np \n",
    "import matplotlib.pyplot as plt\n",
    "import datetime as dt\n",
    "from calendar import monthrange\n",
    "from pandasql import sqldf"
   ]
  },
  {
   "cell_type": "code",
   "execution_count": 2,
   "metadata": {
    "pycharm": {
     "name": "#%%\n"
    }
   },
   "outputs": [],
   "source": [
    "df1 = pd.read_csv('/home/borislav/Загрузки/olist_customers_dataset.csv')"
   ]
  },
  {
   "cell_type": "code",
   "execution_count": 3,
   "metadata": {
    "pycharm": {
     "name": "#%%\n"
    }
   },
   "outputs": [
    {
     "data": {
      "text/html": [
       "<div>\n",
       "<style scoped>\n",
       "    .dataframe tbody tr th:only-of-type {\n",
       "        vertical-align: middle;\n",
       "    }\n",
       "\n",
       "    .dataframe tbody tr th {\n",
       "        vertical-align: top;\n",
       "    }\n",
       "\n",
       "    .dataframe thead th {\n",
       "        text-align: right;\n",
       "    }\n",
       "</style>\n",
       "<table border=\"1\" class=\"dataframe\">\n",
       "  <thead>\n",
       "    <tr style=\"text-align: right;\">\n",
       "      <th></th>\n",
       "      <th>customer_id</th>\n",
       "      <th>customer_unique_id</th>\n",
       "      <th>customer_zip_code_prefix</th>\n",
       "      <th>customer_city</th>\n",
       "      <th>customer_state</th>\n",
       "    </tr>\n",
       "  </thead>\n",
       "  <tbody>\n",
       "    <tr>\n",
       "      <th>0</th>\n",
       "      <td>06b8999e2fba1a1fbc88172c00ba8bc7</td>\n",
       "      <td>861eff4711a542e4b93843c6dd7febb0</td>\n",
       "      <td>14409</td>\n",
       "      <td>franca</td>\n",
       "      <td>SP</td>\n",
       "    </tr>\n",
       "    <tr>\n",
       "      <th>1</th>\n",
       "      <td>18955e83d337fd6b2def6b18a428ac77</td>\n",
       "      <td>290c77bc529b7ac935b93aa66c333dc3</td>\n",
       "      <td>9790</td>\n",
       "      <td>sao bernardo do campo</td>\n",
       "      <td>SP</td>\n",
       "    </tr>\n",
       "    <tr>\n",
       "      <th>2</th>\n",
       "      <td>4e7b3e00288586ebd08712fdd0374a03</td>\n",
       "      <td>060e732b5b29e8181a18229c7b0b2b5e</td>\n",
       "      <td>1151</td>\n",
       "      <td>sao paulo</td>\n",
       "      <td>SP</td>\n",
       "    </tr>\n",
       "    <tr>\n",
       "      <th>3</th>\n",
       "      <td>b2b6027bc5c5109e529d4dc6358b12c3</td>\n",
       "      <td>259dac757896d24d7702b9acbbff3f3c</td>\n",
       "      <td>8775</td>\n",
       "      <td>mogi das cruzes</td>\n",
       "      <td>SP</td>\n",
       "    </tr>\n",
       "    <tr>\n",
       "      <th>4</th>\n",
       "      <td>4f2d8ab171c80ec8364f7c12e35b23ad</td>\n",
       "      <td>345ecd01c38d18a9036ed96c73b8d066</td>\n",
       "      <td>13056</td>\n",
       "      <td>campinas</td>\n",
       "      <td>SP</td>\n",
       "    </tr>\n",
       "  </tbody>\n",
       "</table>\n",
       "</div>"
      ],
      "text/plain": [
       "                        customer_id                customer_unique_id  \\\n",
       "0  06b8999e2fba1a1fbc88172c00ba8bc7  861eff4711a542e4b93843c6dd7febb0   \n",
       "1  18955e83d337fd6b2def6b18a428ac77  290c77bc529b7ac935b93aa66c333dc3   \n",
       "2  4e7b3e00288586ebd08712fdd0374a03  060e732b5b29e8181a18229c7b0b2b5e   \n",
       "3  b2b6027bc5c5109e529d4dc6358b12c3  259dac757896d24d7702b9acbbff3f3c   \n",
       "4  4f2d8ab171c80ec8364f7c12e35b23ad  345ecd01c38d18a9036ed96c73b8d066   \n",
       "\n",
       "   customer_zip_code_prefix          customer_city customer_state  \n",
       "0                     14409                 franca             SP  \n",
       "1                      9790  sao bernardo do campo             SP  \n",
       "2                      1151              sao paulo             SP  \n",
       "3                      8775        mogi das cruzes             SP  \n",
       "4                     13056               campinas             SP  "
      ]
     },
     "execution_count": 3,
     "metadata": {},
     "output_type": "execute_result"
    }
   ],
   "source": [
    "df1.head()"
   ]
  },
  {
   "cell_type": "code",
   "execution_count": 4,
   "metadata": {
    "pycharm": {
     "name": "#%%\n"
    }
   },
   "outputs": [],
   "source": [
    "df2 = pd.read_csv('/home/borislav/Загрузки/olist_orders_dataset.csv')\n"
   ]
  },
  {
   "cell_type": "code",
   "execution_count": 5,
   "metadata": {
    "pycharm": {
     "name": "#%%\n"
    }
   },
   "outputs": [
    {
     "data": {
      "text/html": [
       "<div>\n",
       "<style scoped>\n",
       "    .dataframe tbody tr th:only-of-type {\n",
       "        vertical-align: middle;\n",
       "    }\n",
       "\n",
       "    .dataframe tbody tr th {\n",
       "        vertical-align: top;\n",
       "    }\n",
       "\n",
       "    .dataframe thead th {\n",
       "        text-align: right;\n",
       "    }\n",
       "</style>\n",
       "<table border=\"1\" class=\"dataframe\">\n",
       "  <thead>\n",
       "    <tr style=\"text-align: right;\">\n",
       "      <th></th>\n",
       "      <th>order_id</th>\n",
       "      <th>customer_id</th>\n",
       "      <th>order_status</th>\n",
       "      <th>order_purchase_timestamp</th>\n",
       "      <th>order_approved_at</th>\n",
       "      <th>order_delivered_carrier_date</th>\n",
       "      <th>order_delivered_customer_date</th>\n",
       "      <th>order_estimated_delivery_date</th>\n",
       "    </tr>\n",
       "  </thead>\n",
       "  <tbody>\n",
       "    <tr>\n",
       "      <th>0</th>\n",
       "      <td>e481f51cbdc54678b7cc49136f2d6af7</td>\n",
       "      <td>9ef432eb6251297304e76186b10a928d</td>\n",
       "      <td>delivered</td>\n",
       "      <td>2017-10-02 10:56:33</td>\n",
       "      <td>2017-10-02 11:07:15</td>\n",
       "      <td>2017-10-04 19:55:00</td>\n",
       "      <td>2017-10-10 21:25:13</td>\n",
       "      <td>2017-10-18 00:00:00</td>\n",
       "    </tr>\n",
       "    <tr>\n",
       "      <th>1</th>\n",
       "      <td>53cdb2fc8bc7dce0b6741e2150273451</td>\n",
       "      <td>b0830fb4747a6c6d20dea0b8c802d7ef</td>\n",
       "      <td>delivered</td>\n",
       "      <td>2018-07-24 20:41:37</td>\n",
       "      <td>2018-07-26 03:24:27</td>\n",
       "      <td>2018-07-26 14:31:00</td>\n",
       "      <td>2018-08-07 15:27:45</td>\n",
       "      <td>2018-08-13 00:00:00</td>\n",
       "    </tr>\n",
       "    <tr>\n",
       "      <th>2</th>\n",
       "      <td>47770eb9100c2d0c44946d9cf07ec65d</td>\n",
       "      <td>41ce2a54c0b03bf3443c3d931a367089</td>\n",
       "      <td>delivered</td>\n",
       "      <td>2018-08-08 08:38:49</td>\n",
       "      <td>2018-08-08 08:55:23</td>\n",
       "      <td>2018-08-08 13:50:00</td>\n",
       "      <td>2018-08-17 18:06:29</td>\n",
       "      <td>2018-09-04 00:00:00</td>\n",
       "    </tr>\n",
       "    <tr>\n",
       "      <th>3</th>\n",
       "      <td>949d5b44dbf5de918fe9c16f97b45f8a</td>\n",
       "      <td>f88197465ea7920adcdbec7375364d82</td>\n",
       "      <td>delivered</td>\n",
       "      <td>2017-11-18 19:28:06</td>\n",
       "      <td>2017-11-18 19:45:59</td>\n",
       "      <td>2017-11-22 13:39:59</td>\n",
       "      <td>2017-12-02 00:28:42</td>\n",
       "      <td>2017-12-15 00:00:00</td>\n",
       "    </tr>\n",
       "    <tr>\n",
       "      <th>4</th>\n",
       "      <td>ad21c59c0840e6cb83a9ceb5573f8159</td>\n",
       "      <td>8ab97904e6daea8866dbdbc4fb7aad2c</td>\n",
       "      <td>delivered</td>\n",
       "      <td>2018-02-13 21:18:39</td>\n",
       "      <td>2018-02-13 22:20:29</td>\n",
       "      <td>2018-02-14 19:46:34</td>\n",
       "      <td>2018-02-16 18:17:02</td>\n",
       "      <td>2018-02-26 00:00:00</td>\n",
       "    </tr>\n",
       "  </tbody>\n",
       "</table>\n",
       "</div>"
      ],
      "text/plain": [
       "                           order_id                       customer_id  \\\n",
       "0  e481f51cbdc54678b7cc49136f2d6af7  9ef432eb6251297304e76186b10a928d   \n",
       "1  53cdb2fc8bc7dce0b6741e2150273451  b0830fb4747a6c6d20dea0b8c802d7ef   \n",
       "2  47770eb9100c2d0c44946d9cf07ec65d  41ce2a54c0b03bf3443c3d931a367089   \n",
       "3  949d5b44dbf5de918fe9c16f97b45f8a  f88197465ea7920adcdbec7375364d82   \n",
       "4  ad21c59c0840e6cb83a9ceb5573f8159  8ab97904e6daea8866dbdbc4fb7aad2c   \n",
       "\n",
       "  order_status order_purchase_timestamp    order_approved_at  \\\n",
       "0    delivered      2017-10-02 10:56:33  2017-10-02 11:07:15   \n",
       "1    delivered      2018-07-24 20:41:37  2018-07-26 03:24:27   \n",
       "2    delivered      2018-08-08 08:38:49  2018-08-08 08:55:23   \n",
       "3    delivered      2017-11-18 19:28:06  2017-11-18 19:45:59   \n",
       "4    delivered      2018-02-13 21:18:39  2018-02-13 22:20:29   \n",
       "\n",
       "  order_delivered_carrier_date order_delivered_customer_date  \\\n",
       "0          2017-10-04 19:55:00           2017-10-10 21:25:13   \n",
       "1          2018-07-26 14:31:00           2018-08-07 15:27:45   \n",
       "2          2018-08-08 13:50:00           2018-08-17 18:06:29   \n",
       "3          2017-11-22 13:39:59           2017-12-02 00:28:42   \n",
       "4          2018-02-14 19:46:34           2018-02-16 18:17:02   \n",
       "\n",
       "  order_estimated_delivery_date  \n",
       "0           2017-10-18 00:00:00  \n",
       "1           2018-08-13 00:00:00  \n",
       "2           2018-09-04 00:00:00  \n",
       "3           2017-12-15 00:00:00  \n",
       "4           2018-02-26 00:00:00  "
      ]
     },
     "execution_count": 5,
     "metadata": {},
     "output_type": "execute_result"
    }
   ],
   "source": [
    "df2.head()"
   ]
  },
  {
   "cell_type": "code",
   "execution_count": 6,
   "metadata": {
    "pycharm": {
     "name": "#%%\n"
    }
   },
   "outputs": [],
   "source": [
    "df3 = pd.read_csv('/home/borislav/Загрузки/olist_order_items_dataset.csv')\n"
   ]
  },
  {
   "cell_type": "code",
   "execution_count": 7,
   "metadata": {
    "pycharm": {
     "name": "#%%\n"
    }
   },
   "outputs": [
    {
     "data": {
      "text/html": [
       "<div>\n",
       "<style scoped>\n",
       "    .dataframe tbody tr th:only-of-type {\n",
       "        vertical-align: middle;\n",
       "    }\n",
       "\n",
       "    .dataframe tbody tr th {\n",
       "        vertical-align: top;\n",
       "    }\n",
       "\n",
       "    .dataframe thead th {\n",
       "        text-align: right;\n",
       "    }\n",
       "</style>\n",
       "<table border=\"1\" class=\"dataframe\">\n",
       "  <thead>\n",
       "    <tr style=\"text-align: right;\">\n",
       "      <th></th>\n",
       "      <th>order_id</th>\n",
       "      <th>order_item_id</th>\n",
       "      <th>product_id</th>\n",
       "      <th>seller_id</th>\n",
       "      <th>shipping_limit_date</th>\n",
       "      <th>price</th>\n",
       "      <th>freight_value</th>\n",
       "    </tr>\n",
       "  </thead>\n",
       "  <tbody>\n",
       "    <tr>\n",
       "      <th>0</th>\n",
       "      <td>00010242fe8c5a6d1ba2dd792cb16214</td>\n",
       "      <td>1</td>\n",
       "      <td>4244733e06e7ecb4970a6e2683c13e61</td>\n",
       "      <td>48436dade18ac8b2bce089ec2a041202</td>\n",
       "      <td>2017-09-19 09:45:35</td>\n",
       "      <td>58.90</td>\n",
       "      <td>13.29</td>\n",
       "    </tr>\n",
       "    <tr>\n",
       "      <th>1</th>\n",
       "      <td>00018f77f2f0320c557190d7a144bdd3</td>\n",
       "      <td>1</td>\n",
       "      <td>e5f2d52b802189ee658865ca93d83a8f</td>\n",
       "      <td>dd7ddc04e1b6c2c614352b383efe2d36</td>\n",
       "      <td>2017-05-03 11:05:13</td>\n",
       "      <td>239.90</td>\n",
       "      <td>19.93</td>\n",
       "    </tr>\n",
       "    <tr>\n",
       "      <th>2</th>\n",
       "      <td>000229ec398224ef6ca0657da4fc703e</td>\n",
       "      <td>1</td>\n",
       "      <td>c777355d18b72b67abbeef9df44fd0fd</td>\n",
       "      <td>5b51032eddd242adc84c38acab88f23d</td>\n",
       "      <td>2018-01-18 14:48:30</td>\n",
       "      <td>199.00</td>\n",
       "      <td>17.87</td>\n",
       "    </tr>\n",
       "    <tr>\n",
       "      <th>3</th>\n",
       "      <td>00024acbcdf0a6daa1e931b038114c75</td>\n",
       "      <td>1</td>\n",
       "      <td>7634da152a4610f1595efa32f14722fc</td>\n",
       "      <td>9d7a1d34a5052409006425275ba1c2b4</td>\n",
       "      <td>2018-08-15 10:10:18</td>\n",
       "      <td>12.99</td>\n",
       "      <td>12.79</td>\n",
       "    </tr>\n",
       "    <tr>\n",
       "      <th>4</th>\n",
       "      <td>00042b26cf59d7ce69dfabb4e55b4fd9</td>\n",
       "      <td>1</td>\n",
       "      <td>ac6c3623068f30de03045865e4e10089</td>\n",
       "      <td>df560393f3a51e74553ab94004ba5c87</td>\n",
       "      <td>2017-02-13 13:57:51</td>\n",
       "      <td>199.90</td>\n",
       "      <td>18.14</td>\n",
       "    </tr>\n",
       "  </tbody>\n",
       "</table>\n",
       "</div>"
      ],
      "text/plain": [
       "                           order_id  order_item_id  \\\n",
       "0  00010242fe8c5a6d1ba2dd792cb16214              1   \n",
       "1  00018f77f2f0320c557190d7a144bdd3              1   \n",
       "2  000229ec398224ef6ca0657da4fc703e              1   \n",
       "3  00024acbcdf0a6daa1e931b038114c75              1   \n",
       "4  00042b26cf59d7ce69dfabb4e55b4fd9              1   \n",
       "\n",
       "                         product_id                         seller_id  \\\n",
       "0  4244733e06e7ecb4970a6e2683c13e61  48436dade18ac8b2bce089ec2a041202   \n",
       "1  e5f2d52b802189ee658865ca93d83a8f  dd7ddc04e1b6c2c614352b383efe2d36   \n",
       "2  c777355d18b72b67abbeef9df44fd0fd  5b51032eddd242adc84c38acab88f23d   \n",
       "3  7634da152a4610f1595efa32f14722fc  9d7a1d34a5052409006425275ba1c2b4   \n",
       "4  ac6c3623068f30de03045865e4e10089  df560393f3a51e74553ab94004ba5c87   \n",
       "\n",
       "   shipping_limit_date   price  freight_value  \n",
       "0  2017-09-19 09:45:35   58.90          13.29  \n",
       "1  2017-05-03 11:05:13  239.90          19.93  \n",
       "2  2018-01-18 14:48:30  199.00          17.87  \n",
       "3  2018-08-15 10:10:18   12.99          12.79  \n",
       "4  2017-02-13 13:57:51  199.90          18.14  "
      ]
     },
     "execution_count": 7,
     "metadata": {},
     "output_type": "execute_result"
    }
   ],
   "source": [
    "df3.head()"
   ]
  },
  {
   "cell_type": "markdown",
   "metadata": {
    "pycharm": {
     "name": "#%% md\n"
    }
   },
   "source": [
    "Объединим их в единый датафрейм , с которым потом будем работать"
   ]
  },
  {
   "cell_type": "code",
   "execution_count": 8,
   "metadata": {
    "pycharm": {
     "name": "#%%\n"
    }
   },
   "outputs": [
    {
     "data": {
      "text/html": [
       "<div>\n",
       "<style scoped>\n",
       "    .dataframe tbody tr th:only-of-type {\n",
       "        vertical-align: middle;\n",
       "    }\n",
       "\n",
       "    .dataframe tbody tr th {\n",
       "        vertical-align: top;\n",
       "    }\n",
       "\n",
       "    .dataframe thead th {\n",
       "        text-align: right;\n",
       "    }\n",
       "</style>\n",
       "<table border=\"1\" class=\"dataframe\">\n",
       "  <thead>\n",
       "    <tr style=\"text-align: right;\">\n",
       "      <th></th>\n",
       "      <th>customer_id</th>\n",
       "      <th>customer_unique_id</th>\n",
       "      <th>customer_zip_code_prefix</th>\n",
       "      <th>customer_city</th>\n",
       "      <th>customer_state</th>\n",
       "      <th>order_id</th>\n",
       "      <th>order_status</th>\n",
       "      <th>order_purchase_timestamp</th>\n",
       "      <th>order_approved_at</th>\n",
       "      <th>order_delivered_carrier_date</th>\n",
       "      <th>order_delivered_customer_date</th>\n",
       "      <th>order_estimated_delivery_date</th>\n",
       "    </tr>\n",
       "  </thead>\n",
       "  <tbody>\n",
       "    <tr>\n",
       "      <th>0</th>\n",
       "      <td>06b8999e2fba1a1fbc88172c00ba8bc7</td>\n",
       "      <td>861eff4711a542e4b93843c6dd7febb0</td>\n",
       "      <td>14409</td>\n",
       "      <td>franca</td>\n",
       "      <td>SP</td>\n",
       "      <td>00e7ee1b050b8499577073aeb2a297a1</td>\n",
       "      <td>delivered</td>\n",
       "      <td>2017-05-16 15:05:35</td>\n",
       "      <td>2017-05-16 15:22:12</td>\n",
       "      <td>2017-05-23 10:47:57</td>\n",
       "      <td>2017-05-25 10:35:35</td>\n",
       "      <td>2017-06-05 00:00:00</td>\n",
       "    </tr>\n",
       "    <tr>\n",
       "      <th>1</th>\n",
       "      <td>18955e83d337fd6b2def6b18a428ac77</td>\n",
       "      <td>290c77bc529b7ac935b93aa66c333dc3</td>\n",
       "      <td>9790</td>\n",
       "      <td>sao bernardo do campo</td>\n",
       "      <td>SP</td>\n",
       "      <td>29150127e6685892b6eab3eec79f59c7</td>\n",
       "      <td>delivered</td>\n",
       "      <td>2018-01-12 20:48:24</td>\n",
       "      <td>2018-01-12 20:58:32</td>\n",
       "      <td>2018-01-15 17:14:59</td>\n",
       "      <td>2018-01-29 12:41:19</td>\n",
       "      <td>2018-02-06 00:00:00</td>\n",
       "    </tr>\n",
       "    <tr>\n",
       "      <th>2</th>\n",
       "      <td>4e7b3e00288586ebd08712fdd0374a03</td>\n",
       "      <td>060e732b5b29e8181a18229c7b0b2b5e</td>\n",
       "      <td>1151</td>\n",
       "      <td>sao paulo</td>\n",
       "      <td>SP</td>\n",
       "      <td>b2059ed67ce144a36e2aa97d2c9e9ad2</td>\n",
       "      <td>delivered</td>\n",
       "      <td>2018-05-19 16:07:45</td>\n",
       "      <td>2018-05-20 16:19:10</td>\n",
       "      <td>2018-06-11 14:31:00</td>\n",
       "      <td>2018-06-14 17:58:51</td>\n",
       "      <td>2018-06-13 00:00:00</td>\n",
       "    </tr>\n",
       "    <tr>\n",
       "      <th>3</th>\n",
       "      <td>b2b6027bc5c5109e529d4dc6358b12c3</td>\n",
       "      <td>259dac757896d24d7702b9acbbff3f3c</td>\n",
       "      <td>8775</td>\n",
       "      <td>mogi das cruzes</td>\n",
       "      <td>SP</td>\n",
       "      <td>951670f92359f4fe4a63112aa7306eba</td>\n",
       "      <td>delivered</td>\n",
       "      <td>2018-03-13 16:06:38</td>\n",
       "      <td>2018-03-13 17:29:19</td>\n",
       "      <td>2018-03-27 23:22:42</td>\n",
       "      <td>2018-03-28 16:04:25</td>\n",
       "      <td>2018-04-10 00:00:00</td>\n",
       "    </tr>\n",
       "    <tr>\n",
       "      <th>4</th>\n",
       "      <td>4f2d8ab171c80ec8364f7c12e35b23ad</td>\n",
       "      <td>345ecd01c38d18a9036ed96c73b8d066</td>\n",
       "      <td>13056</td>\n",
       "      <td>campinas</td>\n",
       "      <td>SP</td>\n",
       "      <td>6b7d50bd145f6fc7f33cebabd7e49d0f</td>\n",
       "      <td>delivered</td>\n",
       "      <td>2018-07-29 09:51:30</td>\n",
       "      <td>2018-07-29 10:10:09</td>\n",
       "      <td>2018-07-30 15:16:00</td>\n",
       "      <td>2018-08-09 20:55:48</td>\n",
       "      <td>2018-08-15 00:00:00</td>\n",
       "    </tr>\n",
       "    <tr>\n",
       "      <th>...</th>\n",
       "      <td>...</td>\n",
       "      <td>...</td>\n",
       "      <td>...</td>\n",
       "      <td>...</td>\n",
       "      <td>...</td>\n",
       "      <td>...</td>\n",
       "      <td>...</td>\n",
       "      <td>...</td>\n",
       "      <td>...</td>\n",
       "      <td>...</td>\n",
       "      <td>...</td>\n",
       "      <td>...</td>\n",
       "    </tr>\n",
       "    <tr>\n",
       "      <th>99436</th>\n",
       "      <td>17ddf5dd5d51696bb3d7c6291687be6f</td>\n",
       "      <td>1a29b476fee25c95fbafc67c5ac95cf8</td>\n",
       "      <td>3937</td>\n",
       "      <td>sao paulo</td>\n",
       "      <td>SP</td>\n",
       "      <td>6760e20addcf0121e9d58f2f1ff14298</td>\n",
       "      <td>delivered</td>\n",
       "      <td>2018-04-07 15:48:17</td>\n",
       "      <td>2018-04-07 16:08:45</td>\n",
       "      <td>2018-04-11 02:08:36</td>\n",
       "      <td>2018-04-13 20:06:37</td>\n",
       "      <td>2018-04-25 00:00:00</td>\n",
       "    </tr>\n",
       "    <tr>\n",
       "      <th>99437</th>\n",
       "      <td>e7b71a9017aa05c9a7fd292d714858e8</td>\n",
       "      <td>d52a67c98be1cf6a5c84435bd38d095d</td>\n",
       "      <td>6764</td>\n",
       "      <td>taboao da serra</td>\n",
       "      <td>SP</td>\n",
       "      <td>9ec0c8947d973db4f4e8dcf1fbfa8f1b</td>\n",
       "      <td>delivered</td>\n",
       "      <td>2018-04-04 08:20:22</td>\n",
       "      <td>2018-04-04 08:35:12</td>\n",
       "      <td>2018-04-05 18:42:35</td>\n",
       "      <td>2018-04-11 18:54:45</td>\n",
       "      <td>2018-04-20 00:00:00</td>\n",
       "    </tr>\n",
       "    <tr>\n",
       "      <th>99438</th>\n",
       "      <td>5e28dfe12db7fb50a4b2f691faecea5e</td>\n",
       "      <td>e9f50caf99f032f0bf3c55141f019d99</td>\n",
       "      <td>60115</td>\n",
       "      <td>fortaleza</td>\n",
       "      <td>CE</td>\n",
       "      <td>fed4434add09a6f332ea398efd656a5c</td>\n",
       "      <td>delivered</td>\n",
       "      <td>2018-04-08 20:11:50</td>\n",
       "      <td>2018-04-08 20:30:03</td>\n",
       "      <td>2018-04-09 17:52:17</td>\n",
       "      <td>2018-05-09 19:03:15</td>\n",
       "      <td>2018-05-02 00:00:00</td>\n",
       "    </tr>\n",
       "    <tr>\n",
       "      <th>99439</th>\n",
       "      <td>56b18e2166679b8a959d72dd06da27f9</td>\n",
       "      <td>73c2643a0a458b49f58cea58833b192e</td>\n",
       "      <td>92120</td>\n",
       "      <td>canoas</td>\n",
       "      <td>RS</td>\n",
       "      <td>e31ec91cea1ecf97797787471f98a8c2</td>\n",
       "      <td>delivered</td>\n",
       "      <td>2017-11-03 21:08:33</td>\n",
       "      <td>2017-11-03 21:31:20</td>\n",
       "      <td>2017-11-06 18:24:41</td>\n",
       "      <td>2017-11-16 19:58:39</td>\n",
       "      <td>2017-12-05 00:00:00</td>\n",
       "    </tr>\n",
       "    <tr>\n",
       "      <th>99440</th>\n",
       "      <td>274fa6071e5e17fe303b9748641082c8</td>\n",
       "      <td>84732c5050c01db9b23e19ba39899398</td>\n",
       "      <td>6703</td>\n",
       "      <td>cotia</td>\n",
       "      <td>SP</td>\n",
       "      <td>28db69209a75e59f20ccbb5c36a20b90</td>\n",
       "      <td>delivered</td>\n",
       "      <td>2017-12-19 14:27:23</td>\n",
       "      <td>2017-12-19 18:50:39</td>\n",
       "      <td>2017-12-21 19:17:21</td>\n",
       "      <td>2017-12-26 18:42:36</td>\n",
       "      <td>2018-01-08 00:00:00</td>\n",
       "    </tr>\n",
       "  </tbody>\n",
       "</table>\n",
       "<p>99441 rows × 12 columns</p>\n",
       "</div>"
      ],
      "text/plain": [
       "                            customer_id                customer_unique_id  \\\n",
       "0      06b8999e2fba1a1fbc88172c00ba8bc7  861eff4711a542e4b93843c6dd7febb0   \n",
       "1      18955e83d337fd6b2def6b18a428ac77  290c77bc529b7ac935b93aa66c333dc3   \n",
       "2      4e7b3e00288586ebd08712fdd0374a03  060e732b5b29e8181a18229c7b0b2b5e   \n",
       "3      b2b6027bc5c5109e529d4dc6358b12c3  259dac757896d24d7702b9acbbff3f3c   \n",
       "4      4f2d8ab171c80ec8364f7c12e35b23ad  345ecd01c38d18a9036ed96c73b8d066   \n",
       "...                                 ...                               ...   \n",
       "99436  17ddf5dd5d51696bb3d7c6291687be6f  1a29b476fee25c95fbafc67c5ac95cf8   \n",
       "99437  e7b71a9017aa05c9a7fd292d714858e8  d52a67c98be1cf6a5c84435bd38d095d   \n",
       "99438  5e28dfe12db7fb50a4b2f691faecea5e  e9f50caf99f032f0bf3c55141f019d99   \n",
       "99439  56b18e2166679b8a959d72dd06da27f9  73c2643a0a458b49f58cea58833b192e   \n",
       "99440  274fa6071e5e17fe303b9748641082c8  84732c5050c01db9b23e19ba39899398   \n",
       "\n",
       "       customer_zip_code_prefix          customer_city customer_state  \\\n",
       "0                         14409                 franca             SP   \n",
       "1                          9790  sao bernardo do campo             SP   \n",
       "2                          1151              sao paulo             SP   \n",
       "3                          8775        mogi das cruzes             SP   \n",
       "4                         13056               campinas             SP   \n",
       "...                         ...                    ...            ...   \n",
       "99436                      3937              sao paulo             SP   \n",
       "99437                      6764        taboao da serra             SP   \n",
       "99438                     60115              fortaleza             CE   \n",
       "99439                     92120                 canoas             RS   \n",
       "99440                      6703                  cotia             SP   \n",
       "\n",
       "                               order_id order_status order_purchase_timestamp  \\\n",
       "0      00e7ee1b050b8499577073aeb2a297a1    delivered      2017-05-16 15:05:35   \n",
       "1      29150127e6685892b6eab3eec79f59c7    delivered      2018-01-12 20:48:24   \n",
       "2      b2059ed67ce144a36e2aa97d2c9e9ad2    delivered      2018-05-19 16:07:45   \n",
       "3      951670f92359f4fe4a63112aa7306eba    delivered      2018-03-13 16:06:38   \n",
       "4      6b7d50bd145f6fc7f33cebabd7e49d0f    delivered      2018-07-29 09:51:30   \n",
       "...                                 ...          ...                      ...   \n",
       "99436  6760e20addcf0121e9d58f2f1ff14298    delivered      2018-04-07 15:48:17   \n",
       "99437  9ec0c8947d973db4f4e8dcf1fbfa8f1b    delivered      2018-04-04 08:20:22   \n",
       "99438  fed4434add09a6f332ea398efd656a5c    delivered      2018-04-08 20:11:50   \n",
       "99439  e31ec91cea1ecf97797787471f98a8c2    delivered      2017-11-03 21:08:33   \n",
       "99440  28db69209a75e59f20ccbb5c36a20b90    delivered      2017-12-19 14:27:23   \n",
       "\n",
       "         order_approved_at order_delivered_carrier_date  \\\n",
       "0      2017-05-16 15:22:12          2017-05-23 10:47:57   \n",
       "1      2018-01-12 20:58:32          2018-01-15 17:14:59   \n",
       "2      2018-05-20 16:19:10          2018-06-11 14:31:00   \n",
       "3      2018-03-13 17:29:19          2018-03-27 23:22:42   \n",
       "4      2018-07-29 10:10:09          2018-07-30 15:16:00   \n",
       "...                    ...                          ...   \n",
       "99436  2018-04-07 16:08:45          2018-04-11 02:08:36   \n",
       "99437  2018-04-04 08:35:12          2018-04-05 18:42:35   \n",
       "99438  2018-04-08 20:30:03          2018-04-09 17:52:17   \n",
       "99439  2017-11-03 21:31:20          2017-11-06 18:24:41   \n",
       "99440  2017-12-19 18:50:39          2017-12-21 19:17:21   \n",
       "\n",
       "      order_delivered_customer_date order_estimated_delivery_date  \n",
       "0               2017-05-25 10:35:35           2017-06-05 00:00:00  \n",
       "1               2018-01-29 12:41:19           2018-02-06 00:00:00  \n",
       "2               2018-06-14 17:58:51           2018-06-13 00:00:00  \n",
       "3               2018-03-28 16:04:25           2018-04-10 00:00:00  \n",
       "4               2018-08-09 20:55:48           2018-08-15 00:00:00  \n",
       "...                             ...                           ...  \n",
       "99436           2018-04-13 20:06:37           2018-04-25 00:00:00  \n",
       "99437           2018-04-11 18:54:45           2018-04-20 00:00:00  \n",
       "99438           2018-05-09 19:03:15           2018-05-02 00:00:00  \n",
       "99439           2017-11-16 19:58:39           2017-12-05 00:00:00  \n",
       "99440           2017-12-26 18:42:36           2018-01-08 00:00:00  \n",
       "\n",
       "[99441 rows x 12 columns]"
      ]
     },
     "execution_count": 8,
     "metadata": {},
     "output_type": "execute_result"
    }
   ],
   "source": [
    "df = df1.merge(df2, how = 'inner', on = 'customer_id')\n",
    "df"
   ]
  },
  {
   "cell_type": "code",
   "execution_count": 9,
   "metadata": {
    "pycharm": {
     "name": "#%%\n"
    }
   },
   "outputs": [],
   "source": [
    "df = df.merge(df3, how = 'left', on = 'order_id')\n"
   ]
  },
  {
   "cell_type": "markdown",
   "metadata": {
    "pycharm": {
     "name": "#%% md\n"
    }
   },
   "source": [
    "# Обработка данных"
   ]
  },
  {
   "cell_type": "code",
   "execution_count": 10,
   "metadata": {
    "pycharm": {
     "name": "#%%\n"
    }
   },
   "outputs": [
    {
     "data": {
      "text/html": [
       "<div>\n",
       "<style scoped>\n",
       "    .dataframe tbody tr th:only-of-type {\n",
       "        vertical-align: middle;\n",
       "    }\n",
       "\n",
       "    .dataframe tbody tr th {\n",
       "        vertical-align: top;\n",
       "    }\n",
       "\n",
       "    .dataframe thead th {\n",
       "        text-align: right;\n",
       "    }\n",
       "</style>\n",
       "<table border=\"1\" class=\"dataframe\">\n",
       "  <thead>\n",
       "    <tr style=\"text-align: right;\">\n",
       "      <th></th>\n",
       "      <th>customer_id</th>\n",
       "      <th>customer_unique_id</th>\n",
       "      <th>customer_zip_code_prefix</th>\n",
       "      <th>customer_city</th>\n",
       "      <th>customer_state</th>\n",
       "      <th>order_id</th>\n",
       "      <th>order_status</th>\n",
       "      <th>order_purchase_timestamp</th>\n",
       "      <th>order_approved_at</th>\n",
       "      <th>order_delivered_carrier_date</th>\n",
       "      <th>order_delivered_customer_date</th>\n",
       "      <th>order_estimated_delivery_date</th>\n",
       "      <th>order_item_id</th>\n",
       "      <th>product_id</th>\n",
       "      <th>seller_id</th>\n",
       "      <th>shipping_limit_date</th>\n",
       "      <th>price</th>\n",
       "      <th>freight_value</th>\n",
       "    </tr>\n",
       "  </thead>\n",
       "  <tbody>\n",
       "    <tr>\n",
       "      <th>0</th>\n",
       "      <td>06b8999e2fba1a1fbc88172c00ba8bc7</td>\n",
       "      <td>861eff4711a542e4b93843c6dd7febb0</td>\n",
       "      <td>14409</td>\n",
       "      <td>franca</td>\n",
       "      <td>SP</td>\n",
       "      <td>00e7ee1b050b8499577073aeb2a297a1</td>\n",
       "      <td>delivered</td>\n",
       "      <td>2017-05-16 15:05:35</td>\n",
       "      <td>2017-05-16 15:22:12</td>\n",
       "      <td>2017-05-23 10:47:57</td>\n",
       "      <td>2017-05-25 10:35:35</td>\n",
       "      <td>2017-06-05 00:00:00</td>\n",
       "      <td>1.0</td>\n",
       "      <td>a9516a079e37a9c9c36b9b78b10169e8</td>\n",
       "      <td>7c67e1448b00f6e969d365cea6b010ab</td>\n",
       "      <td>2017-05-22 15:22:12</td>\n",
       "      <td>124.99</td>\n",
       "      <td>21.88</td>\n",
       "    </tr>\n",
       "    <tr>\n",
       "      <th>1</th>\n",
       "      <td>18955e83d337fd6b2def6b18a428ac77</td>\n",
       "      <td>290c77bc529b7ac935b93aa66c333dc3</td>\n",
       "      <td>9790</td>\n",
       "      <td>sao bernardo do campo</td>\n",
       "      <td>SP</td>\n",
       "      <td>29150127e6685892b6eab3eec79f59c7</td>\n",
       "      <td>delivered</td>\n",
       "      <td>2018-01-12 20:48:24</td>\n",
       "      <td>2018-01-12 20:58:32</td>\n",
       "      <td>2018-01-15 17:14:59</td>\n",
       "      <td>2018-01-29 12:41:19</td>\n",
       "      <td>2018-02-06 00:00:00</td>\n",
       "      <td>1.0</td>\n",
       "      <td>4aa6014eceb682077f9dc4bffebc05b0</td>\n",
       "      <td>b8bc237ba3788b23da09c0f1f3a3288c</td>\n",
       "      <td>2018-01-18 20:58:32</td>\n",
       "      <td>289.00</td>\n",
       "      <td>46.48</td>\n",
       "    </tr>\n",
       "    <tr>\n",
       "      <th>2</th>\n",
       "      <td>4e7b3e00288586ebd08712fdd0374a03</td>\n",
       "      <td>060e732b5b29e8181a18229c7b0b2b5e</td>\n",
       "      <td>1151</td>\n",
       "      <td>sao paulo</td>\n",
       "      <td>SP</td>\n",
       "      <td>b2059ed67ce144a36e2aa97d2c9e9ad2</td>\n",
       "      <td>delivered</td>\n",
       "      <td>2018-05-19 16:07:45</td>\n",
       "      <td>2018-05-20 16:19:10</td>\n",
       "      <td>2018-06-11 14:31:00</td>\n",
       "      <td>2018-06-14 17:58:51</td>\n",
       "      <td>2018-06-13 00:00:00</td>\n",
       "      <td>1.0</td>\n",
       "      <td>bd07b66896d6f1494f5b86251848ced7</td>\n",
       "      <td>7c67e1448b00f6e969d365cea6b010ab</td>\n",
       "      <td>2018-06-05 16:19:10</td>\n",
       "      <td>139.94</td>\n",
       "      <td>17.79</td>\n",
       "    </tr>\n",
       "    <tr>\n",
       "      <th>3</th>\n",
       "      <td>b2b6027bc5c5109e529d4dc6358b12c3</td>\n",
       "      <td>259dac757896d24d7702b9acbbff3f3c</td>\n",
       "      <td>8775</td>\n",
       "      <td>mogi das cruzes</td>\n",
       "      <td>SP</td>\n",
       "      <td>951670f92359f4fe4a63112aa7306eba</td>\n",
       "      <td>delivered</td>\n",
       "      <td>2018-03-13 16:06:38</td>\n",
       "      <td>2018-03-13 17:29:19</td>\n",
       "      <td>2018-03-27 23:22:42</td>\n",
       "      <td>2018-03-28 16:04:25</td>\n",
       "      <td>2018-04-10 00:00:00</td>\n",
       "      <td>1.0</td>\n",
       "      <td>a5647c44af977b148e0a3a4751a09e2e</td>\n",
       "      <td>7c67e1448b00f6e969d365cea6b010ab</td>\n",
       "      <td>2018-03-27 16:31:16</td>\n",
       "      <td>149.94</td>\n",
       "      <td>23.36</td>\n",
       "    </tr>\n",
       "    <tr>\n",
       "      <th>4</th>\n",
       "      <td>4f2d8ab171c80ec8364f7c12e35b23ad</td>\n",
       "      <td>345ecd01c38d18a9036ed96c73b8d066</td>\n",
       "      <td>13056</td>\n",
       "      <td>campinas</td>\n",
       "      <td>SP</td>\n",
       "      <td>6b7d50bd145f6fc7f33cebabd7e49d0f</td>\n",
       "      <td>delivered</td>\n",
       "      <td>2018-07-29 09:51:30</td>\n",
       "      <td>2018-07-29 10:10:09</td>\n",
       "      <td>2018-07-30 15:16:00</td>\n",
       "      <td>2018-08-09 20:55:48</td>\n",
       "      <td>2018-08-15 00:00:00</td>\n",
       "      <td>1.0</td>\n",
       "      <td>9391a573abe00141c56e38d84d7d5b3b</td>\n",
       "      <td>4a3ca9315b744ce9f8e9374361493884</td>\n",
       "      <td>2018-07-31 10:10:09</td>\n",
       "      <td>230.00</td>\n",
       "      <td>22.25</td>\n",
       "    </tr>\n",
       "  </tbody>\n",
       "</table>\n",
       "</div>"
      ],
      "text/plain": [
       "                        customer_id                customer_unique_id  \\\n",
       "0  06b8999e2fba1a1fbc88172c00ba8bc7  861eff4711a542e4b93843c6dd7febb0   \n",
       "1  18955e83d337fd6b2def6b18a428ac77  290c77bc529b7ac935b93aa66c333dc3   \n",
       "2  4e7b3e00288586ebd08712fdd0374a03  060e732b5b29e8181a18229c7b0b2b5e   \n",
       "3  b2b6027bc5c5109e529d4dc6358b12c3  259dac757896d24d7702b9acbbff3f3c   \n",
       "4  4f2d8ab171c80ec8364f7c12e35b23ad  345ecd01c38d18a9036ed96c73b8d066   \n",
       "\n",
       "   customer_zip_code_prefix          customer_city customer_state  \\\n",
       "0                     14409                 franca             SP   \n",
       "1                      9790  sao bernardo do campo             SP   \n",
       "2                      1151              sao paulo             SP   \n",
       "3                      8775        mogi das cruzes             SP   \n",
       "4                     13056               campinas             SP   \n",
       "\n",
       "                           order_id order_status order_purchase_timestamp  \\\n",
       "0  00e7ee1b050b8499577073aeb2a297a1    delivered      2017-05-16 15:05:35   \n",
       "1  29150127e6685892b6eab3eec79f59c7    delivered      2018-01-12 20:48:24   \n",
       "2  b2059ed67ce144a36e2aa97d2c9e9ad2    delivered      2018-05-19 16:07:45   \n",
       "3  951670f92359f4fe4a63112aa7306eba    delivered      2018-03-13 16:06:38   \n",
       "4  6b7d50bd145f6fc7f33cebabd7e49d0f    delivered      2018-07-29 09:51:30   \n",
       "\n",
       "     order_approved_at order_delivered_carrier_date  \\\n",
       "0  2017-05-16 15:22:12          2017-05-23 10:47:57   \n",
       "1  2018-01-12 20:58:32          2018-01-15 17:14:59   \n",
       "2  2018-05-20 16:19:10          2018-06-11 14:31:00   \n",
       "3  2018-03-13 17:29:19          2018-03-27 23:22:42   \n",
       "4  2018-07-29 10:10:09          2018-07-30 15:16:00   \n",
       "\n",
       "  order_delivered_customer_date order_estimated_delivery_date  order_item_id  \\\n",
       "0           2017-05-25 10:35:35           2017-06-05 00:00:00            1.0   \n",
       "1           2018-01-29 12:41:19           2018-02-06 00:00:00            1.0   \n",
       "2           2018-06-14 17:58:51           2018-06-13 00:00:00            1.0   \n",
       "3           2018-03-28 16:04:25           2018-04-10 00:00:00            1.0   \n",
       "4           2018-08-09 20:55:48           2018-08-15 00:00:00            1.0   \n",
       "\n",
       "                         product_id                         seller_id  \\\n",
       "0  a9516a079e37a9c9c36b9b78b10169e8  7c67e1448b00f6e969d365cea6b010ab   \n",
       "1  4aa6014eceb682077f9dc4bffebc05b0  b8bc237ba3788b23da09c0f1f3a3288c   \n",
       "2  bd07b66896d6f1494f5b86251848ced7  7c67e1448b00f6e969d365cea6b010ab   \n",
       "3  a5647c44af977b148e0a3a4751a09e2e  7c67e1448b00f6e969d365cea6b010ab   \n",
       "4  9391a573abe00141c56e38d84d7d5b3b  4a3ca9315b744ce9f8e9374361493884   \n",
       "\n",
       "   shipping_limit_date   price  freight_value  \n",
       "0  2017-05-22 15:22:12  124.99          21.88  \n",
       "1  2018-01-18 20:58:32  289.00          46.48  \n",
       "2  2018-06-05 16:19:10  139.94          17.79  \n",
       "3  2018-03-27 16:31:16  149.94          23.36  \n",
       "4  2018-07-31 10:10:09  230.00          22.25  "
      ]
     },
     "execution_count": 10,
     "metadata": {},
     "output_type": "execute_result"
    }
   ],
   "source": [
    "df.head()"
   ]
  },
  {
   "cell_type": "code",
   "execution_count": 11,
   "metadata": {
    "pycharm": {
     "name": "#%%\n"
    }
   },
   "outputs": [
    {
     "data": {
      "text/plain": [
       "customer_id                       object\n",
       "customer_unique_id                object\n",
       "customer_zip_code_prefix           int64\n",
       "customer_city                     object\n",
       "customer_state                    object\n",
       "order_id                          object\n",
       "order_status                      object\n",
       "order_purchase_timestamp          object\n",
       "order_approved_at                 object\n",
       "order_delivered_carrier_date      object\n",
       "order_delivered_customer_date     object\n",
       "order_estimated_delivery_date     object\n",
       "order_item_id                    float64\n",
       "product_id                        object\n",
       "seller_id                         object\n",
       "shipping_limit_date               object\n",
       "price                            float64\n",
       "freight_value                    float64\n",
       "dtype: object"
      ]
     },
     "execution_count": 11,
     "metadata": {},
     "output_type": "execute_result"
    }
   ],
   "source": [
    "#Посмотрим на типы данных\n",
    "df.dtypes"
   ]
  },
  {
   "cell_type": "code",
   "execution_count": 12,
   "metadata": {
    "pycharm": {
     "name": "#%%\n"
    }
   },
   "outputs": [],
   "source": [
    "#Приведем даты к нужному типу \n",
    "df['order_delivered_customer_date'] = pd.to_datetime(df['order_delivered_customer_date'])\n",
    "df['order_estimated_delivery_date'] = pd.to_datetime(df['order_estimated_delivery_date'])\n",
    "df['order_approved_at'] = pd.to_datetime(df['order_approved_at'])"
   ]
  },
  {
   "cell_type": "code",
   "execution_count": 13,
   "metadata": {
    "pycharm": {
     "name": "#%%\n"
    }
   },
   "outputs": [
    {
     "data": {
      "text/plain": [
       "customer_id                      0.000000\n",
       "customer_unique_id               0.000000\n",
       "customer_zip_code_prefix         0.000000\n",
       "customer_city                    0.000000\n",
       "customer_state                   0.000000\n",
       "order_id                         0.000000\n",
       "order_status                     0.000000\n",
       "order_purchase_timestamp         0.000000\n",
       "order_approved_at                0.001419\n",
       "order_delivered_carrier_date     0.017351\n",
       "order_delivered_customer_date    0.028468\n",
       "order_estimated_delivery_date    0.000000\n",
       "order_item_id                    0.006833\n",
       "product_id                       0.006833\n",
       "seller_id                        0.006833\n",
       "shipping_limit_date              0.006833\n",
       "price                            0.006833\n",
       "freight_value                    0.006833\n",
       "dtype: float64"
      ]
     },
     "execution_count": 13,
     "metadata": {},
     "output_type": "execute_result"
    }
   ],
   "source": [
    "#Посмотрим число пропусков в колонке\n",
    "df.isna().mean()\n"
   ]
  },
  {
   "cell_type": "markdown",
   "metadata": {
    "pycharm": {
     "name": "#%% md\n"
    }
   },
   "source": [
    "# Задание 1"
   ]
  },
  {
   "cell_type": "markdown",
   "metadata": {
    "pycharm": {
     "name": "#%% md\n"
    }
   },
   "source": [
    "Сколько у нас пользователей, которые совершили покупку только один раз?  \n"
   ]
  },
  {
   "cell_type": "markdown",
   "metadata": {
    "pycharm": {
     "name": "#%% md\n"
    }
   },
   "source": [
    "Посмотрим на пользователей, у которых пустые заказы"
   ]
  },
  {
   "cell_type": "code",
   "execution_count": 14,
   "metadata": {
    "pycharm": {
     "name": "#%%\n"
    }
   },
   "outputs": [],
   "source": [
    "task1 = df.copy()"
   ]
  },
  {
   "cell_type": "code",
   "execution_count": 15,
   "metadata": {
    "pycharm": {
     "name": "#%%\n"
    }
   },
   "outputs": [
    {
     "data": {
      "text/html": [
       "<div>\n",
       "<style scoped>\n",
       "    .dataframe tbody tr th:only-of-type {\n",
       "        vertical-align: middle;\n",
       "    }\n",
       "\n",
       "    .dataframe tbody tr th {\n",
       "        vertical-align: top;\n",
       "    }\n",
       "\n",
       "    .dataframe thead th {\n",
       "        text-align: right;\n",
       "    }\n",
       "</style>\n",
       "<table border=\"1\" class=\"dataframe\">\n",
       "  <thead>\n",
       "    <tr style=\"text-align: right;\">\n",
       "      <th></th>\n",
       "      <th>customer_id</th>\n",
       "      <th>customer_unique_id</th>\n",
       "      <th>customer_zip_code_prefix</th>\n",
       "      <th>customer_city</th>\n",
       "      <th>customer_state</th>\n",
       "      <th>order_id</th>\n",
       "      <th>order_status</th>\n",
       "      <th>order_purchase_timestamp</th>\n",
       "      <th>order_approved_at</th>\n",
       "      <th>order_delivered_carrier_date</th>\n",
       "      <th>order_delivered_customer_date</th>\n",
       "      <th>order_estimated_delivery_date</th>\n",
       "      <th>order_item_id</th>\n",
       "      <th>product_id</th>\n",
       "      <th>seller_id</th>\n",
       "      <th>shipping_limit_date</th>\n",
       "      <th>price</th>\n",
       "      <th>freight_value</th>\n",
       "    </tr>\n",
       "  </thead>\n",
       "  <tbody>\n",
       "    <tr>\n",
       "      <th>50</th>\n",
       "      <td>f34a6e874087ec1f0e3dab9fdf659c5d</td>\n",
       "      <td>233896de79986082f1f479f1f85281cb</td>\n",
       "      <td>38300</td>\n",
       "      <td>ituiutaba</td>\n",
       "      <td>MG</td>\n",
       "      <td>6e98de3a85c84ead6689189b825d35b5</td>\n",
       "      <td>canceled</td>\n",
       "      <td>2018-03-15 10:07:02</td>\n",
       "      <td>2018-03-15 10:29:33</td>\n",
       "      <td>NaN</td>\n",
       "      <td>NaT</td>\n",
       "      <td>2018-04-09</td>\n",
       "      <td>NaN</td>\n",
       "      <td>NaN</td>\n",
       "      <td>NaN</td>\n",
       "      <td>NaN</td>\n",
       "      <td>NaN</td>\n",
       "      <td>NaN</td>\n",
       "    </tr>\n",
       "    <tr>\n",
       "      <th>330</th>\n",
       "      <td>5bfe800011656c0afb81db64519982db</td>\n",
       "      <td>0071f46a072a9ae25bbe4438b15efe9c</td>\n",
       "      <td>16011</td>\n",
       "      <td>aracatuba</td>\n",
       "      <td>SP</td>\n",
       "      <td>df8c077268f7f3baaac0892eb3143642</td>\n",
       "      <td>unavailable</td>\n",
       "      <td>2017-02-01 00:04:17</td>\n",
       "      <td>2017-02-01 00:30:55</td>\n",
       "      <td>NaN</td>\n",
       "      <td>NaT</td>\n",
       "      <td>2017-03-10</td>\n",
       "      <td>NaN</td>\n",
       "      <td>NaN</td>\n",
       "      <td>NaN</td>\n",
       "      <td>NaN</td>\n",
       "      <td>NaN</td>\n",
       "      <td>NaN</td>\n",
       "    </tr>\n",
       "    <tr>\n",
       "      <th>422</th>\n",
       "      <td>b08064e24083fee8fbe8797902b07ecd</td>\n",
       "      <td>035f60af6e7d7f78470e9443be08d339</td>\n",
       "      <td>28495</td>\n",
       "      <td>aperibe</td>\n",
       "      <td>RJ</td>\n",
       "      <td>c609f82bcf7a90292a5940205ebd7e93</td>\n",
       "      <td>unavailable</td>\n",
       "      <td>2018-05-13 16:45:55</td>\n",
       "      <td>2018-05-13 17:11:58</td>\n",
       "      <td>NaN</td>\n",
       "      <td>NaT</td>\n",
       "      <td>2018-06-05</td>\n",
       "      <td>NaN</td>\n",
       "      <td>NaN</td>\n",
       "      <td>NaN</td>\n",
       "      <td>NaN</td>\n",
       "      <td>NaN</td>\n",
       "      <td>NaN</td>\n",
       "    </tr>\n",
       "    <tr>\n",
       "      <th>432</th>\n",
       "      <td>536f46cc0f2f2b1e40d056f7998f0254</td>\n",
       "      <td>340152332a04149987a705602615f0d0</td>\n",
       "      <td>87030</td>\n",
       "      <td>maringa</td>\n",
       "      <td>PR</td>\n",
       "      <td>cb4a79c1e6c9ae44302861e7602cc449</td>\n",
       "      <td>unavailable</td>\n",
       "      <td>2017-12-06 15:46:07</td>\n",
       "      <td>2017-12-06 15:57:29</td>\n",
       "      <td>NaN</td>\n",
       "      <td>NaT</td>\n",
       "      <td>2018-01-03</td>\n",
       "      <td>NaN</td>\n",
       "      <td>NaN</td>\n",
       "      <td>NaN</td>\n",
       "      <td>NaN</td>\n",
       "      <td>NaN</td>\n",
       "      <td>NaN</td>\n",
       "    </tr>\n",
       "    <tr>\n",
       "      <th>627</th>\n",
       "      <td>8118922685d2e2c0205f060be4f2579c</td>\n",
       "      <td>d0e87d00021530383c16452a39a393ba</td>\n",
       "      <td>45810</td>\n",
       "      <td>porto seguro</td>\n",
       "      <td>BA</td>\n",
       "      <td>af264f3527e94e431f0dcd56cd6b406d</td>\n",
       "      <td>unavailable</td>\n",
       "      <td>2017-07-12 14:49:11</td>\n",
       "      <td>2017-07-12 15:04:10</td>\n",
       "      <td>NaN</td>\n",
       "      <td>NaT</td>\n",
       "      <td>2017-08-11</td>\n",
       "      <td>NaN</td>\n",
       "      <td>NaN</td>\n",
       "      <td>NaN</td>\n",
       "      <td>NaN</td>\n",
       "      <td>NaN</td>\n",
       "      <td>NaN</td>\n",
       "    </tr>\n",
       "    <tr>\n",
       "      <th>...</th>\n",
       "      <td>...</td>\n",
       "      <td>...</td>\n",
       "      <td>...</td>\n",
       "      <td>...</td>\n",
       "      <td>...</td>\n",
       "      <td>...</td>\n",
       "      <td>...</td>\n",
       "      <td>...</td>\n",
       "      <td>...</td>\n",
       "      <td>...</td>\n",
       "      <td>...</td>\n",
       "      <td>...</td>\n",
       "      <td>...</td>\n",
       "      <td>...</td>\n",
       "      <td>...</td>\n",
       "      <td>...</td>\n",
       "      <td>...</td>\n",
       "      <td>...</td>\n",
       "    </tr>\n",
       "    <tr>\n",
       "      <th>112085</th>\n",
       "      <td>7353b0fb8e8d9675e3a704c60ca44ebe</td>\n",
       "      <td>21c933c8dd97d088e64c50988c90ccf5</td>\n",
       "      <td>5017</td>\n",
       "      <td>sao paulo</td>\n",
       "      <td>SP</td>\n",
       "      <td>2f634e2cebf8c0283e7ef0989f77d217</td>\n",
       "      <td>unavailable</td>\n",
       "      <td>2017-09-27 20:55:33</td>\n",
       "      <td>2017-09-28 01:32:50</td>\n",
       "      <td>NaN</td>\n",
       "      <td>NaT</td>\n",
       "      <td>2017-10-27</td>\n",
       "      <td>NaN</td>\n",
       "      <td>NaN</td>\n",
       "      <td>NaN</td>\n",
       "      <td>NaN</td>\n",
       "      <td>NaN</td>\n",
       "      <td>NaN</td>\n",
       "    </tr>\n",
       "    <tr>\n",
       "      <th>112143</th>\n",
       "      <td>5effe9491d0f5a1c12ee4a384ec09bdf</td>\n",
       "      <td>e9429d622d9e764ca60ba01bc252b0a8</td>\n",
       "      <td>8690</td>\n",
       "      <td>suzano</td>\n",
       "      <td>SP</td>\n",
       "      <td>2b0edc4c59d83dcef85466718c36a317</td>\n",
       "      <td>unavailable</td>\n",
       "      <td>2017-09-29 19:17:10</td>\n",
       "      <td>2017-09-29 20:00:07</td>\n",
       "      <td>NaN</td>\n",
       "      <td>NaT</td>\n",
       "      <td>2017-10-17</td>\n",
       "      <td>NaN</td>\n",
       "      <td>NaN</td>\n",
       "      <td>NaN</td>\n",
       "      <td>NaN</td>\n",
       "      <td>NaN</td>\n",
       "      <td>NaN</td>\n",
       "    </tr>\n",
       "    <tr>\n",
       "      <th>112412</th>\n",
       "      <td>75c6e03e7206bd1dd59f427c9f75142a</td>\n",
       "      <td>ff36be26206fffe1eb37afd54c70e18b</td>\n",
       "      <td>13057</td>\n",
       "      <td>campinas</td>\n",
       "      <td>SP</td>\n",
       "      <td>81b7c7bbc8ec003eeb67d87441a6a148</td>\n",
       "      <td>canceled</td>\n",
       "      <td>2018-08-20 09:03:23</td>\n",
       "      <td>NaT</td>\n",
       "      <td>NaN</td>\n",
       "      <td>NaT</td>\n",
       "      <td>2018-09-03</td>\n",
       "      <td>NaN</td>\n",
       "      <td>NaN</td>\n",
       "      <td>NaN</td>\n",
       "      <td>NaN</td>\n",
       "      <td>NaN</td>\n",
       "      <td>NaN</td>\n",
       "    </tr>\n",
       "    <tr>\n",
       "      <th>112517</th>\n",
       "      <td>1761db2f0d235bbfa1c281093198af0c</td>\n",
       "      <td>21c2c79d24e2d8e3496aabb1f65d85c6</td>\n",
       "      <td>20270</td>\n",
       "      <td>rio de janeiro</td>\n",
       "      <td>RJ</td>\n",
       "      <td>8b08f0e729f58529ed03e763270f78d5</td>\n",
       "      <td>unavailable</td>\n",
       "      <td>2017-08-24 21:02:47</td>\n",
       "      <td>2017-08-24 21:15:36</td>\n",
       "      <td>NaN</td>\n",
       "      <td>NaT</td>\n",
       "      <td>2017-09-27</td>\n",
       "      <td>NaN</td>\n",
       "      <td>NaN</td>\n",
       "      <td>NaN</td>\n",
       "      <td>NaN</td>\n",
       "      <td>NaN</td>\n",
       "      <td>NaN</td>\n",
       "    </tr>\n",
       "    <tr>\n",
       "      <th>113045</th>\n",
       "      <td>882b44646ab3f186597b1622a9443ff9</td>\n",
       "      <td>639b4096a4e5c96549a9bb495ca4871e</td>\n",
       "      <td>13972</td>\n",
       "      <td>itapira</td>\n",
       "      <td>SP</td>\n",
       "      <td>9b932dca249f9971b86dde2f2d7ad412</td>\n",
       "      <td>unavailable</td>\n",
       "      <td>2017-11-20 17:08:43</td>\n",
       "      <td>2017-11-20 17:26:54</td>\n",
       "      <td>NaN</td>\n",
       "      <td>NaT</td>\n",
       "      <td>2017-12-07</td>\n",
       "      <td>NaN</td>\n",
       "      <td>NaN</td>\n",
       "      <td>NaN</td>\n",
       "      <td>NaN</td>\n",
       "      <td>NaN</td>\n",
       "      <td>NaN</td>\n",
       "    </tr>\n",
       "  </tbody>\n",
       "</table>\n",
       "<p>775 rows × 18 columns</p>\n",
       "</div>"
      ],
      "text/plain": [
       "                             customer_id                customer_unique_id  \\\n",
       "50      f34a6e874087ec1f0e3dab9fdf659c5d  233896de79986082f1f479f1f85281cb   \n",
       "330     5bfe800011656c0afb81db64519982db  0071f46a072a9ae25bbe4438b15efe9c   \n",
       "422     b08064e24083fee8fbe8797902b07ecd  035f60af6e7d7f78470e9443be08d339   \n",
       "432     536f46cc0f2f2b1e40d056f7998f0254  340152332a04149987a705602615f0d0   \n",
       "627     8118922685d2e2c0205f060be4f2579c  d0e87d00021530383c16452a39a393ba   \n",
       "...                                  ...                               ...   \n",
       "112085  7353b0fb8e8d9675e3a704c60ca44ebe  21c933c8dd97d088e64c50988c90ccf5   \n",
       "112143  5effe9491d0f5a1c12ee4a384ec09bdf  e9429d622d9e764ca60ba01bc252b0a8   \n",
       "112412  75c6e03e7206bd1dd59f427c9f75142a  ff36be26206fffe1eb37afd54c70e18b   \n",
       "112517  1761db2f0d235bbfa1c281093198af0c  21c2c79d24e2d8e3496aabb1f65d85c6   \n",
       "113045  882b44646ab3f186597b1622a9443ff9  639b4096a4e5c96549a9bb495ca4871e   \n",
       "\n",
       "        customer_zip_code_prefix   customer_city customer_state  \\\n",
       "50                         38300       ituiutaba             MG   \n",
       "330                        16011       aracatuba             SP   \n",
       "422                        28495         aperibe             RJ   \n",
       "432                        87030         maringa             PR   \n",
       "627                        45810    porto seguro             BA   \n",
       "...                          ...             ...            ...   \n",
       "112085                      5017       sao paulo             SP   \n",
       "112143                      8690          suzano             SP   \n",
       "112412                     13057        campinas             SP   \n",
       "112517                     20270  rio de janeiro             RJ   \n",
       "113045                     13972         itapira             SP   \n",
       "\n",
       "                                order_id order_status  \\\n",
       "50      6e98de3a85c84ead6689189b825d35b5     canceled   \n",
       "330     df8c077268f7f3baaac0892eb3143642  unavailable   \n",
       "422     c609f82bcf7a90292a5940205ebd7e93  unavailable   \n",
       "432     cb4a79c1e6c9ae44302861e7602cc449  unavailable   \n",
       "627     af264f3527e94e431f0dcd56cd6b406d  unavailable   \n",
       "...                                  ...          ...   \n",
       "112085  2f634e2cebf8c0283e7ef0989f77d217  unavailable   \n",
       "112143  2b0edc4c59d83dcef85466718c36a317  unavailable   \n",
       "112412  81b7c7bbc8ec003eeb67d87441a6a148     canceled   \n",
       "112517  8b08f0e729f58529ed03e763270f78d5  unavailable   \n",
       "113045  9b932dca249f9971b86dde2f2d7ad412  unavailable   \n",
       "\n",
       "       order_purchase_timestamp   order_approved_at  \\\n",
       "50          2018-03-15 10:07:02 2018-03-15 10:29:33   \n",
       "330         2017-02-01 00:04:17 2017-02-01 00:30:55   \n",
       "422         2018-05-13 16:45:55 2018-05-13 17:11:58   \n",
       "432         2017-12-06 15:46:07 2017-12-06 15:57:29   \n",
       "627         2017-07-12 14:49:11 2017-07-12 15:04:10   \n",
       "...                         ...                 ...   \n",
       "112085      2017-09-27 20:55:33 2017-09-28 01:32:50   \n",
       "112143      2017-09-29 19:17:10 2017-09-29 20:00:07   \n",
       "112412      2018-08-20 09:03:23                 NaT   \n",
       "112517      2017-08-24 21:02:47 2017-08-24 21:15:36   \n",
       "113045      2017-11-20 17:08:43 2017-11-20 17:26:54   \n",
       "\n",
       "       order_delivered_carrier_date order_delivered_customer_date  \\\n",
       "50                              NaN                           NaT   \n",
       "330                             NaN                           NaT   \n",
       "422                             NaN                           NaT   \n",
       "432                             NaN                           NaT   \n",
       "627                             NaN                           NaT   \n",
       "...                             ...                           ...   \n",
       "112085                          NaN                           NaT   \n",
       "112143                          NaN                           NaT   \n",
       "112412                          NaN                           NaT   \n",
       "112517                          NaN                           NaT   \n",
       "113045                          NaN                           NaT   \n",
       "\n",
       "       order_estimated_delivery_date  order_item_id product_id seller_id  \\\n",
       "50                        2018-04-09            NaN        NaN       NaN   \n",
       "330                       2017-03-10            NaN        NaN       NaN   \n",
       "422                       2018-06-05            NaN        NaN       NaN   \n",
       "432                       2018-01-03            NaN        NaN       NaN   \n",
       "627                       2017-08-11            NaN        NaN       NaN   \n",
       "...                              ...            ...        ...       ...   \n",
       "112085                    2017-10-27            NaN        NaN       NaN   \n",
       "112143                    2017-10-17            NaN        NaN       NaN   \n",
       "112412                    2018-09-03            NaN        NaN       NaN   \n",
       "112517                    2017-09-27            NaN        NaN       NaN   \n",
       "113045                    2017-12-07            NaN        NaN       NaN   \n",
       "\n",
       "       shipping_limit_date  price  freight_value  \n",
       "50                     NaN    NaN            NaN  \n",
       "330                    NaN    NaN            NaN  \n",
       "422                    NaN    NaN            NaN  \n",
       "432                    NaN    NaN            NaN  \n",
       "627                    NaN    NaN            NaN  \n",
       "...                    ...    ...            ...  \n",
       "112085                 NaN    NaN            NaN  \n",
       "112143                 NaN    NaN            NaN  \n",
       "112412                 NaN    NaN            NaN  \n",
       "112517                 NaN    NaN            NaN  \n",
       "113045                 NaN    NaN            NaN  \n",
       "\n",
       "[775 rows x 18 columns]"
      ]
     },
     "execution_count": 15,
     "metadata": {},
     "output_type": "execute_result"
    }
   ],
   "source": [
    "task1[task1.product_id.isna() == True]"
   ]
  },
  {
   "cell_type": "code",
   "execution_count": 16,
   "metadata": {
    "pycharm": {
     "name": "#%%\n"
    }
   },
   "outputs": [],
   "source": [
    "# Заменим пропуски в колонке подтверждения оплаты \n",
    "task1['order_approved_at'] = task1.order_approved_at.fillna(0)"
   ]
  },
  {
   "cell_type": "code",
   "execution_count": 17,
   "metadata": {
    "pycharm": {
     "name": "#%%\n"
    }
   },
   "outputs": [
    {
     "data": {
      "text/plain": [
       "array(['canceled', 'delivered', 'created'], dtype=object)"
      ]
     },
     "execution_count": 17,
     "metadata": {},
     "output_type": "execute_result"
    }
   ],
   "source": [
    "task1[task1['order_approved_at'] == 0].order_status.unique()"
   ]
  },
  {
   "cell_type": "markdown",
   "metadata": {
    "pycharm": {
     "name": "#%% md\n"
    }
   },
   "source": [
    "Мы видим, что у нас есть заказы, которые отменяют(возможно из-за цены, качества) или они недоступны. Так же в данных есть заказы, в которых не указана дата отправки(мы им присвоили 0)-они получили статус доставлен, создан, отменен. Я буду считать покупателями всех, у кого подтвержденная оплата заказа, так-как они тоже являются нашими потенциальными клиентами. К тому же, пропуски составляют маленький процент в данных. "
   ]
  },
  {
   "cell_type": "code",
   "execution_count": 18,
   "metadata": {
    "pycharm": {
     "name": "#%%\n"
    }
   },
   "outputs": [],
   "source": [
    "task1 = task1[task1['order_approved_at'] != 0].groupby('customer_unique_id')['order_approved_at'].agg('count').reset_index()"
   ]
  },
  {
   "cell_type": "code",
   "execution_count": 19,
   "metadata": {
    "pycharm": {
     "name": "#%%\n"
    }
   },
   "outputs": [
    {
     "data": {
      "text/plain": [
       "84097"
      ]
     },
     "execution_count": 19,
     "metadata": {},
     "output_type": "execute_result"
    }
   ],
   "source": [
    "len(task1[task1['order_approved_at'] == 1])"
   ]
  },
  {
   "cell_type": "markdown",
   "metadata": {
    "pycharm": {
     "name": "#%% md\n"
    }
   },
   "source": [
    "### Итого у нас **84097** пользователей сделали только одну покупку"
   ]
  },
  {
   "cell_type": "markdown",
   "metadata": {
    "pycharm": {
     "name": "#%% md\n"
    }
   },
   "source": [
    "# Задание 2"
   ]
  },
  {
   "cell_type": "markdown",
   "metadata": {
    "pycharm": {
     "name": "#%% md\n"
    }
   },
   "source": [
    "2.Сколько заказов в месяц в среднем не доставляется по разным причинам (вывести детализацию по причинам)? "
   ]
  },
  {
   "cell_type": "code",
   "execution_count": 20,
   "metadata": {
    "pycharm": {
     "name": "#%%\n"
    }
   },
   "outputs": [],
   "source": [
    "task2 = df.copy()"
   ]
  },
  {
   "cell_type": "code",
   "execution_count": 21,
   "metadata": {
    "pycharm": {
     "name": "#%%\n"
    }
   },
   "outputs": [],
   "source": [
    "#Отбираем недоставленные и отмененные заказы \n",
    "task2 = task2[(task2['order_status']== 'canceled') | (task2['order_status'] == 'unavailable')]"
   ]
  },
  {
   "cell_type": "code",
   "execution_count": 22,
   "metadata": {
    "pycharm": {
     "name": "#%%\n"
    }
   },
   "outputs": [],
   "source": [
    "#Переводим в дату(месяц, год) для группировки\n",
    "task2['order_approved_at'] = pd.to_datetime(task2['order_approved_at'])"
   ]
  },
  {
   "cell_type": "code",
   "execution_count": 23,
   "metadata": {
    "pycharm": {
     "name": "#%%\n"
    }
   },
   "outputs": [],
   "source": [
    "task2['order_approved_at'] = task2['order_approved_at'].dt.strftime('%m %Y')"
   ]
  },
  {
   "cell_type": "code",
   "execution_count": 24,
   "metadata": {
    "pycharm": {
     "name": "#%%\n"
    }
   },
   "outputs": [],
   "source": [
    "#Считаем количество заявок\n",
    "task2 = task2.groupby(['order_approved_at','order_status'])['customer_unique_id'].agg('count').reset_index()"
   ]
  },
  {
   "cell_type": "code",
   "execution_count": 25,
   "metadata": {
    "pycharm": {
     "name": "#%%\n"
    }
   },
   "outputs": [
    {
     "data": {
      "text/html": [
       "<div>\n",
       "<style scoped>\n",
       "    .dataframe tbody tr th:only-of-type {\n",
       "        vertical-align: middle;\n",
       "    }\n",
       "\n",
       "    .dataframe tbody tr th {\n",
       "        vertical-align: top;\n",
       "    }\n",
       "\n",
       "    .dataframe thead th {\n",
       "        text-align: right;\n",
       "    }\n",
       "</style>\n",
       "<table border=\"1\" class=\"dataframe\">\n",
       "  <thead>\n",
       "    <tr style=\"text-align: right;\">\n",
       "      <th></th>\n",
       "      <th>order_approved_at</th>\n",
       "      <th>order_status</th>\n",
       "      <th>customer_unique_id</th>\n",
       "    </tr>\n",
       "  </thead>\n",
       "  <tbody>\n",
       "    <tr>\n",
       "      <th>0</th>\n",
       "      <td>01 2017</td>\n",
       "      <td>canceled</td>\n",
       "      <td>2</td>\n",
       "    </tr>\n",
       "    <tr>\n",
       "      <th>1</th>\n",
       "      <td>01 2017</td>\n",
       "      <td>unavailable</td>\n",
       "      <td>8</td>\n",
       "    </tr>\n",
       "    <tr>\n",
       "      <th>2</th>\n",
       "      <td>01 2018</td>\n",
       "      <td>canceled</td>\n",
       "      <td>34</td>\n",
       "    </tr>\n",
       "    <tr>\n",
       "      <th>3</th>\n",
       "      <td>01 2018</td>\n",
       "      <td>unavailable</td>\n",
       "      <td>47</td>\n",
       "    </tr>\n",
       "    <tr>\n",
       "      <th>4</th>\n",
       "      <td>02 2017</td>\n",
       "      <td>canceled</td>\n",
       "      <td>15</td>\n",
       "    </tr>\n",
       "    <tr>\n",
       "      <th>5</th>\n",
       "      <td>02 2017</td>\n",
       "      <td>unavailable</td>\n",
       "      <td>47</td>\n",
       "    </tr>\n",
       "    <tr>\n",
       "      <th>6</th>\n",
       "      <td>02 2018</td>\n",
       "      <td>canceled</td>\n",
       "      <td>76</td>\n",
       "    </tr>\n",
       "    <tr>\n",
       "      <th>7</th>\n",
       "      <td>02 2018</td>\n",
       "      <td>unavailable</td>\n",
       "      <td>31</td>\n",
       "    </tr>\n",
       "    <tr>\n",
       "      <th>8</th>\n",
       "      <td>03 2017</td>\n",
       "      <td>canceled</td>\n",
       "      <td>32</td>\n",
       "    </tr>\n",
       "    <tr>\n",
       "      <th>9</th>\n",
       "      <td>03 2017</td>\n",
       "      <td>unavailable</td>\n",
       "      <td>32</td>\n",
       "    </tr>\n",
       "  </tbody>\n",
       "</table>\n",
       "</div>"
      ],
      "text/plain": [
       "  order_approved_at order_status  customer_unique_id\n",
       "0           01 2017     canceled                   2\n",
       "1           01 2017  unavailable                   8\n",
       "2           01 2018     canceled                  34\n",
       "3           01 2018  unavailable                  47\n",
       "4           02 2017     canceled                  15\n",
       "5           02 2017  unavailable                  47\n",
       "6           02 2018     canceled                  76\n",
       "7           02 2018  unavailable                  31\n",
       "8           03 2017     canceled                  32\n",
       "9           03 2017  unavailable                  32"
      ]
     },
     "execution_count": 25,
     "metadata": {},
     "output_type": "execute_result"
    }
   ],
   "source": [
    "task2.head(10)"
   ]
  },
  {
   "cell_type": "code",
   "execution_count": 26,
   "metadata": {
    "pycharm": {
     "name": "#%%\n"
    }
   },
   "outputs": [],
   "source": [
    "task2.order_approved_at = pd.to_datetime(task2['order_approved_at'])"
   ]
  },
  {
   "cell_type": "code",
   "execution_count": 27,
   "metadata": {
    "pycharm": {
     "name": "#%%\n"
    }
   },
   "outputs": [],
   "source": [
    "# Посчитаем сколько в среднем заявок теряются из-за отмены заказа. Для этого общее число отмененных заявок разделим на число уникальных месяцев\n",
    "mean_canceled = task2[task2['order_status'] == 'canceled']['customer_unique_id'].sum() / len(task2['order_approved_at'].unique())"
   ]
  },
  {
   "cell_type": "code",
   "execution_count": 28,
   "metadata": {
    "pycharm": {
     "name": "#%%\n"
    }
   },
   "outputs": [
    {
     "data": {
      "text/plain": [
       "26.904761904761905"
      ]
     },
     "execution_count": 28,
     "metadata": {},
     "output_type": "execute_result"
    }
   ],
   "source": [
    "mean_canceled"
   ]
  },
  {
   "cell_type": "code",
   "execution_count": 29,
   "metadata": {
    "pycharm": {
     "name": "#%%\n"
    }
   },
   "outputs": [],
   "source": [
    "mean_unavailable = task2[task2['order_status'] == 'unavailable']['customer_unique_id'].sum() / len(task2['order_approved_at'].unique())"
   ]
  },
  {
   "cell_type": "code",
   "execution_count": 30,
   "metadata": {
    "pycharm": {
     "name": "#%%\n"
    }
   },
   "outputs": [
    {
     "data": {
      "text/plain": [
       "29.047619047619047"
      ]
     },
     "execution_count": 30,
     "metadata": {},
     "output_type": "execute_result"
    }
   ],
   "source": [
    "mean_unavailable"
   ]
  },
  {
   "cell_type": "markdown",
   "metadata": {
    "pycharm": {
     "name": "#%% md\n"
    }
   },
   "source": [
    "Получается, за все время в среднем в месяц не доставляется **26.91** заказов из-за отмены, а так же **29.05** из-за отсутствия. "
   ]
  },
  {
   "cell_type": "markdown",
   "metadata": {
    "pycharm": {
     "name": "#%% md\n"
    }
   },
   "source": [
    "# Задание 3"
   ]
  },
  {
   "cell_type": "markdown",
   "metadata": {
    "pycharm": {
     "name": "#%% md\n"
    }
   },
   "source": [
    " По каждому товару определить, в какой день недели товар чаще всего покупается. "
   ]
  },
  {
   "cell_type": "code",
   "execution_count": 31,
   "metadata": {
    "pycharm": {
     "name": "#%%\n"
    }
   },
   "outputs": [],
   "source": [
    "task3 = df.copy()"
   ]
  },
  {
   "cell_type": "code",
   "execution_count": 32,
   "metadata": {
    "pycharm": {
     "name": "#%%\n"
    }
   },
   "outputs": [
    {
     "data": {
      "text/html": [
       "<div>\n",
       "<style scoped>\n",
       "    .dataframe tbody tr th:only-of-type {\n",
       "        vertical-align: middle;\n",
       "    }\n",
       "\n",
       "    .dataframe tbody tr th {\n",
       "        vertical-align: top;\n",
       "    }\n",
       "\n",
       "    .dataframe thead th {\n",
       "        text-align: right;\n",
       "    }\n",
       "</style>\n",
       "<table border=\"1\" class=\"dataframe\">\n",
       "  <thead>\n",
       "    <tr style=\"text-align: right;\">\n",
       "      <th></th>\n",
       "      <th>customer_id</th>\n",
       "      <th>customer_unique_id</th>\n",
       "      <th>customer_zip_code_prefix</th>\n",
       "      <th>customer_city</th>\n",
       "      <th>customer_state</th>\n",
       "      <th>order_id</th>\n",
       "      <th>order_status</th>\n",
       "      <th>order_purchase_timestamp</th>\n",
       "      <th>order_approved_at</th>\n",
       "      <th>order_delivered_carrier_date</th>\n",
       "      <th>order_delivered_customer_date</th>\n",
       "      <th>order_estimated_delivery_date</th>\n",
       "      <th>order_item_id</th>\n",
       "      <th>product_id</th>\n",
       "      <th>seller_id</th>\n",
       "      <th>shipping_limit_date</th>\n",
       "      <th>price</th>\n",
       "      <th>freight_value</th>\n",
       "    </tr>\n",
       "  </thead>\n",
       "  <tbody>\n",
       "    <tr>\n",
       "      <th>0</th>\n",
       "      <td>06b8999e2fba1a1fbc88172c00ba8bc7</td>\n",
       "      <td>861eff4711a542e4b93843c6dd7febb0</td>\n",
       "      <td>14409</td>\n",
       "      <td>franca</td>\n",
       "      <td>SP</td>\n",
       "      <td>00e7ee1b050b8499577073aeb2a297a1</td>\n",
       "      <td>delivered</td>\n",
       "      <td>2017-05-16 15:05:35</td>\n",
       "      <td>2017-05-16 15:22:12</td>\n",
       "      <td>2017-05-23 10:47:57</td>\n",
       "      <td>2017-05-25 10:35:35</td>\n",
       "      <td>2017-06-05</td>\n",
       "      <td>1.0</td>\n",
       "      <td>a9516a079e37a9c9c36b9b78b10169e8</td>\n",
       "      <td>7c67e1448b00f6e969d365cea6b010ab</td>\n",
       "      <td>2017-05-22 15:22:12</td>\n",
       "      <td>124.99</td>\n",
       "      <td>21.88</td>\n",
       "    </tr>\n",
       "    <tr>\n",
       "      <th>1</th>\n",
       "      <td>18955e83d337fd6b2def6b18a428ac77</td>\n",
       "      <td>290c77bc529b7ac935b93aa66c333dc3</td>\n",
       "      <td>9790</td>\n",
       "      <td>sao bernardo do campo</td>\n",
       "      <td>SP</td>\n",
       "      <td>29150127e6685892b6eab3eec79f59c7</td>\n",
       "      <td>delivered</td>\n",
       "      <td>2018-01-12 20:48:24</td>\n",
       "      <td>2018-01-12 20:58:32</td>\n",
       "      <td>2018-01-15 17:14:59</td>\n",
       "      <td>2018-01-29 12:41:19</td>\n",
       "      <td>2018-02-06</td>\n",
       "      <td>1.0</td>\n",
       "      <td>4aa6014eceb682077f9dc4bffebc05b0</td>\n",
       "      <td>b8bc237ba3788b23da09c0f1f3a3288c</td>\n",
       "      <td>2018-01-18 20:58:32</td>\n",
       "      <td>289.00</td>\n",
       "      <td>46.48</td>\n",
       "    </tr>\n",
       "    <tr>\n",
       "      <th>2</th>\n",
       "      <td>4e7b3e00288586ebd08712fdd0374a03</td>\n",
       "      <td>060e732b5b29e8181a18229c7b0b2b5e</td>\n",
       "      <td>1151</td>\n",
       "      <td>sao paulo</td>\n",
       "      <td>SP</td>\n",
       "      <td>b2059ed67ce144a36e2aa97d2c9e9ad2</td>\n",
       "      <td>delivered</td>\n",
       "      <td>2018-05-19 16:07:45</td>\n",
       "      <td>2018-05-20 16:19:10</td>\n",
       "      <td>2018-06-11 14:31:00</td>\n",
       "      <td>2018-06-14 17:58:51</td>\n",
       "      <td>2018-06-13</td>\n",
       "      <td>1.0</td>\n",
       "      <td>bd07b66896d6f1494f5b86251848ced7</td>\n",
       "      <td>7c67e1448b00f6e969d365cea6b010ab</td>\n",
       "      <td>2018-06-05 16:19:10</td>\n",
       "      <td>139.94</td>\n",
       "      <td>17.79</td>\n",
       "    </tr>\n",
       "    <tr>\n",
       "      <th>3</th>\n",
       "      <td>b2b6027bc5c5109e529d4dc6358b12c3</td>\n",
       "      <td>259dac757896d24d7702b9acbbff3f3c</td>\n",
       "      <td>8775</td>\n",
       "      <td>mogi das cruzes</td>\n",
       "      <td>SP</td>\n",
       "      <td>951670f92359f4fe4a63112aa7306eba</td>\n",
       "      <td>delivered</td>\n",
       "      <td>2018-03-13 16:06:38</td>\n",
       "      <td>2018-03-13 17:29:19</td>\n",
       "      <td>2018-03-27 23:22:42</td>\n",
       "      <td>2018-03-28 16:04:25</td>\n",
       "      <td>2018-04-10</td>\n",
       "      <td>1.0</td>\n",
       "      <td>a5647c44af977b148e0a3a4751a09e2e</td>\n",
       "      <td>7c67e1448b00f6e969d365cea6b010ab</td>\n",
       "      <td>2018-03-27 16:31:16</td>\n",
       "      <td>149.94</td>\n",
       "      <td>23.36</td>\n",
       "    </tr>\n",
       "    <tr>\n",
       "      <th>4</th>\n",
       "      <td>4f2d8ab171c80ec8364f7c12e35b23ad</td>\n",
       "      <td>345ecd01c38d18a9036ed96c73b8d066</td>\n",
       "      <td>13056</td>\n",
       "      <td>campinas</td>\n",
       "      <td>SP</td>\n",
       "      <td>6b7d50bd145f6fc7f33cebabd7e49d0f</td>\n",
       "      <td>delivered</td>\n",
       "      <td>2018-07-29 09:51:30</td>\n",
       "      <td>2018-07-29 10:10:09</td>\n",
       "      <td>2018-07-30 15:16:00</td>\n",
       "      <td>2018-08-09 20:55:48</td>\n",
       "      <td>2018-08-15</td>\n",
       "      <td>1.0</td>\n",
       "      <td>9391a573abe00141c56e38d84d7d5b3b</td>\n",
       "      <td>4a3ca9315b744ce9f8e9374361493884</td>\n",
       "      <td>2018-07-31 10:10:09</td>\n",
       "      <td>230.00</td>\n",
       "      <td>22.25</td>\n",
       "    </tr>\n",
       "  </tbody>\n",
       "</table>\n",
       "</div>"
      ],
      "text/plain": [
       "                        customer_id                customer_unique_id  \\\n",
       "0  06b8999e2fba1a1fbc88172c00ba8bc7  861eff4711a542e4b93843c6dd7febb0   \n",
       "1  18955e83d337fd6b2def6b18a428ac77  290c77bc529b7ac935b93aa66c333dc3   \n",
       "2  4e7b3e00288586ebd08712fdd0374a03  060e732b5b29e8181a18229c7b0b2b5e   \n",
       "3  b2b6027bc5c5109e529d4dc6358b12c3  259dac757896d24d7702b9acbbff3f3c   \n",
       "4  4f2d8ab171c80ec8364f7c12e35b23ad  345ecd01c38d18a9036ed96c73b8d066   \n",
       "\n",
       "   customer_zip_code_prefix          customer_city customer_state  \\\n",
       "0                     14409                 franca             SP   \n",
       "1                      9790  sao bernardo do campo             SP   \n",
       "2                      1151              sao paulo             SP   \n",
       "3                      8775        mogi das cruzes             SP   \n",
       "4                     13056               campinas             SP   \n",
       "\n",
       "                           order_id order_status order_purchase_timestamp  \\\n",
       "0  00e7ee1b050b8499577073aeb2a297a1    delivered      2017-05-16 15:05:35   \n",
       "1  29150127e6685892b6eab3eec79f59c7    delivered      2018-01-12 20:48:24   \n",
       "2  b2059ed67ce144a36e2aa97d2c9e9ad2    delivered      2018-05-19 16:07:45   \n",
       "3  951670f92359f4fe4a63112aa7306eba    delivered      2018-03-13 16:06:38   \n",
       "4  6b7d50bd145f6fc7f33cebabd7e49d0f    delivered      2018-07-29 09:51:30   \n",
       "\n",
       "    order_approved_at order_delivered_carrier_date  \\\n",
       "0 2017-05-16 15:22:12          2017-05-23 10:47:57   \n",
       "1 2018-01-12 20:58:32          2018-01-15 17:14:59   \n",
       "2 2018-05-20 16:19:10          2018-06-11 14:31:00   \n",
       "3 2018-03-13 17:29:19          2018-03-27 23:22:42   \n",
       "4 2018-07-29 10:10:09          2018-07-30 15:16:00   \n",
       "\n",
       "  order_delivered_customer_date order_estimated_delivery_date  order_item_id  \\\n",
       "0           2017-05-25 10:35:35                    2017-06-05            1.0   \n",
       "1           2018-01-29 12:41:19                    2018-02-06            1.0   \n",
       "2           2018-06-14 17:58:51                    2018-06-13            1.0   \n",
       "3           2018-03-28 16:04:25                    2018-04-10            1.0   \n",
       "4           2018-08-09 20:55:48                    2018-08-15            1.0   \n",
       "\n",
       "                         product_id                         seller_id  \\\n",
       "0  a9516a079e37a9c9c36b9b78b10169e8  7c67e1448b00f6e969d365cea6b010ab   \n",
       "1  4aa6014eceb682077f9dc4bffebc05b0  b8bc237ba3788b23da09c0f1f3a3288c   \n",
       "2  bd07b66896d6f1494f5b86251848ced7  7c67e1448b00f6e969d365cea6b010ab   \n",
       "3  a5647c44af977b148e0a3a4751a09e2e  7c67e1448b00f6e969d365cea6b010ab   \n",
       "4  9391a573abe00141c56e38d84d7d5b3b  4a3ca9315b744ce9f8e9374361493884   \n",
       "\n",
       "   shipping_limit_date   price  freight_value  \n",
       "0  2017-05-22 15:22:12  124.99          21.88  \n",
       "1  2018-01-18 20:58:32  289.00          46.48  \n",
       "2  2018-06-05 16:19:10  139.94          17.79  \n",
       "3  2018-03-27 16:31:16  149.94          23.36  \n",
       "4  2018-07-31 10:10:09  230.00          22.25  "
      ]
     },
     "execution_count": 32,
     "metadata": {},
     "output_type": "execute_result"
    }
   ],
   "source": [
    "task3.head()"
   ]
  },
  {
   "cell_type": "code",
   "execution_count": 33,
   "metadata": {
    "pycharm": {
     "name": "#%%\n"
    }
   },
   "outputs": [],
   "source": [
    "# Оставляем день недели\n",
    "task3['order_approved_at'] = task3['order_approved_at'].dt.strftime('%A')"
   ]
  },
  {
   "cell_type": "code",
   "execution_count": 34,
   "metadata": {
    "pycharm": {
     "name": "#%%\n"
    }
   },
   "outputs": [],
   "source": [
    "# считаем заказы\n",
    "task3 = task3.groupby(['order_item_id', 'order_approved_at'])['customer_unique_id'].agg('count').reset_index()"
   ]
  },
  {
   "cell_type": "code",
   "execution_count": 35,
   "metadata": {
    "pycharm": {
     "name": "#%%\n"
    }
   },
   "outputs": [],
   "source": [
    "# Получаем дни, когда число заказов было максимальным. Для этого используем внутреннее соединение двух датафреймов по ключу и числу заказов. \n",
    "# В первом - максимальное числов заказов для ключа, во втором- даты, которые соответсвуют числу заказов по ключу\n",
    "result3 = task3.groupby(['order_item_id'])['customer_unique_id'].max().reset_index().merge(task3, how = 'inner', on = ['order_item_id','customer_unique_id'])"
   ]
  },
  {
   "cell_type": "code",
   "execution_count": 36,
   "metadata": {
    "pycharm": {
     "name": "#%%\n"
    }
   },
   "outputs": [
    {
     "data": {
      "text/html": [
       "<div>\n",
       "<style scoped>\n",
       "    .dataframe tbody tr th:only-of-type {\n",
       "        vertical-align: middle;\n",
       "    }\n",
       "\n",
       "    .dataframe tbody tr th {\n",
       "        vertical-align: top;\n",
       "    }\n",
       "\n",
       "    .dataframe thead th {\n",
       "        text-align: right;\n",
       "    }\n",
       "</style>\n",
       "<table border=\"1\" class=\"dataframe\">\n",
       "  <thead>\n",
       "    <tr style=\"text-align: right;\">\n",
       "      <th></th>\n",
       "      <th>order_item_id</th>\n",
       "      <th>customer_unique_id</th>\n",
       "      <th>order_approved_at</th>\n",
       "    </tr>\n",
       "  </thead>\n",
       "  <tbody>\n",
       "    <tr>\n",
       "      <th>0</th>\n",
       "      <td>1.0</td>\n",
       "      <td>19031</td>\n",
       "      <td>Tuesday</td>\n",
       "    </tr>\n",
       "    <tr>\n",
       "      <th>1</th>\n",
       "      <td>2.0</td>\n",
       "      <td>1951</td>\n",
       "      <td>Tuesday</td>\n",
       "    </tr>\n",
       "    <tr>\n",
       "      <th>2</th>\n",
       "      <td>3.0</td>\n",
       "      <td>463</td>\n",
       "      <td>Tuesday</td>\n",
       "    </tr>\n",
       "    <tr>\n",
       "      <th>3</th>\n",
       "      <td>4.0</td>\n",
       "      <td>180</td>\n",
       "      <td>Tuesday</td>\n",
       "    </tr>\n",
       "    <tr>\n",
       "      <th>4</th>\n",
       "      <td>5.0</td>\n",
       "      <td>90</td>\n",
       "      <td>Tuesday</td>\n",
       "    </tr>\n",
       "    <tr>\n",
       "      <th>5</th>\n",
       "      <td>6.0</td>\n",
       "      <td>56</td>\n",
       "      <td>Thursday</td>\n",
       "    </tr>\n",
       "    <tr>\n",
       "      <th>6</th>\n",
       "      <td>7.0</td>\n",
       "      <td>10</td>\n",
       "      <td>Saturday, Thursday, Tuesday</td>\n",
       "    </tr>\n",
       "    <tr>\n",
       "      <th>7</th>\n",
       "      <td>8.0</td>\n",
       "      <td>8</td>\n",
       "      <td>Friday</td>\n",
       "    </tr>\n",
       "    <tr>\n",
       "      <th>8</th>\n",
       "      <td>9.0</td>\n",
       "      <td>7</td>\n",
       "      <td>Friday</td>\n",
       "    </tr>\n",
       "    <tr>\n",
       "      <th>9</th>\n",
       "      <td>10.0</td>\n",
       "      <td>6</td>\n",
       "      <td>Friday</td>\n",
       "    </tr>\n",
       "    <tr>\n",
       "      <th>10</th>\n",
       "      <td>11.0</td>\n",
       "      <td>4</td>\n",
       "      <td>Friday, Thursday</td>\n",
       "    </tr>\n",
       "    <tr>\n",
       "      <th>11</th>\n",
       "      <td>12.0</td>\n",
       "      <td>3</td>\n",
       "      <td>Friday, Saturday, Thursday</td>\n",
       "    </tr>\n",
       "    <tr>\n",
       "      <th>12</th>\n",
       "      <td>13.0</td>\n",
       "      <td>2</td>\n",
       "      <td>Friday, Monday, Saturday, Thursday</td>\n",
       "    </tr>\n",
       "    <tr>\n",
       "      <th>13</th>\n",
       "      <td>14.0</td>\n",
       "      <td>2</td>\n",
       "      <td>Friday, Monday, Thursday</td>\n",
       "    </tr>\n",
       "    <tr>\n",
       "      <th>14</th>\n",
       "      <td>15.0</td>\n",
       "      <td>2</td>\n",
       "      <td>Monday</td>\n",
       "    </tr>\n",
       "    <tr>\n",
       "      <th>15</th>\n",
       "      <td>16.0</td>\n",
       "      <td>1</td>\n",
       "      <td>Monday, Saturday, Thursday</td>\n",
       "    </tr>\n",
       "    <tr>\n",
       "      <th>16</th>\n",
       "      <td>17.0</td>\n",
       "      <td>1</td>\n",
       "      <td>Monday, Saturday, Thursday</td>\n",
       "    </tr>\n",
       "    <tr>\n",
       "      <th>17</th>\n",
       "      <td>18.0</td>\n",
       "      <td>1</td>\n",
       "      <td>Monday, Saturday, Thursday</td>\n",
       "    </tr>\n",
       "    <tr>\n",
       "      <th>18</th>\n",
       "      <td>19.0</td>\n",
       "      <td>1</td>\n",
       "      <td>Monday, Saturday, Thursday</td>\n",
       "    </tr>\n",
       "    <tr>\n",
       "      <th>19</th>\n",
       "      <td>20.0</td>\n",
       "      <td>1</td>\n",
       "      <td>Monday, Saturday, Thursday</td>\n",
       "    </tr>\n",
       "    <tr>\n",
       "      <th>20</th>\n",
       "      <td>21.0</td>\n",
       "      <td>1</td>\n",
       "      <td>Monday</td>\n",
       "    </tr>\n",
       "  </tbody>\n",
       "</table>\n",
       "</div>"
      ],
      "text/plain": [
       "    order_item_id  customer_unique_id                   order_approved_at\n",
       "0             1.0               19031                             Tuesday\n",
       "1             2.0                1951                             Tuesday\n",
       "2             3.0                 463                             Tuesday\n",
       "3             4.0                 180                             Tuesday\n",
       "4             5.0                  90                             Tuesday\n",
       "5             6.0                  56                            Thursday\n",
       "6             7.0                  10         Saturday, Thursday, Tuesday\n",
       "7             8.0                   8                              Friday\n",
       "8             9.0                   7                              Friday\n",
       "9            10.0                   6                              Friday\n",
       "10           11.0                   4                    Friday, Thursday\n",
       "11           12.0                   3          Friday, Saturday, Thursday\n",
       "12           13.0                   2  Friday, Monday, Saturday, Thursday\n",
       "13           14.0                   2            Friday, Monday, Thursday\n",
       "14           15.0                   2                              Monday\n",
       "15           16.0                   1          Monday, Saturday, Thursday\n",
       "16           17.0                   1          Monday, Saturday, Thursday\n",
       "17           18.0                   1          Monday, Saturday, Thursday\n",
       "18           19.0                   1          Monday, Saturday, Thursday\n",
       "19           20.0                   1          Monday, Saturday, Thursday\n",
       "20           21.0                   1                              Monday"
      ]
     },
     "execution_count": 36,
     "metadata": {},
     "output_type": "execute_result"
    }
   ],
   "source": [
    "result3.groupby(['order_item_id','customer_unique_id'])['order_approved_at'].agg(lambda order_approved_at: ', '.join(order_approved_at)).reset_index()"
   ]
  },
  {
   "cell_type": "markdown",
   "metadata": {
    "pycharm": {
     "name": "#%% md\n"
    }
   },
   "source": [
    "Получен датафрейм для каждого товара, в котором показаны максимальные дни продаж"
   ]
  },
  {
   "cell_type": "markdown",
   "metadata": {
    "pycharm": {
     "name": "#%% md\n"
    }
   },
   "source": [
    "# Задание 4"
   ]
  },
  {
   "cell_type": "markdown",
   "metadata": {
    "pycharm": {
     "name": "#%% md\n"
    }
   },
   "source": [
    "Сколько у каждого из пользователей в среднем покупок в неделю (по месяцам)? Не стоит забывать, что внутри месяца может быть не целое количество недель. Например, в ноябре 2021 года 4,28 недели. И внутри метрики это нужно учесть."
   ]
  },
  {
   "cell_type": "code",
   "execution_count": 37,
   "metadata": {
    "pycharm": {
     "name": "#%%\n"
    }
   },
   "outputs": [],
   "source": [
    "task4 = df.copy()\n",
    "# Заменим пропуски в колонке подтверждения оплаты \n",
    "task4['order_approved_at'] = task4.order_approved_at.fillna(0)\n",
    "# Отберем данные , где была подтверждена оплата\n",
    "task4 = task4[task4['order_approved_at'] != 0]"
   ]
  },
  {
   "cell_type": "code",
   "execution_count": 38,
   "metadata": {
    "pycharm": {
     "name": "#%%\n"
    }
   },
   "outputs": [],
   "source": [
    "task4['order_approved_at'] = pd.to_datetime(task4.order_approved_at)"
   ]
  },
  {
   "cell_type": "code",
   "execution_count": 39,
   "metadata": {
    "pycharm": {
     "name": "#%%\n"
    }
   },
   "outputs": [],
   "source": [
    "# Создадим колонку , которая будет считать неделю в месяце\n",
    "task4['month'] = task4['order_approved_at'].dt.month\n",
    "task4['year'] = task4['order_approved_at'].dt.year\n"
   ]
  },
  {
   "cell_type": "code",
   "execution_count": 40,
   "metadata": {
    "pycharm": {
     "name": "#%%\n"
    }
   },
   "outputs": [
    {
     "data": {
      "text/plain": [
       "Index(['customer_id', 'customer_unique_id', 'customer_zip_code_prefix',\n",
       "       'customer_city', 'customer_state', 'order_id', 'order_status',\n",
       "       'order_purchase_timestamp', 'order_approved_at',\n",
       "       'order_delivered_carrier_date', 'order_delivered_customer_date',\n",
       "       'order_estimated_delivery_date', 'order_item_id', 'product_id',\n",
       "       'seller_id', 'shipping_limit_date', 'price', 'freight_value', 'month',\n",
       "       'year'],\n",
       "      dtype='object')"
      ]
     },
     "execution_count": 40,
     "metadata": {},
     "output_type": "execute_result"
    }
   ],
   "source": [
    "\n",
    "task4.columns"
   ]
  },
  {
   "cell_type": "code",
   "execution_count": 41,
   "metadata": {
    "pycharm": {
     "name": "#%%\n"
    }
   },
   "outputs": [],
   "source": [
    "# удалим ненужные\n",
    "task4 = task4.drop(columns= ['customer_zip_code_prefix',\n",
    "       'customer_city', 'customer_state','order_purchase_timestamp','customer_id','order_delivered_carrier_date', 'order_delivered_customer_date',\n",
    "       'order_estimated_delivery_date', 'order_item_id','shipping_limit_date', 'price', 'freight_value'])"
   ]
  },
  {
   "cell_type": "code",
   "execution_count": 42,
   "metadata": {
    "pycharm": {
     "name": "#%%\n"
    }
   },
   "outputs": [],
   "source": [
    "# посчитаем количество дней в каждом месяце\n",
    "f = lambda row: monthrange(row['year'], row['month'])[1]\n",
    "task4['days_in_month'] = task4.loc[:,['year','month']].apply(f, axis = 1)"
   ]
  },
  {
   "cell_type": "code",
   "execution_count": 43,
   "metadata": {
    "pycharm": {
     "name": "#%%\n"
    }
   },
   "outputs": [],
   "source": [
    "# сгруппируем колонки по пользователю, месяцу, году и посчитаем заказы\n",
    "task4 = task4.groupby(['customer_unique_id','month', 'year', 'days_in_month']).count().rename(columns = {'order_id':'orders'})"
   ]
  },
  {
   "cell_type": "code",
   "execution_count": 44,
   "metadata": {
    "pycharm": {
     "name": "#%%\n"
    }
   },
   "outputs": [],
   "source": [
    "task4 = task4.drop(columns= ['order_status', 'order_approved_at', 'product_id',\n",
    "       'seller_id']).reset_index()"
   ]
  },
  {
   "cell_type": "code",
   "execution_count": 45,
   "metadata": {
    "pycharm": {
     "name": "#%%\n"
    }
   },
   "outputs": [],
   "source": [
    "# посчитаем среднее число недель в месяце\n",
    "task4['weeks_in_month'] = round(task4['days_in_month'] / 7,2)"
   ]
  },
  {
   "cell_type": "code",
   "execution_count": 46,
   "metadata": {
    "pycharm": {
     "name": "#%%\n"
    }
   },
   "outputs": [],
   "source": [
    "# считаем среднее заказов\n",
    "task4['mean_orders_per_week'] = task4['orders'] / task4['weeks_in_month']"
   ]
  },
  {
   "cell_type": "code",
   "execution_count": 47,
   "metadata": {
    "pycharm": {
     "name": "#%%\n"
    }
   },
   "outputs": [
    {
     "data": {
      "text/html": [
       "<div>\n",
       "<style scoped>\n",
       "    .dataframe tbody tr th:only-of-type {\n",
       "        vertical-align: middle;\n",
       "    }\n",
       "\n",
       "    .dataframe tbody tr th {\n",
       "        vertical-align: top;\n",
       "    }\n",
       "\n",
       "    .dataframe thead th {\n",
       "        text-align: right;\n",
       "    }\n",
       "</style>\n",
       "<table border=\"1\" class=\"dataframe\">\n",
       "  <thead>\n",
       "    <tr style=\"text-align: right;\">\n",
       "      <th></th>\n",
       "      <th>customer_unique_id</th>\n",
       "      <th>month</th>\n",
       "      <th>year</th>\n",
       "      <th>days_in_month</th>\n",
       "      <th>orders</th>\n",
       "      <th>weeks_in_month</th>\n",
       "      <th>mean_orders_per_week</th>\n",
       "    </tr>\n",
       "  </thead>\n",
       "  <tbody>\n",
       "    <tr>\n",
       "      <th>97570</th>\n",
       "      <td>ff22e30958c13ffe219db7d711e8f564</td>\n",
       "      <td>9</td>\n",
       "      <td>2018</td>\n",
       "      <td>30</td>\n",
       "      <td>1</td>\n",
       "      <td>4.29</td>\n",
       "      <td>0.233100</td>\n",
       "    </tr>\n",
       "    <tr>\n",
       "      <th>76689</th>\n",
       "      <td>c8460e4251689ba205045f3ea17884a1</td>\n",
       "      <td>8</td>\n",
       "      <td>2018</td>\n",
       "      <td>31</td>\n",
       "      <td>24</td>\n",
       "      <td>4.43</td>\n",
       "      <td>5.417607</td>\n",
       "    </tr>\n",
       "    <tr>\n",
       "      <th>76954</th>\n",
       "      <td>c8ed31310fc440a3f8031b177f9842c3</td>\n",
       "      <td>8</td>\n",
       "      <td>2018</td>\n",
       "      <td>31</td>\n",
       "      <td>10</td>\n",
       "      <td>4.43</td>\n",
       "      <td>2.257336</td>\n",
       "    </tr>\n",
       "    <tr>\n",
       "      <th>3353</th>\n",
       "      <td>08a374bca4063116d5530a7b04ecaf3f</td>\n",
       "      <td>8</td>\n",
       "      <td>2018</td>\n",
       "      <td>31</td>\n",
       "      <td>7</td>\n",
       "      <td>4.43</td>\n",
       "      <td>1.580135</td>\n",
       "    </tr>\n",
       "    <tr>\n",
       "      <th>73379</th>\n",
       "      <td>bf869f6a89c8ba217f47e22359f884f2</td>\n",
       "      <td>8</td>\n",
       "      <td>2018</td>\n",
       "      <td>31</td>\n",
       "      <td>7</td>\n",
       "      <td>4.43</td>\n",
       "      <td>1.580135</td>\n",
       "    </tr>\n",
       "    <tr>\n",
       "      <th>...</th>\n",
       "      <td>...</td>\n",
       "      <td>...</td>\n",
       "      <td>...</td>\n",
       "      <td>...</td>\n",
       "      <td>...</td>\n",
       "      <td>...</td>\n",
       "      <td>...</td>\n",
       "    </tr>\n",
       "    <tr>\n",
       "      <th>97009</th>\n",
       "      <td>fdaa290acb9eeacb66fa7f979baa6803</td>\n",
       "      <td>10</td>\n",
       "      <td>2016</td>\n",
       "      <td>31</td>\n",
       "      <td>1</td>\n",
       "      <td>4.43</td>\n",
       "      <td>0.225734</td>\n",
       "    </tr>\n",
       "    <tr>\n",
       "      <th>97603</th>\n",
       "      <td>ff39ae410be7f9b3a2457c546c6f67de</td>\n",
       "      <td>10</td>\n",
       "      <td>2016</td>\n",
       "      <td>31</td>\n",
       "      <td>1</td>\n",
       "      <td>4.43</td>\n",
       "      <td>0.225734</td>\n",
       "    </tr>\n",
       "    <tr>\n",
       "      <th>97722</th>\n",
       "      <td>ff822e5e1322cef6c211ad8a0591999e</td>\n",
       "      <td>10</td>\n",
       "      <td>2016</td>\n",
       "      <td>31</td>\n",
       "      <td>1</td>\n",
       "      <td>4.43</td>\n",
       "      <td>0.225734</td>\n",
       "    </tr>\n",
       "    <tr>\n",
       "      <th>97725</th>\n",
       "      <td>ff8557b296729eaa30f078d974c86812</td>\n",
       "      <td>10</td>\n",
       "      <td>2016</td>\n",
       "      <td>31</td>\n",
       "      <td>1</td>\n",
       "      <td>4.43</td>\n",
       "      <td>0.225734</td>\n",
       "    </tr>\n",
       "    <tr>\n",
       "      <th>50245</th>\n",
       "      <td>830d5b7aaa3b6f1e9ad63703bec97d23</td>\n",
       "      <td>9</td>\n",
       "      <td>2016</td>\n",
       "      <td>30</td>\n",
       "      <td>3</td>\n",
       "      <td>4.29</td>\n",
       "      <td>0.699301</td>\n",
       "    </tr>\n",
       "  </tbody>\n",
       "</table>\n",
       "<p>97912 rows × 7 columns</p>\n",
       "</div>"
      ],
      "text/plain": [
       "                     customer_unique_id  month  year  days_in_month  orders  \\\n",
       "97570  ff22e30958c13ffe219db7d711e8f564      9  2018             30       1   \n",
       "76689  c8460e4251689ba205045f3ea17884a1      8  2018             31      24   \n",
       "76954  c8ed31310fc440a3f8031b177f9842c3      8  2018             31      10   \n",
       "3353   08a374bca4063116d5530a7b04ecaf3f      8  2018             31       7   \n",
       "73379  bf869f6a89c8ba217f47e22359f884f2      8  2018             31       7   \n",
       "...                                 ...    ...   ...            ...     ...   \n",
       "97009  fdaa290acb9eeacb66fa7f979baa6803     10  2016             31       1   \n",
       "97603  ff39ae410be7f9b3a2457c546c6f67de     10  2016             31       1   \n",
       "97722  ff822e5e1322cef6c211ad8a0591999e     10  2016             31       1   \n",
       "97725  ff8557b296729eaa30f078d974c86812     10  2016             31       1   \n",
       "50245  830d5b7aaa3b6f1e9ad63703bec97d23      9  2016             30       3   \n",
       "\n",
       "       weeks_in_month  mean_orders_per_week  \n",
       "97570            4.29              0.233100  \n",
       "76689            4.43              5.417607  \n",
       "76954            4.43              2.257336  \n",
       "3353             4.43              1.580135  \n",
       "73379            4.43              1.580135  \n",
       "...               ...                   ...  \n",
       "97009            4.43              0.225734  \n",
       "97603            4.43              0.225734  \n",
       "97722            4.43              0.225734  \n",
       "97725            4.43              0.225734  \n",
       "50245            4.29              0.699301  \n",
       "\n",
       "[97912 rows x 7 columns]"
      ]
     },
     "execution_count": 47,
     "metadata": {},
     "output_type": "execute_result"
    }
   ],
   "source": [
    "task4.sort_values(['year', 'month', 'mean_orders_per_week'], ascending=False)"
   ]
  },
  {
   "cell_type": "markdown",
   "metadata": {
    "pycharm": {
     "name": "#%% md\n"
    }
   },
   "source": [
    "# Задание 5"
   ]
  },
  {
   "cell_type": "markdown",
   "metadata": {
    "pycharm": {
     "name": "#%% md\n"
    }
   },
   "source": [
    "Используя pandas, проведи когортный анализ пользователей. В период с января по декабрь выяви когорту с самым высоким retention на 3й месяц. "
   ]
  },
  {
   "cell_type": "code",
   "execution_count": 48,
   "metadata": {
    "pycharm": {
     "name": "#%%\n"
    }
   },
   "outputs": [],
   "source": [
    "task5 = df[['customer_unique_id', 'order_approved_at']].copy().dropna()"
   ]
  },
  {
   "cell_type": "code",
   "execution_count": 49,
   "metadata": {
    "pycharm": {
     "name": "#%%\n"
    }
   },
   "outputs": [
    {
     "data": {
      "text/plain": [
       "customer_unique_id            object\n",
       "order_approved_at     datetime64[ns]\n",
       "OrderPeriod                   object\n",
       "dtype: object"
      ]
     },
     "execution_count": 49,
     "metadata": {},
     "output_type": "execute_result"
    }
   ],
   "source": [
    "task5['OrderPeriod'] = pd.to_datetime(task5.order_approved_at).apply(lambda x: x.strftime('%Y-%m')).copy()\n",
    "task5.dtypes"
   ]
  },
  {
   "cell_type": "markdown",
   "metadata": {
    "pycharm": {
     "name": "#%% md\n"
    }
   },
   "source": [
    "Возьмем период за 2017 год"
   ]
  },
  {
   "cell_type": "code",
   "execution_count": 50,
   "metadata": {
    "pycharm": {
     "name": "#%%\n"
    }
   },
   "outputs": [],
   "source": [
    "task5 = task5[(task5['order_approved_at'] > '2016-12-31') & (task5['order_approved_at'] < '2018-01-01') ]"
   ]
  },
  {
   "cell_type": "code",
   "execution_count": 51,
   "metadata": {
    "pycharm": {
     "name": "#%%\n"
    }
   },
   "outputs": [],
   "source": [
    "first_date = task5.groupby('customer_unique_id')['order_approved_at'].agg('min').dt.strftime('%Y-%m').reset_index().rename(columns = {'order_approved_at':'JoinMonth'})"
   ]
  },
  {
   "cell_type": "code",
   "execution_count": 52,
   "metadata": {
    "pycharm": {
     "name": "#%%\n"
    }
   },
   "outputs": [],
   "source": [
    "orders_merged = task5.merge(first_date, how = 'inner', on ='customer_unique_id')\n"
   ]
  },
  {
   "cell_type": "code",
   "execution_count": 53,
   "metadata": {
    "pycharm": {
     "name": "#%%\n"
    }
   },
   "outputs": [],
   "source": [
    "orders_merged['TotalOrders'] = 0"
   ]
  },
  {
   "cell_type": "code",
   "execution_count": 54,
   "metadata": {
    "pycharm": {
     "name": "#%%\n"
    }
   },
   "outputs": [
    {
     "data": {
      "text/html": [
       "<div>\n",
       "<style scoped>\n",
       "    .dataframe tbody tr th:only-of-type {\n",
       "        vertical-align: middle;\n",
       "    }\n",
       "\n",
       "    .dataframe tbody tr th {\n",
       "        vertical-align: top;\n",
       "    }\n",
       "\n",
       "    .dataframe thead th {\n",
       "        text-align: right;\n",
       "    }\n",
       "</style>\n",
       "<table border=\"1\" class=\"dataframe\">\n",
       "  <thead>\n",
       "    <tr style=\"text-align: right;\">\n",
       "      <th></th>\n",
       "      <th>customer_unique_id</th>\n",
       "      <th>order_approved_at</th>\n",
       "      <th>OrderPeriod</th>\n",
       "      <th>JoinMonth</th>\n",
       "      <th>TotalOrders</th>\n",
       "    </tr>\n",
       "  </thead>\n",
       "  <tbody>\n",
       "    <tr>\n",
       "      <th>0</th>\n",
       "      <td>861eff4711a542e4b93843c6dd7febb0</td>\n",
       "      <td>2017-05-16 15:22:12</td>\n",
       "      <td>2017-05</td>\n",
       "      <td>2017-05</td>\n",
       "      <td>0</td>\n",
       "    </tr>\n",
       "    <tr>\n",
       "      <th>1</th>\n",
       "      <td>4c93744516667ad3b8f1fb645a3116a4</td>\n",
       "      <td>2017-09-14 18:25:11</td>\n",
       "      <td>2017-09</td>\n",
       "      <td>2017-09</td>\n",
       "      <td>0</td>\n",
       "    </tr>\n",
       "    <tr>\n",
       "      <th>2</th>\n",
       "      <td>4c93744516667ad3b8f1fb645a3116a4</td>\n",
       "      <td>2017-10-15 13:05:29</td>\n",
       "      <td>2017-10</td>\n",
       "      <td>2017-09</td>\n",
       "      <td>0</td>\n",
       "    </tr>\n",
       "    <tr>\n",
       "      <th>3</th>\n",
       "      <td>57b2a98a409812fe9618067b6b8ebe4f</td>\n",
       "      <td>2017-11-16 19:55:41</td>\n",
       "      <td>2017-11</td>\n",
       "      <td>2017-11</td>\n",
       "      <td>0</td>\n",
       "    </tr>\n",
       "    <tr>\n",
       "      <th>4</th>\n",
       "      <td>2a7745e1ed516b289ed9b29c7d0539a5</td>\n",
       "      <td>2017-11-27 18:01:20</td>\n",
       "      <td>2017-11</td>\n",
       "      <td>2017-11</td>\n",
       "      <td>0</td>\n",
       "    </tr>\n",
       "    <tr>\n",
       "      <th>...</th>\n",
       "      <td>...</td>\n",
       "      <td>...</td>\n",
       "      <td>...</td>\n",
       "      <td>...</td>\n",
       "      <td>...</td>\n",
       "    </tr>\n",
       "    <tr>\n",
       "      <th>51248</th>\n",
       "      <td>277490f0d435b602fe4475d4b89e9181</td>\n",
       "      <td>2017-05-25 02:50:25</td>\n",
       "      <td>2017-05</td>\n",
       "      <td>2017-05</td>\n",
       "      <td>0</td>\n",
       "    </tr>\n",
       "    <tr>\n",
       "      <th>51249</th>\n",
       "      <td>e7f8760e2bbd2f1986bebd99596c088e</td>\n",
       "      <td>2017-03-15 21:04:08</td>\n",
       "      <td>2017-03</td>\n",
       "      <td>2017-03</td>\n",
       "      <td>0</td>\n",
       "    </tr>\n",
       "    <tr>\n",
       "      <th>51250</th>\n",
       "      <td>4b5820135d360a45552b5163835b1d89</td>\n",
       "      <td>2017-12-18 00:17:27</td>\n",
       "      <td>2017-12</td>\n",
       "      <td>2017-12</td>\n",
       "      <td>0</td>\n",
       "    </tr>\n",
       "    <tr>\n",
       "      <th>51251</th>\n",
       "      <td>73c2643a0a458b49f58cea58833b192e</td>\n",
       "      <td>2017-11-03 21:31:20</td>\n",
       "      <td>2017-11</td>\n",
       "      <td>2017-11</td>\n",
       "      <td>0</td>\n",
       "    </tr>\n",
       "    <tr>\n",
       "      <th>51252</th>\n",
       "      <td>84732c5050c01db9b23e19ba39899398</td>\n",
       "      <td>2017-12-19 18:50:39</td>\n",
       "      <td>2017-12</td>\n",
       "      <td>2017-12</td>\n",
       "      <td>0</td>\n",
       "    </tr>\n",
       "  </tbody>\n",
       "</table>\n",
       "<p>51253 rows × 5 columns</p>\n",
       "</div>"
      ],
      "text/plain": [
       "                     customer_unique_id   order_approved_at OrderPeriod  \\\n",
       "0      861eff4711a542e4b93843c6dd7febb0 2017-05-16 15:22:12     2017-05   \n",
       "1      4c93744516667ad3b8f1fb645a3116a4 2017-09-14 18:25:11     2017-09   \n",
       "2      4c93744516667ad3b8f1fb645a3116a4 2017-10-15 13:05:29     2017-10   \n",
       "3      57b2a98a409812fe9618067b6b8ebe4f 2017-11-16 19:55:41     2017-11   \n",
       "4      2a7745e1ed516b289ed9b29c7d0539a5 2017-11-27 18:01:20     2017-11   \n",
       "...                                 ...                 ...         ...   \n",
       "51248  277490f0d435b602fe4475d4b89e9181 2017-05-25 02:50:25     2017-05   \n",
       "51249  e7f8760e2bbd2f1986bebd99596c088e 2017-03-15 21:04:08     2017-03   \n",
       "51250  4b5820135d360a45552b5163835b1d89 2017-12-18 00:17:27     2017-12   \n",
       "51251  73c2643a0a458b49f58cea58833b192e 2017-11-03 21:31:20     2017-11   \n",
       "51252  84732c5050c01db9b23e19ba39899398 2017-12-19 18:50:39     2017-12   \n",
       "\n",
       "      JoinMonth  TotalOrders  \n",
       "0       2017-05            0  \n",
       "1       2017-09            0  \n",
       "2       2017-09            0  \n",
       "3       2017-11            0  \n",
       "4       2017-11            0  \n",
       "...         ...          ...  \n",
       "51248   2017-05            0  \n",
       "51249   2017-03            0  \n",
       "51250   2017-12            0  \n",
       "51251   2017-11            0  \n",
       "51252   2017-12            0  \n",
       "\n",
       "[51253 rows x 5 columns]"
      ]
     },
     "execution_count": 54,
     "metadata": {},
     "output_type": "execute_result"
    }
   ],
   "source": [
    "orders_merged"
   ]
  },
  {
   "cell_type": "code",
   "execution_count": 55,
   "metadata": {
    "pycharm": {
     "name": "#%%\n"
    }
   },
   "outputs": [
    {
     "data": {
      "text/html": [
       "<div>\n",
       "<style scoped>\n",
       "    .dataframe tbody tr th:only-of-type {\n",
       "        vertical-align: middle;\n",
       "    }\n",
       "\n",
       "    .dataframe tbody tr th {\n",
       "        vertical-align: top;\n",
       "    }\n",
       "\n",
       "    .dataframe thead th {\n",
       "        text-align: right;\n",
       "    }\n",
       "</style>\n",
       "<table border=\"1\" class=\"dataframe\">\n",
       "  <thead>\n",
       "    <tr style=\"text-align: right;\">\n",
       "      <th></th>\n",
       "      <th></th>\n",
       "      <th>TotalUsers</th>\n",
       "      <th>TotalOrders</th>\n",
       "    </tr>\n",
       "    <tr>\n",
       "      <th>JoinMonth</th>\n",
       "      <th>OrderPeriod</th>\n",
       "      <th></th>\n",
       "      <th></th>\n",
       "    </tr>\n",
       "  </thead>\n",
       "  <tbody>\n",
       "    <tr>\n",
       "      <th rowspan=\"5\" valign=\"top\">2017-01</th>\n",
       "      <th>2017-01</th>\n",
       "      <td>727</td>\n",
       "      <td>916</td>\n",
       "    </tr>\n",
       "    <tr>\n",
       "      <th>2017-02</th>\n",
       "      <td>4</td>\n",
       "      <td>4</td>\n",
       "    </tr>\n",
       "    <tr>\n",
       "      <th>2017-03</th>\n",
       "      <td>2</td>\n",
       "      <td>2</td>\n",
       "    </tr>\n",
       "    <tr>\n",
       "      <th>2017-04</th>\n",
       "      <td>1</td>\n",
       "      <td>1</td>\n",
       "    </tr>\n",
       "    <tr>\n",
       "      <th>2017-05</th>\n",
       "      <td>3</td>\n",
       "      <td>3</td>\n",
       "    </tr>\n",
       "  </tbody>\n",
       "</table>\n",
       "</div>"
      ],
      "text/plain": [
       "                       TotalUsers  TotalOrders\n",
       "JoinMonth OrderPeriod                         \n",
       "2017-01   2017-01             727          916\n",
       "          2017-02               4            4\n",
       "          2017-03               2            2\n",
       "          2017-04               1            1\n",
       "          2017-05               3            3"
      ]
     },
     "execution_count": 55,
     "metadata": {},
     "output_type": "execute_result"
    }
   ],
   "source": [
    "grouped = orders_merged.groupby(['JoinMonth', 'OrderPeriod'])\n",
    "# количество уникальных пользователей и общее количество заказов и выручка за период\n",
    "cohorts = grouped.agg({'customer_unique_id': pd.Series.nunique,\n",
    " 'TotalOrders': pd.Series.count, })\n",
    "# переименуем некоторые столбцы для большей наглядности\n",
    "cohorts.rename(columns={'customer_unique_id': 'TotalUsers',\n",
    " 'TotalOrders': 'TotalOrders'}, inplace=True)\n",
    "cohorts.head()\n"
   ]
  },
  {
   "cell_type": "code",
   "execution_count": 56,
   "metadata": {
    "pycharm": {
     "name": "#%%\n"
    }
   },
   "outputs": [
    {
     "data": {
      "text/html": [
       "<div>\n",
       "<style scoped>\n",
       "    .dataframe tbody tr th:only-of-type {\n",
       "        vertical-align: middle;\n",
       "    }\n",
       "\n",
       "    .dataframe tbody tr th {\n",
       "        vertical-align: top;\n",
       "    }\n",
       "\n",
       "    .dataframe thead th {\n",
       "        text-align: right;\n",
       "    }\n",
       "</style>\n",
       "<table border=\"1\" class=\"dataframe\">\n",
       "  <thead>\n",
       "    <tr style=\"text-align: right;\">\n",
       "      <th></th>\n",
       "      <th></th>\n",
       "      <th>TotalUsers</th>\n",
       "      <th>TotalOrders</th>\n",
       "      <th>CohortPeriod</th>\n",
       "    </tr>\n",
       "    <tr>\n",
       "      <th>JoinMonth</th>\n",
       "      <th>OrderPeriod</th>\n",
       "      <th></th>\n",
       "      <th></th>\n",
       "      <th></th>\n",
       "    </tr>\n",
       "  </thead>\n",
       "  <tbody>\n",
       "    <tr>\n",
       "      <th rowspan=\"5\" valign=\"top\">2017-01</th>\n",
       "      <th>2017-01</th>\n",
       "      <td>727</td>\n",
       "      <td>916</td>\n",
       "      <td>1</td>\n",
       "    </tr>\n",
       "    <tr>\n",
       "      <th>2017-02</th>\n",
       "      <td>4</td>\n",
       "      <td>4</td>\n",
       "      <td>2</td>\n",
       "    </tr>\n",
       "    <tr>\n",
       "      <th>2017-03</th>\n",
       "      <td>2</td>\n",
       "      <td>2</td>\n",
       "      <td>3</td>\n",
       "    </tr>\n",
       "    <tr>\n",
       "      <th>2017-04</th>\n",
       "      <td>1</td>\n",
       "      <td>1</td>\n",
       "      <td>4</td>\n",
       "    </tr>\n",
       "    <tr>\n",
       "      <th>2017-05</th>\n",
       "      <td>3</td>\n",
       "      <td>3</td>\n",
       "      <td>5</td>\n",
       "    </tr>\n",
       "  </tbody>\n",
       "</table>\n",
       "</div>"
      ],
      "text/plain": [
       "                       TotalUsers  TotalOrders  CohortPeriod\n",
       "JoinMonth OrderPeriod                                       \n",
       "2017-01   2017-01             727          916             1\n",
       "          2017-02               4            4             2\n",
       "          2017-03               2            2             3\n",
       "          2017-04               1            1             4\n",
       "          2017-05               3            3             5"
      ]
     },
     "execution_count": 56,
     "metadata": {},
     "output_type": "execute_result"
    }
   ],
   "source": [
    "def cohort_period(df):\n",
    " df['CohortPeriod'] = np.arange(len(df)) + 1 # отсчет с 1\n",
    " return df\n",
    "cohorts = cohorts.groupby(level=0).apply(cohort_period)\n",
    "cohorts.head()"
   ]
  },
  {
   "cell_type": "code",
   "execution_count": 57,
   "metadata": {
    "pycharm": {
     "name": "#%%\n"
    }
   },
   "outputs": [
    {
     "data": {
      "text/plain": [
       "JoinMonth\n",
       "2017-01     727\n",
       "2017-02    1736\n",
       "2017-03    2643\n",
       "2017-04    2324\n",
       "2017-05    3592\n",
       "Name: TotalUsers, dtype: int64"
      ]
     },
     "execution_count": 57,
     "metadata": {},
     "output_type": "execute_result"
    }
   ],
   "source": [
    "# переиндексируем DataFrame\n",
    "cohorts.reset_index(inplace=True)\n",
    "cohorts.set_index(['CohortPeriod','JoinMonth'], inplace=True)\n",
    "# создадим ряд содержаший размер каждой когорты JoinMonth\n",
    "cohort_group_size = cohorts['TotalUsers'].groupby(level=1).first()\n",
    "cohort_group_size.head()"
   ]
  },
  {
   "cell_type": "code",
   "execution_count": 58,
   "metadata": {
    "pycharm": {
     "name": "#%%\n"
    }
   },
   "outputs": [
    {
     "data": {
      "text/plain": [
       "JoinMonth\n",
       "2017-01     727\n",
       "2017-02    1736\n",
       "2017-03    2643\n",
       "2017-04    2324\n",
       "2017-05    3592\n",
       "2017-06    3148\n",
       "2017-07    3844\n",
       "2017-08    4204\n",
       "2017-09    4149\n",
       "2017-10    4433\n",
       "2017-11    7164\n",
       "2017-12    5638\n",
       "Name: TotalUsers, dtype: int64"
      ]
     },
     "execution_count": 58,
     "metadata": {},
     "output_type": "execute_result"
    }
   ],
   "source": [
    "cohort_group_size"
   ]
  },
  {
   "cell_type": "code",
   "execution_count": 59,
   "metadata": {
    "pycharm": {
     "name": "#%%\n"
    }
   },
   "outputs": [
    {
     "data": {
      "text/html": [
       "<div>\n",
       "<style scoped>\n",
       "    .dataframe tbody tr th:only-of-type {\n",
       "        vertical-align: middle;\n",
       "    }\n",
       "\n",
       "    .dataframe tbody tr th {\n",
       "        vertical-align: top;\n",
       "    }\n",
       "\n",
       "    .dataframe thead th {\n",
       "        text-align: right;\n",
       "    }\n",
       "</style>\n",
       "<table border=\"1\" class=\"dataframe\">\n",
       "  <thead>\n",
       "    <tr style=\"text-align: right;\">\n",
       "      <th>CohortPeriod</th>\n",
       "      <th>1</th>\n",
       "      <th>2</th>\n",
       "      <th>3</th>\n",
       "      <th>4</th>\n",
       "      <th>5</th>\n",
       "      <th>6</th>\n",
       "      <th>7</th>\n",
       "      <th>8</th>\n",
       "      <th>9</th>\n",
       "      <th>10</th>\n",
       "      <th>11</th>\n",
       "    </tr>\n",
       "    <tr>\n",
       "      <th>JoinMonth</th>\n",
       "      <th></th>\n",
       "      <th></th>\n",
       "      <th></th>\n",
       "      <th></th>\n",
       "      <th></th>\n",
       "      <th></th>\n",
       "      <th></th>\n",
       "      <th></th>\n",
       "      <th></th>\n",
       "      <th></th>\n",
       "      <th></th>\n",
       "    </tr>\n",
       "  </thead>\n",
       "  <tbody>\n",
       "    <tr>\n",
       "      <th>2017-01</th>\n",
       "      <td>727.0</td>\n",
       "      <td>4.0</td>\n",
       "      <td>2.0</td>\n",
       "      <td>1.0</td>\n",
       "      <td>3.0</td>\n",
       "      <td>1.0</td>\n",
       "      <td>4.0</td>\n",
       "      <td>1.0</td>\n",
       "      <td>1.0</td>\n",
       "      <td>2.0</td>\n",
       "      <td>2.0</td>\n",
       "    </tr>\n",
       "    <tr>\n",
       "      <th>2017-02</th>\n",
       "      <td>1736.0</td>\n",
       "      <td>4.0</td>\n",
       "      <td>4.0</td>\n",
       "      <td>3.0</td>\n",
       "      <td>7.0</td>\n",
       "      <td>2.0</td>\n",
       "      <td>4.0</td>\n",
       "      <td>3.0</td>\n",
       "      <td>2.0</td>\n",
       "      <td>4.0</td>\n",
       "      <td>2.0</td>\n",
       "    </tr>\n",
       "    <tr>\n",
       "      <th>2017-03</th>\n",
       "      <td>2643.0</td>\n",
       "      <td>13.0</td>\n",
       "      <td>9.0</td>\n",
       "      <td>9.0</td>\n",
       "      <td>9.0</td>\n",
       "      <td>4.0</td>\n",
       "      <td>4.0</td>\n",
       "      <td>8.0</td>\n",
       "      <td>8.0</td>\n",
       "      <td>3.0</td>\n",
       "      <td>NaN</td>\n",
       "    </tr>\n",
       "    <tr>\n",
       "      <th>2017-04</th>\n",
       "      <td>2324.0</td>\n",
       "      <td>14.0</td>\n",
       "      <td>5.0</td>\n",
       "      <td>4.0</td>\n",
       "      <td>7.0</td>\n",
       "      <td>6.0</td>\n",
       "      <td>8.0</td>\n",
       "      <td>6.0</td>\n",
       "      <td>8.0</td>\n",
       "      <td>NaN</td>\n",
       "      <td>NaN</td>\n",
       "    </tr>\n",
       "    <tr>\n",
       "      <th>2017-05</th>\n",
       "      <td>3592.0</td>\n",
       "      <td>19.0</td>\n",
       "      <td>18.0</td>\n",
       "      <td>14.0</td>\n",
       "      <td>11.0</td>\n",
       "      <td>12.0</td>\n",
       "      <td>15.0</td>\n",
       "      <td>6.0</td>\n",
       "      <td>NaN</td>\n",
       "      <td>NaN</td>\n",
       "      <td>NaN</td>\n",
       "    </tr>\n",
       "    <tr>\n",
       "      <th>2017-06</th>\n",
       "      <td>3148.0</td>\n",
       "      <td>15.0</td>\n",
       "      <td>11.0</td>\n",
       "      <td>13.0</td>\n",
       "      <td>8.0</td>\n",
       "      <td>11.0</td>\n",
       "      <td>12.0</td>\n",
       "      <td>NaN</td>\n",
       "      <td>NaN</td>\n",
       "      <td>NaN</td>\n",
       "      <td>NaN</td>\n",
       "    </tr>\n",
       "    <tr>\n",
       "      <th>2017-07</th>\n",
       "      <td>3844.0</td>\n",
       "      <td>20.0</td>\n",
       "      <td>13.0</td>\n",
       "      <td>8.0</td>\n",
       "      <td>13.0</td>\n",
       "      <td>7.0</td>\n",
       "      <td>NaN</td>\n",
       "      <td>NaN</td>\n",
       "      <td>NaN</td>\n",
       "      <td>NaN</td>\n",
       "      <td>NaN</td>\n",
       "    </tr>\n",
       "    <tr>\n",
       "      <th>2017-08</th>\n",
       "      <td>4204.0</td>\n",
       "      <td>28.0</td>\n",
       "      <td>15.0</td>\n",
       "      <td>11.0</td>\n",
       "      <td>16.0</td>\n",
       "      <td>NaN</td>\n",
       "      <td>NaN</td>\n",
       "      <td>NaN</td>\n",
       "      <td>NaN</td>\n",
       "      <td>NaN</td>\n",
       "      <td>NaN</td>\n",
       "    </tr>\n",
       "    <tr>\n",
       "      <th>2017-09</th>\n",
       "      <td>4149.0</td>\n",
       "      <td>27.0</td>\n",
       "      <td>20.0</td>\n",
       "      <td>14.0</td>\n",
       "      <td>NaN</td>\n",
       "      <td>NaN</td>\n",
       "      <td>NaN</td>\n",
       "      <td>NaN</td>\n",
       "      <td>NaN</td>\n",
       "      <td>NaN</td>\n",
       "      <td>NaN</td>\n",
       "    </tr>\n",
       "    <tr>\n",
       "      <th>2017-10</th>\n",
       "      <td>4433.0</td>\n",
       "      <td>30.0</td>\n",
       "      <td>13.0</td>\n",
       "      <td>NaN</td>\n",
       "      <td>NaN</td>\n",
       "      <td>NaN</td>\n",
       "      <td>NaN</td>\n",
       "      <td>NaN</td>\n",
       "      <td>NaN</td>\n",
       "      <td>NaN</td>\n",
       "      <td>NaN</td>\n",
       "    </tr>\n",
       "    <tr>\n",
       "      <th>2017-11</th>\n",
       "      <td>7164.0</td>\n",
       "      <td>39.0</td>\n",
       "      <td>NaN</td>\n",
       "      <td>NaN</td>\n",
       "      <td>NaN</td>\n",
       "      <td>NaN</td>\n",
       "      <td>NaN</td>\n",
       "      <td>NaN</td>\n",
       "      <td>NaN</td>\n",
       "      <td>NaN</td>\n",
       "      <td>NaN</td>\n",
       "    </tr>\n",
       "    <tr>\n",
       "      <th>2017-12</th>\n",
       "      <td>5638.0</td>\n",
       "      <td>NaN</td>\n",
       "      <td>NaN</td>\n",
       "      <td>NaN</td>\n",
       "      <td>NaN</td>\n",
       "      <td>NaN</td>\n",
       "      <td>NaN</td>\n",
       "      <td>NaN</td>\n",
       "      <td>NaN</td>\n",
       "      <td>NaN</td>\n",
       "      <td>NaN</td>\n",
       "    </tr>\n",
       "  </tbody>\n",
       "</table>\n",
       "</div>"
      ],
      "text/plain": [
       "CohortPeriod      1     2     3     4     5     6     7    8    9    10   11\n",
       "JoinMonth                                                                   \n",
       "2017-01        727.0   4.0   2.0   1.0   3.0   1.0   4.0  1.0  1.0  2.0  2.0\n",
       "2017-02       1736.0   4.0   4.0   3.0   7.0   2.0   4.0  3.0  2.0  4.0  2.0\n",
       "2017-03       2643.0  13.0   9.0   9.0   9.0   4.0   4.0  8.0  8.0  3.0  NaN\n",
       "2017-04       2324.0  14.0   5.0   4.0   7.0   6.0   8.0  6.0  8.0  NaN  NaN\n",
       "2017-05       3592.0  19.0  18.0  14.0  11.0  12.0  15.0  6.0  NaN  NaN  NaN\n",
       "2017-06       3148.0  15.0  11.0  13.0   8.0  11.0  12.0  NaN  NaN  NaN  NaN\n",
       "2017-07       3844.0  20.0  13.0   8.0  13.0   7.0   NaN  NaN  NaN  NaN  NaN\n",
       "2017-08       4204.0  28.0  15.0  11.0  16.0   NaN   NaN  NaN  NaN  NaN  NaN\n",
       "2017-09       4149.0  27.0  20.0  14.0   NaN   NaN   NaN  NaN  NaN  NaN  NaN\n",
       "2017-10       4433.0  30.0  13.0   NaN   NaN   NaN   NaN  NaN  NaN  NaN  NaN\n",
       "2017-11       7164.0  39.0   NaN   NaN   NaN   NaN   NaN  NaN  NaN  NaN  NaN\n",
       "2017-12       5638.0   NaN   NaN   NaN   NaN   NaN   NaN  NaN  NaN  NaN  NaN"
      ]
     },
     "execution_count": 59,
     "metadata": {},
     "output_type": "execute_result"
    }
   ],
   "source": [
    "cohorts['TotalUsers'].unstack(0)"
   ]
  },
  {
   "cell_type": "code",
   "execution_count": 60,
   "metadata": {
    "pycharm": {
     "name": "#%%\n"
    }
   },
   "outputs": [],
   "source": [
    "user_retention = cohorts['TotalUsers'].unstack(0).divide(cohort_group_size, axis=0)\n",
    "\n"
   ]
  },
  {
   "cell_type": "code",
   "execution_count": 61,
   "metadata": {
    "pycharm": {
     "name": "#%%\n"
    }
   },
   "outputs": [
    {
     "data": {
      "image/png": "[encoded data removed]",
      "text/plain": [
       "<Figure size 1728x1152 with 2 Axes>"
      ]
     },
     "metadata": {},
     "output_type": "display_data"
    }
   ],
   "source": [
    "sns.set(style='ticks')\n",
    "plt.figure(figsize=(24, 16))\n",
    "plt.title('Cohorts: User Retention')\n",
    "sns.heatmap(user_retention.T, mask=user_retention.T.isnull(), annot=True, fmt='.4f');"
   ]
  },
  {
   "cell_type": "code",
   "execution_count": 62,
   "metadata": {
    "pycharm": {
     "name": "#%%\n"
    }
   },
   "outputs": [
    {
     "data": {
      "text/html": [
       "<style type=\"text/css\">\n",
       "#T_87360_row0_col0, #T_87360_row0_col4, #T_87360_row0_col6, #T_87360_row0_col9, #T_87360_row0_col10, #T_87360_row1_col0, #T_87360_row2_col0, #T_87360_row2_col7, #T_87360_row3_col0, #T_87360_row3_col8, #T_87360_row4_col0, #T_87360_row4_col2, #T_87360_row5_col0, #T_87360_row5_col3, #T_87360_row5_col5, #T_87360_row6_col0, #T_87360_row7_col0, #T_87360_row8_col0, #T_87360_row9_col0, #T_87360_row9_col1, #T_87360_row10_col0, #T_87360_row11_col0 {\n",
       "  background-color: yellow;\n",
       "}\n",
       "</style>\n",
       "<table id=\"T_87360\">\n",
       "  <thead>\n",
       "    <tr>\n",
       "      <th class=\"index_name level0\" >CohortPeriod</th>\n",
       "      <th id=\"T_87360_level0_col0\" class=\"col_heading level0 col0\" >1</th>\n",
       "      <th id=\"T_87360_level0_col1\" class=\"col_heading level0 col1\" >2</th>\n",
       "      <th id=\"T_87360_level0_col2\" class=\"col_heading level0 col2\" >3</th>\n",
       "      <th id=\"T_87360_level0_col3\" class=\"col_heading level0 col3\" >4</th>\n",
       "      <th id=\"T_87360_level0_col4\" class=\"col_heading level0 col4\" >5</th>\n",
       "      <th id=\"T_87360_level0_col5\" class=\"col_heading level0 col5\" >6</th>\n",
       "      <th id=\"T_87360_level0_col6\" class=\"col_heading level0 col6\" >7</th>\n",
       "      <th id=\"T_87360_level0_col7\" class=\"col_heading level0 col7\" >8</th>\n",
       "      <th id=\"T_87360_level0_col8\" class=\"col_heading level0 col8\" >9</th>\n",
       "      <th id=\"T_87360_level0_col9\" class=\"col_heading level0 col9\" >10</th>\n",
       "      <th id=\"T_87360_level0_col10\" class=\"col_heading level0 col10\" >11</th>\n",
       "    </tr>\n",
       "    <tr>\n",
       "      <th class=\"index_name level0\" >JoinMonth</th>\n",
       "      <th class=\"blank col0\" >&nbsp;</th>\n",
       "      <th class=\"blank col1\" >&nbsp;</th>\n",
       "      <th class=\"blank col2\" >&nbsp;</th>\n",
       "      <th class=\"blank col3\" >&nbsp;</th>\n",
       "      <th class=\"blank col4\" >&nbsp;</th>\n",
       "      <th class=\"blank col5\" >&nbsp;</th>\n",
       "      <th class=\"blank col6\" >&nbsp;</th>\n",
       "      <th class=\"blank col7\" >&nbsp;</th>\n",
       "      <th class=\"blank col8\" >&nbsp;</th>\n",
       "      <th class=\"blank col9\" >&nbsp;</th>\n",
       "      <th class=\"blank col10\" >&nbsp;</th>\n",
       "    </tr>\n",
       "  </thead>\n",
       "  <tbody>\n",
       "    <tr>\n",
       "      <th id=\"T_87360_level0_row0\" class=\"row_heading level0 row0\" >2017-01</th>\n",
       "      <td id=\"T_87360_row0_col0\" class=\"data row0 col0\" >1.000000</td>\n",
       "      <td id=\"T_87360_row0_col1\" class=\"data row0 col1\" >0.005502</td>\n",
       "      <td id=\"T_87360_row0_col2\" class=\"data row0 col2\" >0.002751</td>\n",
       "      <td id=\"T_87360_row0_col3\" class=\"data row0 col3\" >0.001376</td>\n",
       "      <td id=\"T_87360_row0_col4\" class=\"data row0 col4\" >0.004127</td>\n",
       "      <td id=\"T_87360_row0_col5\" class=\"data row0 col5\" >0.001376</td>\n",
       "      <td id=\"T_87360_row0_col6\" class=\"data row0 col6\" >0.005502</td>\n",
       "      <td id=\"T_87360_row0_col7\" class=\"data row0 col7\" >0.001376</td>\n",
       "      <td id=\"T_87360_row0_col8\" class=\"data row0 col8\" >0.001376</td>\n",
       "      <td id=\"T_87360_row0_col9\" class=\"data row0 col9\" >0.002751</td>\n",
       "      <td id=\"T_87360_row0_col10\" class=\"data row0 col10\" >0.002751</td>\n",
       "    </tr>\n",
       "    <tr>\n",
       "      <th id=\"T_87360_level0_row1\" class=\"row_heading level0 row1\" >2017-02</th>\n",
       "      <td id=\"T_87360_row1_col0\" class=\"data row1 col0\" >1.000000</td>\n",
       "      <td id=\"T_87360_row1_col1\" class=\"data row1 col1\" >0.002304</td>\n",
       "      <td id=\"T_87360_row1_col2\" class=\"data row1 col2\" >0.002304</td>\n",
       "      <td id=\"T_87360_row1_col3\" class=\"data row1 col3\" >0.001728</td>\n",
       "      <td id=\"T_87360_row1_col4\" class=\"data row1 col4\" >0.004032</td>\n",
       "      <td id=\"T_87360_row1_col5\" class=\"data row1 col5\" >0.001152</td>\n",
       "      <td id=\"T_87360_row1_col6\" class=\"data row1 col6\" >0.002304</td>\n",
       "      <td id=\"T_87360_row1_col7\" class=\"data row1 col7\" >0.001728</td>\n",
       "      <td id=\"T_87360_row1_col8\" class=\"data row1 col8\" >0.001152</td>\n",
       "      <td id=\"T_87360_row1_col9\" class=\"data row1 col9\" >0.002304</td>\n",
       "      <td id=\"T_87360_row1_col10\" class=\"data row1 col10\" >0.001152</td>\n",
       "    </tr>\n",
       "    <tr>\n",
       "      <th id=\"T_87360_level0_row2\" class=\"row_heading level0 row2\" >2017-03</th>\n",
       "      <td id=\"T_87360_row2_col0\" class=\"data row2 col0\" >1.000000</td>\n",
       "      <td id=\"T_87360_row2_col1\" class=\"data row2 col1\" >0.004919</td>\n",
       "      <td id=\"T_87360_row2_col2\" class=\"data row2 col2\" >0.003405</td>\n",
       "      <td id=\"T_87360_row2_col3\" class=\"data row2 col3\" >0.003405</td>\n",
       "      <td id=\"T_87360_row2_col4\" class=\"data row2 col4\" >0.003405</td>\n",
       "      <td id=\"T_87360_row2_col5\" class=\"data row2 col5\" >0.001513</td>\n",
       "      <td id=\"T_87360_row2_col6\" class=\"data row2 col6\" >0.001513</td>\n",
       "      <td id=\"T_87360_row2_col7\" class=\"data row2 col7\" >0.003027</td>\n",
       "      <td id=\"T_87360_row2_col8\" class=\"data row2 col8\" >0.003027</td>\n",
       "      <td id=\"T_87360_row2_col9\" class=\"data row2 col9\" >0.001135</td>\n",
       "      <td id=\"T_87360_row2_col10\" class=\"data row2 col10\" >nan</td>\n",
       "    </tr>\n",
       "    <tr>\n",
       "      <th id=\"T_87360_level0_row3\" class=\"row_heading level0 row3\" >2017-04</th>\n",
       "      <td id=\"T_87360_row3_col0\" class=\"data row3 col0\" >1.000000</td>\n",
       "      <td id=\"T_87360_row3_col1\" class=\"data row3 col1\" >0.006024</td>\n",
       "      <td id=\"T_87360_row3_col2\" class=\"data row3 col2\" >0.002151</td>\n",
       "      <td id=\"T_87360_row3_col3\" class=\"data row3 col3\" >0.001721</td>\n",
       "      <td id=\"T_87360_row3_col4\" class=\"data row3 col4\" >0.003012</td>\n",
       "      <td id=\"T_87360_row3_col5\" class=\"data row3 col5\" >0.002582</td>\n",
       "      <td id=\"T_87360_row3_col6\" class=\"data row3 col6\" >0.003442</td>\n",
       "      <td id=\"T_87360_row3_col7\" class=\"data row3 col7\" >0.002582</td>\n",
       "      <td id=\"T_87360_row3_col8\" class=\"data row3 col8\" >0.003442</td>\n",
       "      <td id=\"T_87360_row3_col9\" class=\"data row3 col9\" >nan</td>\n",
       "      <td id=\"T_87360_row3_col10\" class=\"data row3 col10\" >nan</td>\n",
       "    </tr>\n",
       "    <tr>\n",
       "      <th id=\"T_87360_level0_row4\" class=\"row_heading level0 row4\" >2017-05</th>\n",
       "      <td id=\"T_87360_row4_col0\" class=\"data row4 col0\" >1.000000</td>\n",
       "      <td id=\"T_87360_row4_col1\" class=\"data row4 col1\" >0.005290</td>\n",
       "      <td id=\"T_87360_row4_col2\" class=\"data row4 col2\" >0.005011</td>\n",
       "      <td id=\"T_87360_row4_col3\" class=\"data row4 col3\" >0.003898</td>\n",
       "      <td id=\"T_87360_row4_col4\" class=\"data row4 col4\" >0.003062</td>\n",
       "      <td id=\"T_87360_row4_col5\" class=\"data row4 col5\" >0.003341</td>\n",
       "      <td id=\"T_87360_row4_col6\" class=\"data row4 col6\" >0.004176</td>\n",
       "      <td id=\"T_87360_row4_col7\" class=\"data row4 col7\" >0.001670</td>\n",
       "      <td id=\"T_87360_row4_col8\" class=\"data row4 col8\" >nan</td>\n",
       "      <td id=\"T_87360_row4_col9\" class=\"data row4 col9\" >nan</td>\n",
       "      <td id=\"T_87360_row4_col10\" class=\"data row4 col10\" >nan</td>\n",
       "    </tr>\n",
       "    <tr>\n",
       "      <th id=\"T_87360_level0_row5\" class=\"row_heading level0 row5\" >2017-06</th>\n",
       "      <td id=\"T_87360_row5_col0\" class=\"data row5 col0\" >1.000000</td>\n",
       "      <td id=\"T_87360_row5_col1\" class=\"data row5 col1\" >0.004765</td>\n",
       "      <td id=\"T_87360_row5_col2\" class=\"data row5 col2\" >0.003494</td>\n",
       "      <td id=\"T_87360_row5_col3\" class=\"data row5 col3\" >0.004130</td>\n",
       "      <td id=\"T_87360_row5_col4\" class=\"data row5 col4\" >0.002541</td>\n",
       "      <td id=\"T_87360_row5_col5\" class=\"data row5 col5\" >0.003494</td>\n",
       "      <td id=\"T_87360_row5_col6\" class=\"data row5 col6\" >0.003812</td>\n",
       "      <td id=\"T_87360_row5_col7\" class=\"data row5 col7\" >nan</td>\n",
       "      <td id=\"T_87360_row5_col8\" class=\"data row5 col8\" >nan</td>\n",
       "      <td id=\"T_87360_row5_col9\" class=\"data row5 col9\" >nan</td>\n",
       "      <td id=\"T_87360_row5_col10\" class=\"data row5 col10\" >nan</td>\n",
       "    </tr>\n",
       "    <tr>\n",
       "      <th id=\"T_87360_level0_row6\" class=\"row_heading level0 row6\" >2017-07</th>\n",
       "      <td id=\"T_87360_row6_col0\" class=\"data row6 col0\" >1.000000</td>\n",
       "      <td id=\"T_87360_row6_col1\" class=\"data row6 col1\" >0.005203</td>\n",
       "      <td id=\"T_87360_row6_col2\" class=\"data row6 col2\" >0.003382</td>\n",
       "      <td id=\"T_87360_row6_col3\" class=\"data row6 col3\" >0.002081</td>\n",
       "      <td id=\"T_87360_row6_col4\" class=\"data row6 col4\" >0.003382</td>\n",
       "      <td id=\"T_87360_row6_col5\" class=\"data row6 col5\" >0.001821</td>\n",
       "      <td id=\"T_87360_row6_col6\" class=\"data row6 col6\" >nan</td>\n",
       "      <td id=\"T_87360_row6_col7\" class=\"data row6 col7\" >nan</td>\n",
       "      <td id=\"T_87360_row6_col8\" class=\"data row6 col8\" >nan</td>\n",
       "      <td id=\"T_87360_row6_col9\" class=\"data row6 col9\" >nan</td>\n",
       "      <td id=\"T_87360_row6_col10\" class=\"data row6 col10\" >nan</td>\n",
       "    </tr>\n",
       "    <tr>\n",
       "      <th id=\"T_87360_level0_row7\" class=\"row_heading level0 row7\" >2017-08</th>\n",
       "      <td id=\"T_87360_row7_col0\" class=\"data row7 col0\" >1.000000</td>\n",
       "      <td id=\"T_87360_row7_col1\" class=\"data row7 col1\" >0.006660</td>\n",
       "      <td id=\"T_87360_row7_col2\" class=\"data row7 col2\" >0.003568</td>\n",
       "      <td id=\"T_87360_row7_col3\" class=\"data row7 col3\" >0.002617</td>\n",
       "      <td id=\"T_87360_row7_col4\" class=\"data row7 col4\" >0.003806</td>\n",
       "      <td id=\"T_87360_row7_col5\" class=\"data row7 col5\" >nan</td>\n",
       "      <td id=\"T_87360_row7_col6\" class=\"data row7 col6\" >nan</td>\n",
       "      <td id=\"T_87360_row7_col7\" class=\"data row7 col7\" >nan</td>\n",
       "      <td id=\"T_87360_row7_col8\" class=\"data row7 col8\" >nan</td>\n",
       "      <td id=\"T_87360_row7_col9\" class=\"data row7 col9\" >nan</td>\n",
       "      <td id=\"T_87360_row7_col10\" class=\"data row7 col10\" >nan</td>\n",
       "    </tr>\n",
       "    <tr>\n",
       "      <th id=\"T_87360_level0_row8\" class=\"row_heading level0 row8\" >2017-09</th>\n",
       "      <td id=\"T_87360_row8_col0\" class=\"data row8 col0\" >1.000000</td>\n",
       "      <td id=\"T_87360_row8_col1\" class=\"data row8 col1\" >0.006508</td>\n",
       "      <td id=\"T_87360_row8_col2\" class=\"data row8 col2\" >0.004820</td>\n",
       "      <td id=\"T_87360_row8_col3\" class=\"data row8 col3\" >0.003374</td>\n",
       "      <td id=\"T_87360_row8_col4\" class=\"data row8 col4\" >nan</td>\n",
       "      <td id=\"T_87360_row8_col5\" class=\"data row8 col5\" >nan</td>\n",
       "      <td id=\"T_87360_row8_col6\" class=\"data row8 col6\" >nan</td>\n",
       "      <td id=\"T_87360_row8_col7\" class=\"data row8 col7\" >nan</td>\n",
       "      <td id=\"T_87360_row8_col8\" class=\"data row8 col8\" >nan</td>\n",
       "      <td id=\"T_87360_row8_col9\" class=\"data row8 col9\" >nan</td>\n",
       "      <td id=\"T_87360_row8_col10\" class=\"data row8 col10\" >nan</td>\n",
       "    </tr>\n",
       "    <tr>\n",
       "      <th id=\"T_87360_level0_row9\" class=\"row_heading level0 row9\" >2017-10</th>\n",
       "      <td id=\"T_87360_row9_col0\" class=\"data row9 col0\" >1.000000</td>\n",
       "      <td id=\"T_87360_row9_col1\" class=\"data row9 col1\" >0.006767</td>\n",
       "      <td id=\"T_87360_row9_col2\" class=\"data row9 col2\" >0.002933</td>\n",
       "      <td id=\"T_87360_row9_col3\" class=\"data row9 col3\" >nan</td>\n",
       "      <td id=\"T_87360_row9_col4\" class=\"data row9 col4\" >nan</td>\n",
       "      <td id=\"T_87360_row9_col5\" class=\"data row9 col5\" >nan</td>\n",
       "      <td id=\"T_87360_row9_col6\" class=\"data row9 col6\" >nan</td>\n",
       "      <td id=\"T_87360_row9_col7\" class=\"data row9 col7\" >nan</td>\n",
       "      <td id=\"T_87360_row9_col8\" class=\"data row9 col8\" >nan</td>\n",
       "      <td id=\"T_87360_row9_col9\" class=\"data row9 col9\" >nan</td>\n",
       "      <td id=\"T_87360_row9_col10\" class=\"data row9 col10\" >nan</td>\n",
       "    </tr>\n",
       "    <tr>\n",
       "      <th id=\"T_87360_level0_row10\" class=\"row_heading level0 row10\" >2017-11</th>\n",
       "      <td id=\"T_87360_row10_col0\" class=\"data row10 col0\" >1.000000</td>\n",
       "      <td id=\"T_87360_row10_col1\" class=\"data row10 col1\" >0.005444</td>\n",
       "      <td id=\"T_87360_row10_col2\" class=\"data row10 col2\" >nan</td>\n",
       "      <td id=\"T_87360_row10_col3\" class=\"data row10 col3\" >nan</td>\n",
       "      <td id=\"T_87360_row10_col4\" class=\"data row10 col4\" >nan</td>\n",
       "      <td id=\"T_87360_row10_col5\" class=\"data row10 col5\" >nan</td>\n",
       "      <td id=\"T_87360_row10_col6\" class=\"data row10 col6\" >nan</td>\n",
       "      <td id=\"T_87360_row10_col7\" class=\"data row10 col7\" >nan</td>\n",
       "      <td id=\"T_87360_row10_col8\" class=\"data row10 col8\" >nan</td>\n",
       "      <td id=\"T_87360_row10_col9\" class=\"data row10 col9\" >nan</td>\n",
       "      <td id=\"T_87360_row10_col10\" class=\"data row10 col10\" >nan</td>\n",
       "    </tr>\n",
       "    <tr>\n",
       "      <th id=\"T_87360_level0_row11\" class=\"row_heading level0 row11\" >2017-12</th>\n",
       "      <td id=\"T_87360_row11_col0\" class=\"data row11 col0\" >1.000000</td>\n",
       "      <td id=\"T_87360_row11_col1\" class=\"data row11 col1\" >nan</td>\n",
       "      <td id=\"T_87360_row11_col2\" class=\"data row11 col2\" >nan</td>\n",
       "      <td id=\"T_87360_row11_col3\" class=\"data row11 col3\" >nan</td>\n",
       "      <td id=\"T_87360_row11_col4\" class=\"data row11 col4\" >nan</td>\n",
       "      <td id=\"T_87360_row11_col5\" class=\"data row11 col5\" >nan</td>\n",
       "      <td id=\"T_87360_row11_col6\" class=\"data row11 col6\" >nan</td>\n",
       "      <td id=\"T_87360_row11_col7\" class=\"data row11 col7\" >nan</td>\n",
       "      <td id=\"T_87360_row11_col8\" class=\"data row11 col8\" >nan</td>\n",
       "      <td id=\"T_87360_row11_col9\" class=\"data row11 col9\" >nan</td>\n",
       "      <td id=\"T_87360_row11_col10\" class=\"data row11 col10\" >nan</td>\n",
       "    </tr>\n",
       "  </tbody>\n",
       "</table>\n"
      ],
      "text/plain": [
       "<pandas.io.formats.style.Styler at 0x7f5a661bb100>"
      ]
     },
     "execution_count": 62,
     "metadata": {},
     "output_type": "execute_result"
    }
   ],
   "source": [
    "user_retention.style.highlight_max(axis='index')"
   ]
  },
  {
   "cell_type": "markdown",
   "metadata": {
    "pycharm": {
     "name": "#%% md\n"
    }
   },
   "source": [
    "Когорта пользователей, совершивших первую покупку 2017-05 показала самый высокий ретеншн на 3 месяц"
   ]
  },
  {
   "cell_type": "markdown",
   "metadata": {
    "pycharm": {
     "name": "#%% md\n"
    }
   },
   "source": [
    "# Задание 6"
   ]
  },
  {
   "cell_type": "code",
   "execution_count": 63,
   "metadata": {
    "pycharm": {
     "name": "#%%\n"
    }
   },
   "outputs": [
    {
     "data": {
      "text/plain": [
       "customer_id                         0\n",
       "customer_unique_id                  0\n",
       "customer_zip_code_prefix            0\n",
       "customer_city                       0\n",
       "customer_state                      0\n",
       "order_id                            0\n",
       "order_status                        0\n",
       "order_purchase_timestamp            0\n",
       "order_approved_at                 161\n",
       "order_delivered_carrier_date     1968\n",
       "order_delivered_customer_date    3229\n",
       "order_estimated_delivery_date       0\n",
       "order_item_id                     775\n",
       "product_id                        775\n",
       "seller_id                         775\n",
       "shipping_limit_date               775\n",
       "price                             775\n",
       "freight_value                     775\n",
       "dtype: int64"
      ]
     },
     "execution_count": 63,
     "metadata": {},
     "output_type": "execute_result"
    }
   ],
   "source": [
    "task6 = df.copy()\n",
    "#смотрим пропуски\n",
    "task6.isna().sum()"
   ]
  },
  {
   "cell_type": "code",
   "execution_count": 64,
   "metadata": {
    "pycharm": {
     "name": "#%%\n"
    }
   },
   "outputs": [
    {
     "data": {
      "text/plain": [
       "Index(['customer_id', 'customer_unique_id', 'customer_zip_code_prefix',\n",
       "       'customer_city', 'customer_state', 'order_id', 'order_status',\n",
       "       'order_purchase_timestamp', 'order_approved_at',\n",
       "       'order_delivered_carrier_date', 'order_delivered_customer_date',\n",
       "       'order_estimated_delivery_date', 'order_item_id', 'product_id',\n",
       "       'seller_id', 'shipping_limit_date', 'price', 'freight_value'],\n",
       "      dtype='object')"
      ]
     },
     "execution_count": 64,
     "metadata": {},
     "output_type": "execute_result"
    }
   ],
   "source": [
    "task6.columns"
   ]
  },
  {
   "cell_type": "code",
   "execution_count": 65,
   "metadata": {
    "pycharm": {
     "name": "#%%\n"
    }
   },
   "outputs": [],
   "source": [
    "# удаляем пропуски из колонок для анализа аудитории\n",
    "task6.dropna(subset= ['order_item_id', 'product_id',\n",
    "       'seller_id', 'shipping_limit_date', 'price', 'freight_value'], inplace= True)\n",
    "\n",
    "task6.drop(columns = ['customer_id','customer_zip_code_prefix',\n",
    "       'customer_city', 'customer_state','order_approved_at',\n",
    "       'order_delivered_carrier_date', 'order_delivered_customer_date',\n",
    "       'order_estimated_delivery_date', 'order_item_id', 'product_id',\n",
    "       'seller_id', 'shipping_limit_date'], inplace= True)       \n"
   ]
  },
  {
   "cell_type": "markdown",
   "metadata": {
    "pycharm": {
     "name": "#%% md\n"
    }
   },
   "source": [
    "#### Произведем RFM сегментацию пользователей. R - время от последней покупки пользователя до текущей даты, F - суммарное количество покупок у пользователя за всё время, M - сумма покупок за всё время."
   ]
  },
  {
   "cell_type": "markdown",
   "metadata": {
    "pycharm": {
     "name": "#%% md\n"
    }
   },
   "source": [
    "#### R\n"
   ]
  },
  {
   "cell_type": "code",
   "execution_count": 66,
   "metadata": {
    "pycharm": {
     "name": "#%%\n"
    }
   },
   "outputs": [],
   "source": [
    "# Последний день покупок будет текущим днем(настоящее время) в анализе\n",
    "task6['order_purchase_timestamp'] = pd.to_datetime(task6['order_purchase_timestamp'])\n",
    "last_day_analysis = task6['order_purchase_timestamp'].max()\n"
   ]
  },
  {
   "cell_type": "code",
   "execution_count": 67,
   "metadata": {
    "pycharm": {
     "name": "#%%\n"
    }
   },
   "outputs": [],
   "source": [
    "# Дата последней покупки каждого пользователя\n",
    "last_day_purchase = task6.groupby('customer_unique_id')['order_purchase_timestamp'].max().reset_index().copy()\n",
    "last_day_purchase['days_long'] = last_day_analysis - last_day_purchase['order_purchase_timestamp']"
   ]
  },
  {
   "cell_type": "code",
   "execution_count": 68,
   "metadata": {
    "pycharm": {
     "name": "#%%\n"
    }
   },
   "outputs": [
    {
     "data": {
      "text/html": [
       "<div>\n",
       "<style scoped>\n",
       "    .dataframe tbody tr th:only-of-type {\n",
       "        vertical-align: middle;\n",
       "    }\n",
       "\n",
       "    .dataframe tbody tr th {\n",
       "        vertical-align: top;\n",
       "    }\n",
       "\n",
       "    .dataframe thead th {\n",
       "        text-align: right;\n",
       "    }\n",
       "</style>\n",
       "<table border=\"1\" class=\"dataframe\">\n",
       "  <thead>\n",
       "    <tr style=\"text-align: right;\">\n",
       "      <th></th>\n",
       "      <th>customer_unique_id</th>\n",
       "      <th>order_purchase_timestamp</th>\n",
       "      <th>days_long</th>\n",
       "    </tr>\n",
       "  </thead>\n",
       "  <tbody>\n",
       "    <tr>\n",
       "      <th>0</th>\n",
       "      <td>0000366f3b9a7992bf8c76cfdf3221e2</td>\n",
       "      <td>2018-05-10 10:56:27</td>\n",
       "      <td>115 days 22:10:30</td>\n",
       "    </tr>\n",
       "    <tr>\n",
       "      <th>1</th>\n",
       "      <td>0000b849f77a49e4a4ce2b2a4ca5be3f</td>\n",
       "      <td>2018-05-07 11:11:27</td>\n",
       "      <td>118 days 21:55:30</td>\n",
       "    </tr>\n",
       "    <tr>\n",
       "      <th>2</th>\n",
       "      <td>0000f46a3911fa3c0805444483337064</td>\n",
       "      <td>2017-03-10 21:05:03</td>\n",
       "      <td>541 days 12:01:54</td>\n",
       "    </tr>\n",
       "    <tr>\n",
       "      <th>3</th>\n",
       "      <td>0000f6ccb0745a6a4b88665a16c9f078</td>\n",
       "      <td>2017-10-12 20:29:41</td>\n",
       "      <td>325 days 12:37:16</td>\n",
       "    </tr>\n",
       "    <tr>\n",
       "      <th>4</th>\n",
       "      <td>0004aac84e0df4da2b147fca70cf8255</td>\n",
       "      <td>2017-11-14 19:45:42</td>\n",
       "      <td>292 days 13:21:15</td>\n",
       "    </tr>\n",
       "    <tr>\n",
       "      <th>...</th>\n",
       "      <td>...</td>\n",
       "      <td>...</td>\n",
       "      <td>...</td>\n",
       "    </tr>\n",
       "    <tr>\n",
       "      <th>95415</th>\n",
       "      <td>fffcf5a5ff07b0908bd4e2dbc735a684</td>\n",
       "      <td>2017-06-08 21:00:36</td>\n",
       "      <td>451 days 12:06:21</td>\n",
       "    </tr>\n",
       "    <tr>\n",
       "      <th>95416</th>\n",
       "      <td>fffea47cd6d3cc0a88bd621562a9d061</td>\n",
       "      <td>2017-12-10 20:07:56</td>\n",
       "      <td>266 days 12:59:01</td>\n",
       "    </tr>\n",
       "    <tr>\n",
       "      <th>95417</th>\n",
       "      <td>ffff371b4d645b6ecea244b27531430a</td>\n",
       "      <td>2017-02-07 15:49:16</td>\n",
       "      <td>572 days 17:17:41</td>\n",
       "    </tr>\n",
       "    <tr>\n",
       "      <th>95418</th>\n",
       "      <td>ffff5962728ec6157033ef9805bacc48</td>\n",
       "      <td>2018-05-02 15:17:41</td>\n",
       "      <td>123 days 17:49:16</td>\n",
       "    </tr>\n",
       "    <tr>\n",
       "      <th>95419</th>\n",
       "      <td>ffffd2657e2aad2907e67c3e9daecbeb</td>\n",
       "      <td>2017-05-02 20:18:45</td>\n",
       "      <td>488 days 12:48:12</td>\n",
       "    </tr>\n",
       "  </tbody>\n",
       "</table>\n",
       "<p>95420 rows × 3 columns</p>\n",
       "</div>"
      ],
      "text/plain": [
       "                     customer_unique_id order_purchase_timestamp  \\\n",
       "0      0000366f3b9a7992bf8c76cfdf3221e2      2018-05-10 10:56:27   \n",
       "1      0000b849f77a49e4a4ce2b2a4ca5be3f      2018-05-07 11:11:27   \n",
       "2      0000f46a3911fa3c0805444483337064      2017-03-10 21:05:03   \n",
       "3      0000f6ccb0745a6a4b88665a16c9f078      2017-10-12 20:29:41   \n",
       "4      0004aac84e0df4da2b147fca70cf8255      2017-11-14 19:45:42   \n",
       "...                                 ...                      ...   \n",
       "95415  fffcf5a5ff07b0908bd4e2dbc735a684      2017-06-08 21:00:36   \n",
       "95416  fffea47cd6d3cc0a88bd621562a9d061      2017-12-10 20:07:56   \n",
       "95417  ffff371b4d645b6ecea244b27531430a      2017-02-07 15:49:16   \n",
       "95418  ffff5962728ec6157033ef9805bacc48      2018-05-02 15:17:41   \n",
       "95419  ffffd2657e2aad2907e67c3e9daecbeb      2017-05-02 20:18:45   \n",
       "\n",
       "              days_long  \n",
       "0     115 days 22:10:30  \n",
       "1     118 days 21:55:30  \n",
       "2     541 days 12:01:54  \n",
       "3     325 days 12:37:16  \n",
       "4     292 days 13:21:15  \n",
       "...                 ...  \n",
       "95415 451 days 12:06:21  \n",
       "95416 266 days 12:59:01  \n",
       "95417 572 days 17:17:41  \n",
       "95418 123 days 17:49:16  \n",
       "95419 488 days 12:48:12  \n",
       "\n",
       "[95420 rows x 3 columns]"
      ]
     },
     "execution_count": 68,
     "metadata": {},
     "output_type": "execute_result"
    }
   ],
   "source": [
    "last_day_purchase"
   ]
  },
  {
   "cell_type": "markdown",
   "metadata": {
    "pycharm": {
     "name": "#%% md\n"
    }
   },
   "source": [
    "#### F"
   ]
  },
  {
   "cell_type": "code",
   "execution_count": 69,
   "metadata": {
    "pycharm": {
     "name": "#%%\n"
    }
   },
   "outputs": [],
   "source": [
    "# Общее число заказов\n",
    "orders = task6.groupby('customer_unique_id')['order_id'].count().reset_index().copy()"
   ]
  },
  {
   "cell_type": "markdown",
   "metadata": {
    "pycharm": {
     "name": "#%% md\n"
    }
   },
   "source": [
    "#### M"
   ]
  },
  {
   "cell_type": "markdown",
   "metadata": {
    "pycharm": {
     "name": "#%% md\n"
    }
   },
   "source": [
    "#"
   ]
  },
  {
   "cell_type": "code",
   "execution_count": 70,
   "metadata": {
    "pycharm": {
     "name": "#%%\n"
    }
   },
   "outputs": [],
   "source": [
    "# Общая сумма покупок за все время\n",
    "sum_orders = task6.groupby('customer_unique_id')['price'].sum().reset_index().copy()"
   ]
  },
  {
   "cell_type": "code",
   "execution_count": 71,
   "metadata": {
    "pycharm": {
     "name": "#%%\n"
    }
   },
   "outputs": [],
   "source": [
    "task6 = last_day_purchase.merge(orders, on = 'customer_unique_id')"
   ]
  },
  {
   "cell_type": "code",
   "execution_count": 72,
   "metadata": {
    "pycharm": {
     "name": "#%%\n"
    }
   },
   "outputs": [],
   "source": [
    "task6 = task6.merge(sum_orders, on = 'customer_unique_id')"
   ]
  },
  {
   "cell_type": "code",
   "execution_count": 73,
   "metadata": {
    "pycharm": {
     "name": "#%%\n"
    }
   },
   "outputs": [],
   "source": [
    "task6.rename(columns={'order_id':'number_of_orders',\n",
    "                       'price' : 'total_amount'     }, inplace=True)"
   ]
  },
  {
   "cell_type": "markdown",
   "metadata": {
    "pycharm": {
     "name": "#%% md\n"
    }
   },
   "source": [
    "#### Сделаем итоговый датафрейм с RFM сегментацией "
   ]
  },
  {
   "cell_type": "code",
   "execution_count": 74,
   "metadata": {
    "pycharm": {
     "name": "#%%\n"
    }
   },
   "outputs": [],
   "source": [
    "labels_3 = [1,2,3]\n",
    "task6['R'] = pd.qcut(task6['days_long'], q = [0, .33, .66, 1] , labels= labels_3[::-1])\n",
    "task6['F'] = pd.qcut(task6['number_of_orders'], q  = [0, .95, .99, 1], labels = labels_3) # здесь разбиваем на данные пропорции, так-как большинство людей делает не более 1 заказа\n",
    "task6['M'] = pd.qcut(task6['total_amount'], q = [0, .33, .66, 1], labels = labels_3)\n"
   ]
  },
  {
   "cell_type": "markdown",
   "metadata": {
    "pycharm": {
     "name": "#%% md\n"
    }
   },
   "source": [
    "Мы сделали датафрейм, распределив на 3 категории с указанными квантилями (переменная q).  F категории мы указали другие квантили, потому что большинство людей соверашали 1 покупку, тогда как люди имеющие 20+ покупок для нас являются аномалией. У них значение F = 3\n"
   ]
  },
  {
   "cell_type": "code",
   "execution_count": 75,
   "metadata": {
    "pycharm": {
     "name": "#%%\n"
    }
   },
   "outputs": [],
   "source": [
    "task6 = task6.astype({'R' :'str', 'F' : 'str', 'M' : 'str'})\n",
    "task6['RFM'] = task6['R'] + task6['F'] + task6['M']"
   ]
  },
  {
   "cell_type": "code",
   "execution_count": 76,
   "metadata": {
    "pycharm": {
     "name": "#%%\n"
    }
   },
   "outputs": [
    {
     "data": {
      "text/html": [
       "<div>\n",
       "<style scoped>\n",
       "    .dataframe tbody tr th:only-of-type {\n",
       "        vertical-align: middle;\n",
       "    }\n",
       "\n",
       "    .dataframe tbody tr th {\n",
       "        vertical-align: top;\n",
       "    }\n",
       "\n",
       "    .dataframe thead th {\n",
       "        text-align: right;\n",
       "    }\n",
       "</style>\n",
       "<table border=\"1\" class=\"dataframe\">\n",
       "  <thead>\n",
       "    <tr style=\"text-align: right;\">\n",
       "      <th></th>\n",
       "      <th>customer_unique_id</th>\n",
       "      <th>order_purchase_timestamp</th>\n",
       "      <th>days_long</th>\n",
       "      <th>number_of_orders</th>\n",
       "      <th>total_amount</th>\n",
       "      <th>R</th>\n",
       "      <th>F</th>\n",
       "      <th>M</th>\n",
       "      <th>RFM</th>\n",
       "    </tr>\n",
       "  </thead>\n",
       "  <tbody>\n",
       "    <tr>\n",
       "      <th>0</th>\n",
       "      <td>0000366f3b9a7992bf8c76cfdf3221e2</td>\n",
       "      <td>2018-05-10 10:56:27</td>\n",
       "      <td>115 days 22:10:30</td>\n",
       "      <td>1</td>\n",
       "      <td>129.90</td>\n",
       "      <td>3</td>\n",
       "      <td>1</td>\n",
       "      <td>3</td>\n",
       "      <td>313</td>\n",
       "    </tr>\n",
       "    <tr>\n",
       "      <th>1</th>\n",
       "      <td>0000b849f77a49e4a4ce2b2a4ca5be3f</td>\n",
       "      <td>2018-05-07 11:11:27</td>\n",
       "      <td>118 days 21:55:30</td>\n",
       "      <td>1</td>\n",
       "      <td>18.90</td>\n",
       "      <td>3</td>\n",
       "      <td>1</td>\n",
       "      <td>1</td>\n",
       "      <td>311</td>\n",
       "    </tr>\n",
       "    <tr>\n",
       "      <th>2</th>\n",
       "      <td>0000f46a3911fa3c0805444483337064</td>\n",
       "      <td>2017-03-10 21:05:03</td>\n",
       "      <td>541 days 12:01:54</td>\n",
       "      <td>1</td>\n",
       "      <td>69.00</td>\n",
       "      <td>1</td>\n",
       "      <td>1</td>\n",
       "      <td>2</td>\n",
       "      <td>112</td>\n",
       "    </tr>\n",
       "    <tr>\n",
       "      <th>3</th>\n",
       "      <td>0000f6ccb0745a6a4b88665a16c9f078</td>\n",
       "      <td>2017-10-12 20:29:41</td>\n",
       "      <td>325 days 12:37:16</td>\n",
       "      <td>1</td>\n",
       "      <td>25.99</td>\n",
       "      <td>1</td>\n",
       "      <td>1</td>\n",
       "      <td>1</td>\n",
       "      <td>111</td>\n",
       "    </tr>\n",
       "    <tr>\n",
       "      <th>4</th>\n",
       "      <td>0004aac84e0df4da2b147fca70cf8255</td>\n",
       "      <td>2017-11-14 19:45:42</td>\n",
       "      <td>292 days 13:21:15</td>\n",
       "      <td>1</td>\n",
       "      <td>180.00</td>\n",
       "      <td>1</td>\n",
       "      <td>1</td>\n",
       "      <td>3</td>\n",
       "      <td>113</td>\n",
       "    </tr>\n",
       "    <tr>\n",
       "      <th>...</th>\n",
       "      <td>...</td>\n",
       "      <td>...</td>\n",
       "      <td>...</td>\n",
       "      <td>...</td>\n",
       "      <td>...</td>\n",
       "      <td>...</td>\n",
       "      <td>...</td>\n",
       "      <td>...</td>\n",
       "      <td>...</td>\n",
       "    </tr>\n",
       "    <tr>\n",
       "      <th>95415</th>\n",
       "      <td>fffcf5a5ff07b0908bd4e2dbc735a684</td>\n",
       "      <td>2017-06-08 21:00:36</td>\n",
       "      <td>451 days 12:06:21</td>\n",
       "      <td>2</td>\n",
       "      <td>1570.00</td>\n",
       "      <td>1</td>\n",
       "      <td>1</td>\n",
       "      <td>3</td>\n",
       "      <td>113</td>\n",
       "    </tr>\n",
       "    <tr>\n",
       "      <th>95416</th>\n",
       "      <td>fffea47cd6d3cc0a88bd621562a9d061</td>\n",
       "      <td>2017-12-10 20:07:56</td>\n",
       "      <td>266 days 12:59:01</td>\n",
       "      <td>1</td>\n",
       "      <td>64.89</td>\n",
       "      <td>2</td>\n",
       "      <td>1</td>\n",
       "      <td>2</td>\n",
       "      <td>212</td>\n",
       "    </tr>\n",
       "    <tr>\n",
       "      <th>95417</th>\n",
       "      <td>ffff371b4d645b6ecea244b27531430a</td>\n",
       "      <td>2017-02-07 15:49:16</td>\n",
       "      <td>572 days 17:17:41</td>\n",
       "      <td>1</td>\n",
       "      <td>89.90</td>\n",
       "      <td>1</td>\n",
       "      <td>1</td>\n",
       "      <td>2</td>\n",
       "      <td>112</td>\n",
       "    </tr>\n",
       "    <tr>\n",
       "      <th>95418</th>\n",
       "      <td>ffff5962728ec6157033ef9805bacc48</td>\n",
       "      <td>2018-05-02 15:17:41</td>\n",
       "      <td>123 days 17:49:16</td>\n",
       "      <td>1</td>\n",
       "      <td>115.00</td>\n",
       "      <td>3</td>\n",
       "      <td>1</td>\n",
       "      <td>2</td>\n",
       "      <td>312</td>\n",
       "    </tr>\n",
       "    <tr>\n",
       "      <th>95419</th>\n",
       "      <td>ffffd2657e2aad2907e67c3e9daecbeb</td>\n",
       "      <td>2017-05-02 20:18:45</td>\n",
       "      <td>488 days 12:48:12</td>\n",
       "      <td>1</td>\n",
       "      <td>56.99</td>\n",
       "      <td>1</td>\n",
       "      <td>1</td>\n",
       "      <td>1</td>\n",
       "      <td>111</td>\n",
       "    </tr>\n",
       "  </tbody>\n",
       "</table>\n",
       "<p>95420 rows × 9 columns</p>\n",
       "</div>"
      ],
      "text/plain": [
       "                     customer_unique_id order_purchase_timestamp  \\\n",
       "0      0000366f3b9a7992bf8c76cfdf3221e2      2018-05-10 10:56:27   \n",
       "1      0000b849f77a49e4a4ce2b2a4ca5be3f      2018-05-07 11:11:27   \n",
       "2      0000f46a3911fa3c0805444483337064      2017-03-10 21:05:03   \n",
       "3      0000f6ccb0745a6a4b88665a16c9f078      2017-10-12 20:29:41   \n",
       "4      0004aac84e0df4da2b147fca70cf8255      2017-11-14 19:45:42   \n",
       "...                                 ...                      ...   \n",
       "95415  fffcf5a5ff07b0908bd4e2dbc735a684      2017-06-08 21:00:36   \n",
       "95416  fffea47cd6d3cc0a88bd621562a9d061      2017-12-10 20:07:56   \n",
       "95417  ffff371b4d645b6ecea244b27531430a      2017-02-07 15:49:16   \n",
       "95418  ffff5962728ec6157033ef9805bacc48      2018-05-02 15:17:41   \n",
       "95419  ffffd2657e2aad2907e67c3e9daecbeb      2017-05-02 20:18:45   \n",
       "\n",
       "              days_long  number_of_orders  total_amount  R  F  M  RFM  \n",
       "0     115 days 22:10:30                 1        129.90  3  1  3  313  \n",
       "1     118 days 21:55:30                 1         18.90  3  1  1  311  \n",
       "2     541 days 12:01:54                 1         69.00  1  1  2  112  \n",
       "3     325 days 12:37:16                 1         25.99  1  1  1  111  \n",
       "4     292 days 13:21:15                 1        180.00  1  1  3  113  \n",
       "...                 ...               ...           ... .. .. ..  ...  \n",
       "95415 451 days 12:06:21                 2       1570.00  1  1  3  113  \n",
       "95416 266 days 12:59:01                 1         64.89  2  1  2  212  \n",
       "95417 572 days 17:17:41                 1         89.90  1  1  2  112  \n",
       "95418 123 days 17:49:16                 1        115.00  3  1  2  312  \n",
       "95419 488 days 12:48:12                 1         56.99  1  1  1  111  \n",
       "\n",
       "[95420 rows x 9 columns]"
      ]
     },
     "execution_count": 76,
     "metadata": {},
     "output_type": "execute_result"
    }
   ],
   "source": [
    "task6"
   ]
  },
  {
   "cell_type": "markdown",
   "metadata": {
    "pycharm": {
     "name": "#%% md\n"
    }
   },
   "source": [
    " Самые выгодные покупатели R, F, M - для нас начинаются с 3 (недавно покупали, больше покупали, самый большой чек) , а 1 (давно покупали, меньше брали, маленький чек), 2 - промежуточный вариант"
   ]
  },
  {
   "cell_type": "code",
   "execution_count": 77,
   "metadata": {
    "pycharm": {
     "name": "#%%\n"
    }
   },
   "outputs": [
    {
     "data": {
      "text/plain": [
       "<AxesSubplot:xlabel='count', ylabel='RFM'>"
      ]
     },
     "execution_count": 77,
     "metadata": {},
     "output_type": "execute_result"
    },
    {
     "data": {
      "image/png": "[encoded data removed]",
      "text/plain": [
       "<Figure size 842.4x595.44 with 1 Axes>"
      ]
     },
     "metadata": {},
     "output_type": "display_data"
    }
   ],
   "source": [
    "\n",
    "sns.set(rc={'figure.figsize':(11.7,8.27)})\n",
    "sns.countplot(y= \"RFM\", data= task6, color=\"c\")"
   ]
  },
  {
   "cell_type": "markdown",
   "metadata": {
    "pycharm": {
     "name": "#%% md\n"
    }
   },
   "source": [
    "Здесь показано распределение сегментов по количеству"
   ]
  }
 ],
 "metadata": {
  "interpreter": {
   "hash": "f9f85f796d01129d0dd105a088854619f454435301f6ffec2fea96ecbd9be4ac"
  },
  "kernelspec": {
   "display_name": "Python 3.9.12 64-bit",
   "language": "python",
   "name": "python3"
  },
  "language_info": {
   "codemirror_mode": {
    "name": "ipython",
    "version": 3
   },
   "file_extension": ".py",
   "mimetype": "text/x-python",
   "name": "python",
   "nbconvert_exporter": "python",
   "pygments_lexer": "ipython3",
   "version": "3.9.12"
  },
  "orig_nbformat": 4
 },
 "nbformat": 4,
 "nbformat_minor": 2
}
