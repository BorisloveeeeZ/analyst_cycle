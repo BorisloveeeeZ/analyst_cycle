{
 "cells": [
  {
   "cell_type": "code",
   "execution_count": 7,
   "metadata": {
    "pycharm": {
     "name": "#%%\n"
    }
   },
   "outputs": [],
   "source": [
    "import hashlib\n",
    "import pandas as pd\n",
    "import seaborn as sns\n",
    "from ch import Getch\n",
    "import numpy as np\n",
    "from scipy import stats\n",
    "import swifter\n"
   ]
  },
  {
   "cell_type": "markdown",
   "metadata": {
    "pycharm": {
     "name": "#%% md\n"
    }
   },
   "source": [
    "\n",
    "## Гипотеза\n"
   ]
  },
  {
   "cell_type": "markdown",
   "metadata": {
    "pycharm": {
     "name": "#%% md\n"
    }
   },
   "source": [
    "#### К нам пришла команда ML с новыми алгортимами рекомандаций. Задача сделать пользователей 'счастливее'. Они утверждают, что рекомендации делают посты интереснее\n"
   ]
  },
  {
   "cell_type": "markdown",
   "metadata": {
    "pycharm": {
     "name": "#%% md\n"
    }
   },
   "source": [
    "Нам нужна метрика, которая показывает, что посты стали действительно интереснее.  \n",
    "Возьмем CTR, потому что она отражает заинтересованность- лайки и понятно интерпретируется.  \n",
    "***H0: CTR после применения теста не изменился***      \n",
    "***H1: CTR после применения теста значимо изменился*** "
   ]
  },
  {
   "cell_type": "markdown",
   "metadata": {
    "pycharm": {
     "name": "#%% md\n"
    }
   },
   "source": [
    "CTR = (посты, которым поставили лайк)  / (все просмотры)"
   ]
  },
  {
   "cell_type": "markdown",
   "metadata": {
    "pycharm": {
     "name": "#%% md\n"
    }
   },
   "source": [
    "## Делим пользователей на группы"
   ]
  },
  {
   "cell_type": "markdown",
   "metadata": {
    "pycharm": {
     "name": "#%% md\n"
    }
   },
   "source": [
    "### Cистема сплитования"
   ]
  },
  {
   "cell_type": "markdown",
   "metadata": {
    "pycharm": {
     "name": "#%% md\n"
    }
   },
   "source": [
    "Требования к группам пользователей :\n",
    "* Мы хотим, чтобы разбиение было ***случайным***. Делается это для того, чтобы воздействие на них оказывалось *только* в рамках самого теста и *больше ничего*\n",
    "* Группа должна не меняться в течение эксперимента. Если группа не будет сохраняться и человек будет скакать из одной группы в другую, то он увидит два алгоритма и испортит пункт выше. Более того, не совсем понятно, как нужно будет потом отслеживать эффект на метрику.  \n",
    "Идеально, если две группы отличаются **только** алгоритмом и больше ничем\n",
    "* Мы должны иметь возможность повторить ***то же самое разбиение*** (когда нам это понадобится). Если мы захотим проверить еще одну функционалость рекомендаций, то мы должны будем исключить из группы тех, кто эксперимент уже видел. Без детерменированности это будет сделать очень трудно"
   ]
  },
  {
   "cell_type": "markdown",
   "metadata": {
    "pycharm": {
     "name": "#%% md\n"
    }
   },
   "source": [
    "#### Как побить пользователей на группы "
   ]
  },
  {
   "cell_type": "markdown",
   "metadata": {
    "pycharm": {
     "name": "#%% md\n"
    }
   },
   "source": [
    "Рассмотрим классический пример хеширования с солью :\n",
    "\n"
   ]
  },
  {
   "cell_type": "code",
   "execution_count": 8,
   "metadata": {
    "pycharm": {
     "name": "#%%\n"
    }
   },
   "outputs": [],
   "source": [
    "def ab_split(user_id, salt = 'value', n_groups = 5): # разбиение пользователей на n групп\n",
    "    test_id = str(user_id) + '-' + str(salt)  # склеиваем в единую строку\n",
    "    test_id_digest = hashlib.md5(test_id.encode('ascii')).hexdigest()  #перевод строки в число с Равномерным распределением\n",
    "    test_id_final_int = int(test_id_digest, 16)\n",
    "    return test_id_final_int % n_groups"
   ]
  },
  {
   "cell_type": "markdown",
   "metadata": {
    "pycharm": {
     "name": "#%% md\n"
    }
   },
   "source": [
    "Результат кода выше - детерминированный (всегда будет получаться то же разбиение)"
   ]
  },
  {
   "cell_type": "code",
   "execution_count": 9,
   "metadata": {
    "pycharm": {
     "name": "#%%\n"
    }
   },
   "outputs": [
    {
     "data": {
      "text/plain": "Pandas Apply:   0%|          | 0/42585 [00:00<?, ?it/s]",
      "application/vnd.jupyter.widget-view+json": {
       "version_major": 2,
       "version_minor": 0,
       "model_id": "36554f10c3014d27962994bcdf14c032"
      }
     },
     "metadata": {},
     "output_type": "display_data"
    },
    {
     "data": {
      "text/plain": "   hash_group  user_id\n0           0     8439\n1           1     8546\n2           2     8438\n3           3     8492\n4           4     8670",
      "text/html": "<div>\n<style scoped>\n    .dataframe tbody tr th:only-of-type {\n        vertical-align: middle;\n    }\n\n    .dataframe tbody tr th {\n        vertical-align: top;\n    }\n\n    .dataframe thead th {\n        text-align: right;\n    }\n</style>\n<table border=\"1\" class=\"dataframe\">\n  <thead>\n    <tr style=\"text-align: right;\">\n      <th></th>\n      <th>hash_group</th>\n      <th>user_id</th>\n    </tr>\n  </thead>\n  <tbody>\n    <tr>\n      <th>0</th>\n      <td>0</td>\n      <td>8439</td>\n    </tr>\n    <tr>\n      <th>1</th>\n      <td>1</td>\n      <td>8546</td>\n    </tr>\n    <tr>\n      <th>2</th>\n      <td>2</td>\n      <td>8438</td>\n    </tr>\n    <tr>\n      <th>3</th>\n      <td>3</td>\n      <td>8492</td>\n    </tr>\n    <tr>\n      <th>4</th>\n      <td>4</td>\n      <td>8670</td>\n    </tr>\n  </tbody>\n</table>\n</div>"
     },
     "execution_count": 9,
     "metadata": {},
     "output_type": "execute_result"
    }
   ],
   "source": [
    "# Рассмотрим пример\n",
    "q = Getch(\"\"\"\n",
    "SELECT distinct user_id\n",
    "FROM simulator_20220320.feed_actions\n",
    "WHERE (toDate(time) BETWEEN '2022-03-08' and '2022-03-14')\n",
    "\"\"\")\n",
    "# Вытащили пользователей\n",
    "users_df = q.df\n",
    "users_df1 = q.df.copy()\n",
    "\n",
    "# Сделали группы\n",
    "users_df['hash_group'] = users_df.user_id.swifter.apply(ab_split)\n",
    "\n",
    "# Смотрим на число пользователей в каждой группе\n",
    "users_df.groupby('hash_group').user_id.nunique().reset_index()"
   ]
  },
  {
   "cell_type": "code",
   "execution_count": 10,
   "metadata": {
    "pycharm": {
     "name": "#%%\n"
    }
   },
   "outputs": [
    {
     "name": "stdout",
     "output_type": "stream",
     "text": [
      "42585\n"
     ]
    }
   ],
   "source": [
    "print(len(users_df1))"
   ]
  },
  {
   "cell_type": "markdown",
   "metadata": {
    "pycharm": {
     "name": "#%% md\n"
    }
   },
   "source": [
    "Мы видим, что группы разбились равномерно по хешу"
   ]
  },
  {
   "cell_type": "markdown",
   "metadata": {
    "pycharm": {
     "name": "#%% md\n"
    }
   },
   "source": [
    "#### Проведение A/A теста"
   ]
  },
  {
   "cell_type": "markdown",
   "metadata": {
    "pycharm": {
     "name": "#%% md\n"
    }
   },
   "source": [
    "После того, как мы побили на группы пользователей, надо проверить, являются ли они статистически эквивалентными.  \n",
    "Для этого нужно провести А/A тест.   \n",
    "Проверить, что группы между собой не отличаются до тех пор, пока мы не выкатили на них новую функциональность.  \n",
    "Т.е. если группы до этого были статистически эквиваленты, мы можем утверждать, *что возможно полученное различие в дальнейшем вызвано нашим воздействием*"
   ]
  },
  {
   "cell_type": "markdown",
   "metadata": {
    "pycharm": {
     "name": "#%% md\n"
    }
   },
   "source": [
    "АА-тест проходил с 8 по 14 марта 2022\n",
    "АБ-тест с нашими системами рекомендаций проходил с 15 по 21 марта 2022"
   ]
  },
  {
   "cell_type": "code",
   "execution_count": 11,
   "metadata": {
    "pycharm": {
     "name": "#%%\n"
    }
   },
   "outputs": [
    {
     "data": {
      "text/plain": "           users  likes  views   ctr\nexp_group                           \n2           8480   8480   8480  8480\n3           8569   8569   8569  8569",
      "text/html": "<div>\n<style scoped>\n    .dataframe tbody tr th:only-of-type {\n        vertical-align: middle;\n    }\n\n    .dataframe tbody tr th {\n        vertical-align: top;\n    }\n\n    .dataframe thead th {\n        text-align: right;\n    }\n</style>\n<table border=\"1\" class=\"dataframe\">\n  <thead>\n    <tr style=\"text-align: right;\">\n      <th></th>\n      <th>users</th>\n      <th>likes</th>\n      <th>views</th>\n      <th>ctr</th>\n    </tr>\n    <tr>\n      <th>exp_group</th>\n      <th></th>\n      <th></th>\n      <th></th>\n      <th></th>\n    </tr>\n  </thead>\n  <tbody>\n    <tr>\n      <th>2</th>\n      <td>8480</td>\n      <td>8480</td>\n      <td>8480</td>\n      <td>8480</td>\n    </tr>\n    <tr>\n      <th>3</th>\n      <td>8569</td>\n      <td>8569</td>\n      <td>8569</td>\n      <td>8569</td>\n    </tr>\n  </tbody>\n</table>\n</div>"
     },
     "execution_count": 11,
     "metadata": {},
     "output_type": "execute_result"
    }
   ],
   "source": [
    "q = Getch(\"\"\"\n",
    "    SELECT exp_group,\n",
    "           user_id AS users,\n",
    "           sum(action = 'like') AS likes,\n",
    "           sum(action = 'view') AS views,\n",
    "           (likes/views) AS ctr\n",
    "    FROM simulator_20220320.feed_actions\n",
    "    WHERE (toDate(time) BETWEEN '2022-03-08' and '2022-03-14') and exp_group in (2,3)\n",
    "    GROUP BY exp_group, user_id\n",
    "\"\"\")\n",
    "\n",
    "df = q.df\n",
    "\n",
    "df.groupby('exp_group').count()"
   ]
  },
  {
   "cell_type": "markdown",
   "metadata": {
    "pycharm": {
     "name": "#%% md\n"
    }
   },
   "source": [
    "#### Проверка корректности системы сплитования"
   ]
  },
  {
   "cell_type": "code",
   "execution_count": 12,
   "metadata": {
    "pycharm": {
     "name": "#%%\n"
    }
   },
   "outputs": [
    {
     "data": {
      "text/plain": "<Figure size 842.4x595.44 with 1 Axes>",
      "image/png": "[encoded data removed]"
     },
     "metadata": {},
     "output_type": "display_data"
    }
   ],
   "source": [
    "\n",
    "sns.set(rc={'figure.figsize':(11.7,8.27)})\n",
    "\n",
    "groups = sns.histplot(data = df, \n",
    "              x='ctr', \n",
    "              hue='exp_group', \n",
    "              palette = ['b', 'y'],\n",
    "              alpha=0.5,\n",
    "              kde=False)"
   ]
  },
  {
   "cell_type": "markdown",
   "metadata": {
    "pycharm": {
     "name": "#%% md\n"
    }
   },
   "source": [
    "Из распределния кажется, что группы статистически эквиваленты и проводить тест можно. Но это проверка на глаз, воспользуемся проверкой тестов"
   ]
  },
  {
   "cell_type": "markdown",
   "metadata": {
    "pycharm": {
     "name": "#%% md\n"
    }
   },
   "source": [
    " #### Student`s - T test"
   ]
  },
  {
   "cell_type": "markdown",
   "metadata": {
    "pycharm": {
     "name": "#%% md\n"
    }
   },
   "source": [
    "Плюсы теста:  \n",
    "* инетрпретируемый (в отличии от Манна-Уитни) в нашем случае сравниваются средние\n",
    "* быстро считается \n",
    "\n",
    "Минусы теста:\n",
    "* Если в распределении много выбросов либо оно скошено вправо(влево почти никогда)\n",
    "* Большие выбросы - часть нашего распределения\n",
    "* Требуется явная оценка дисперсий групп\n"
   ]
  },
  {
   "cell_type": "code",
   "execution_count": 13,
   "metadata": {
    "pycharm": {
     "name": "#%%\n"
    }
   },
   "outputs": [
    {
     "data": {
      "text/plain": "Ttest_indResult(statistic=-0.7393597924958364, pvalue=0.45969873156476293)"
     },
     "execution_count": 13,
     "metadata": {},
     "output_type": "execute_result"
    }
   ],
   "source": [
    "stats.ttest_ind(df[df.exp_group == 2].ctr,\n",
    "                df[df.exp_group == 3].ctr,\n",
    "                equal_var= False)"
   ]
  },
  {
   "cell_type": "markdown",
   "metadata": {
    "pycharm": {
     "name": "#%% md\n"
    }
   },
   "source": [
    "А-А тест сошелся, pvalue очень большое. Наш уровень значимости заданный - 0.05. Здесь он намного выше"
   ]
  },
  {
   "cell_type": "markdown",
   "metadata": {
    "pycharm": {
     "name": "#%% md\n"
    }
   },
   "source": [
    "Так как мы прошли проверку, не имеет смысла проверять тестом Манна-Уитни. Он чуть менее чувствительный, используется как непараметрический аналог t-test. Но все же проверим :)"
   ]
  },
  {
   "cell_type": "markdown",
   "metadata": {
    "pycharm": {
     "name": "#%% md\n"
    }
   },
   "source": [
    "#### Манн-Уитни"
   ]
  },
  {
   "cell_type": "markdown",
   "metadata": {
    "pycharm": {
     "name": "#%% md\n"
    }
   },
   "source": [
    "Плюсы теста:\n",
    "* не такой требовательный, как t-test\n",
    "* почти такой же чувствительный\n",
    "Минусы:\n",
    "* Так-как здесь у нас ранговая система, он тяжело интерпретируется, но может отслеживать изменчивость, если распределение идентичное, он не должен краситься.  "
   ]
  },
  {
   "cell_type": "markdown",
   "metadata": {
    "pycharm": {
     "name": "#%% md\n"
    }
   },
   "source": [
    "Нулевая Гипотеза:  \n",
    "*     Если выборки одинаковые, то тест не будет прокрашиваться.  H0 : P(X > Y) = P(Y > X)\n",
    "Альтернативная:  \n",
    "*     Если выборки отличаются, то тест прокрасится               H1 : P(X > Y) != P(Y > X)\n"
   ]
  },
  {
   "cell_type": "code",
   "execution_count": 14,
   "metadata": {
    "pycharm": {
     "name": "#%%\n"
    }
   },
   "outputs": [
    {
     "name": "stdout",
     "output_type": "stream",
     "text": [
      "MannwhitneyuResult(statistic=36124728.5, pvalue=0.5177480614337441)\n"
     ]
    }
   ],
   "source": [
    "print(stats.mannwhitneyu(df[df.exp_group == 2].ctr,\n",
    "                         df[df.exp_group == 3].ctr \n",
    "                            ))"
   ]
  },
  {
   "cell_type": "code",
   "execution_count": 15,
   "metadata": {
    "pycharm": {
     "name": "#%%\n"
    }
   },
   "outputs": [],
   "source": [
    "A_gt_B = 0\n",
    "for i in range(10000):\n",
    "    A_gt_B += df[df.exp_group == 2].ctr.sample().values[0] > df[df.exp_group == 3].ctr.sample().values[0]"
   ]
  },
  {
   "cell_type": "code",
   "execution_count": 16,
   "metadata": {
    "pycharm": {
     "name": "#%%\n"
    }
   },
   "outputs": [
    {
     "name": "stdout",
     "output_type": "stream",
     "text": [
      "B 50.48 % случаев A > B\n"
     ]
    }
   ],
   "source": [
    "print('B', A_gt_B/100, '% случаев A > B')  #должно получить в районе 50"
   ]
  },
  {
   "cell_type": "markdown",
   "source": [
    "Бутстрап"
   ],
   "metadata": {
    "collapsed": false,
    "pycharm": {
     "name": "#%% md\n"
    }
   }
  },
  {
   "cell_type": "code",
   "execution_count": 17,
   "outputs": [],
   "source": [
    "group_A = df[df['exp_group'] == 2]\n",
    "group_B = df[df['exp_group'] == 3]\n",
    "group_A_frac = 500 / len(group_A)\n",
    "group_B_frac = 500 / len(group_B)"
   ],
   "metadata": {
    "collapsed": false,
    "pycharm": {
     "name": "#%%\n"
    }
   }
  },
  {
   "cell_type": "code",
   "execution_count": 18,
   "outputs": [],
   "source": [
    "pval = []\n",
    "for i in range(10000):\n",
    "    _, p_value = stats.ttest_ind(group_A.ctr.sample(frac = group_A_frac, replace = True),\n",
    "                              group_B.ctr.sample(frac = group_B_frac, replace = True),\n",
    "                              equal_var = False)\n",
    "    pval.append(p_value)\n"
   ],
   "metadata": {
    "collapsed": false,
    "pycharm": {
     "name": "#%%\n"
    }
   }
  },
  {
   "cell_type": "code",
   "execution_count": 19,
   "outputs": [
    {
     "data": {
      "text/plain": "<seaborn.axisgrid.FacetGrid at 0x7f0c19e476a0>"
     },
     "execution_count": 19,
     "metadata": {},
     "output_type": "execute_result"
    },
    {
     "data": {
      "text/plain": "<Figure size 360x360 with 1 Axes>",
      "image/png": "[encoded data removed]"
     },
     "metadata": {},
     "output_type": "display_data"
    }
   ],
   "source": [
    " sns.displot(pval)"
   ],
   "metadata": {
    "collapsed": false,
    "pycharm": {
     "name": "#%%\n"
    }
   }
  },
  {
   "cell_type": "code",
   "execution_count": 20,
   "outputs": [
    {
     "data": {
      "text/plain": "0.0519"
     },
     "execution_count": 20,
     "metadata": {},
     "output_type": "execute_result"
    }
   ],
   "source": [
    " sum(np.array(pval) < 0.05) / 10_000"
   ],
   "metadata": {
    "collapsed": false,
    "pycharm": {
     "name": "#%%\n"
    }
   }
  },
  {
   "cell_type": "markdown",
   "metadata": {
    "pycharm": {
     "name": "#%% md\n"
    }
   },
   "source": [
    "### Вывод\n",
    "\n",
    "Проведенный А-А тест показывает, что наши выборки статистически эквиваленты. p-value двух групп отклоняется лишь в 5.2% случаев.\n",
    "Следовательно, на этих группах мы можем проводить A/B тест"
   ]
  },
  {
   "cell_type": "markdown",
   "metadata": {
    "pycharm": {
     "name": "#%% md\n"
    }
   },
   "source": [
    "# A/B тест"
   ]
  },
  {
   "cell_type": "code",
   "execution_count": 26,
   "outputs": [
    {
     "data": {
      "text/plain": "           users  likes  views    ctr\nexp_group                            \n1          10079  10079  10079  10079\n2           9952   9952   9952   9952",
      "text/html": "<div>\n<style scoped>\n    .dataframe tbody tr th:only-of-type {\n        vertical-align: middle;\n    }\n\n    .dataframe tbody tr th {\n        vertical-align: top;\n    }\n\n    .dataframe thead th {\n        text-align: right;\n    }\n</style>\n<table border=\"1\" class=\"dataframe\">\n  <thead>\n    <tr style=\"text-align: right;\">\n      <th></th>\n      <th>users</th>\n      <th>likes</th>\n      <th>views</th>\n      <th>ctr</th>\n    </tr>\n    <tr>\n      <th>exp_group</th>\n      <th></th>\n      <th></th>\n      <th></th>\n      <th></th>\n    </tr>\n  </thead>\n  <tbody>\n    <tr>\n      <th>1</th>\n      <td>10079</td>\n      <td>10079</td>\n      <td>10079</td>\n      <td>10079</td>\n    </tr>\n    <tr>\n      <th>2</th>\n      <td>9952</td>\n      <td>9952</td>\n      <td>9952</td>\n      <td>9952</td>\n    </tr>\n  </tbody>\n</table>\n</div>"
     },
     "execution_count": 26,
     "metadata": {},
     "output_type": "execute_result"
    }
   ],
   "source": [
    "q = Getch(\"\"\"\n",
    "    SELECT exp_group,\n",
    "           user_id AS users,\n",
    "           sum(action = 'like') AS likes,\n",
    "           sum(action = 'view') AS views,\n",
    "           (likes/views) AS ctr\n",
    "    FROM simulator_20220320.feed_actions\n",
    "    WHERE (toDate(time) BETWEEN '2022-03-15' and '2022-03-21') and exp_group in (2,1)\n",
    "    GROUP BY exp_group, user_id\n",
    "\"\"\")\n",
    "df = q.df\n",
    "\n",
    "df.groupby('exp_group').count()"
   ],
   "metadata": {
    "collapsed": false,
    "pycharm": {
     "name": "#%%\n"
    }
   }
  },
  {
   "cell_type": "markdown",
   "source": [
    "Считаем сглаженный CTR"
   ],
   "metadata": {
    "collapsed": false,
    "pycharm": {
     "name": "#%% md\n"
    }
   }
  },
  {
   "cell_type": "code",
   "execution_count": 27,
   "outputs": [],
   "source": [
    "def get_ctr(user_likes, user_views, global_ctr, alpha):\n",
    "    return (user_likes + alpha * global_ctr) / (user_views + alpha)"
   ],
   "metadata": {
    "collapsed": false,
    "pycharm": {
     "name": "#%%\n"
    }
   }
  },
  {
   "cell_type": "code",
   "execution_count": 28,
   "outputs": [],
   "source": [
    "global_ctr_2 = df[df.exp_group == 2].likes.sum() / df[df.exp_group ==2].views.sum()\n",
    "global_ctr_1 = df[df.exp_group == 1].likes.sum() / df[df.exp_group ==1].views.sum()"
   ],
   "metadata": {
    "collapsed": false,
    "pycharm": {
     "name": "#%%\n"
    }
   }
  },
  {
   "cell_type": "code",
   "execution_count": 30,
   "outputs": [
    {
     "name": "stdout",
     "output_type": "stream",
     "text": [
      "0.1980601844115994 0.20802680490126244\n"
     ]
    }
   ],
   "source": [
    "print(global_ctr_2, global_ctr_1)"
   ],
   "metadata": {
    "collapsed": false,
    "pycharm": {
     "name": "#%%\n"
    }
   }
  },
  {
   "cell_type": "markdown",
   "source": [
    "Вроде бы, отличие есть. Воспользуемся bootstrap-статистикой для проверки гипотезы"
   ],
   "metadata": {
    "collapsed": false,
    "pycharm": {
     "name": "#%% md\n"
    }
   }
  },
  {
   "cell_type": "code",
   "execution_count": 48,
   "outputs": [],
   "source": [
    "def get_bootstrap(likes1, views1, likes2, views2, n_bootstrap = 2000):\n",
    "    bootstrap_1 = stats.poisson(1).rvs((2000, len(likes1))).astype(np.int64)\n",
    "    bootstrap_2 = stats.poisson(2).rvs((2000, len(likes2))).astype(np.int64)\n",
    "    global_1 = (bootstrap_1 * likes1).sum(axis=1)/(bootstrap_1 * views1).sum(axis=1)\n",
    "    global_2 = (bootstrap_2 * likes2).sum(axis=1)/(bootstrap_2 * views2).sum(axis=1)\n",
    "    return global_1, global_2"
   ],
   "metadata": {
    "collapsed": false,
    "pycharm": {
     "name": "#%%\n"
    }
   }
  },
  {
   "cell_type": "code",
   "execution_count": 45,
   "outputs": [],
   "source": [
    "q = Getch(\"\"\"\n",
    "    SELECT exp_group,\n",
    "           user_id AS users,\n",
    "           sum(action = 'like') AS likes,\n",
    "           sum(action = 'view') AS views,\n",
    "           (likes/views) AS ctr\n",
    "    FROM simulator_20220320.feed_actions\n",
    "    WHERE (toDate(time) BETWEEN '2022-03-15' and '2022-03-21') and exp_group in (2,1)\n",
    "    GROUP BY exp_group, user_id\n",
    "\"\"\")\n",
    "\n",
    "likes1 = df[df.exp_group==1].likes.to_numpy()\n",
    "views1 = df[df.exp_group==1].views.to_numpy()\n",
    "likes2 = df[df.exp_group==2].likes.to_numpy()\n",
    "views2 = df[df.exp_group == 2].views.to_numpy()"
   ],
   "metadata": {
    "collapsed": false,
    "pycharm": {
     "name": "#%%\n"
    }
   }
  },
  {
   "cell_type": "code",
   "execution_count": 49,
   "outputs": [],
   "source": [
    "ctr1, ctr2 = get_bootstrap(likes1, views1, likes2, views2)"
   ],
   "metadata": {
    "collapsed": false,
    "pycharm": {
     "name": "#%%\n"
    }
   }
  },
  {
   "cell_type": "code",
   "execution_count": 50,
   "outputs": [
    {
     "data": {
      "text/plain": "<AxesSubplot:ylabel='Count'>"
     },
     "execution_count": 50,
     "metadata": {},
     "output_type": "execute_result"
    },
    {
     "data": {
      "text/plain": "<Figure size 842.4x595.44 with 1 Axes>",
      "image/png": "[encoded data removed]"
     },
     "metadata": {},
     "output_type": "display_data"
    }
   ],
   "source": [
    "sns.histplot(ctr1)\n",
    "sns.histplot(ctr2)"
   ],
   "metadata": {
    "collapsed": false,
    "pycharm": {
     "name": "#%%\n"
    }
   }
  },
  {
   "cell_type": "markdown",
   "source": [
    "Из распределения видно, что значимые отличия есть. Можно раскатывать обновлений на всех пользователей"
   ],
   "metadata": {
    "collapsed": false,
    "pycharm": {
     "name": "#%% md\n"
    }
   }
  }
 ],
 "metadata": {
  "interpreter": {
   "hash": "f9f85f796d01129d0dd105a088854619f454435301f6ffec2fea96ecbd9be4ac"
  },
  "kernelspec": {
   "display_name": "Python 3.9.10 64-bit",
   "language": "python",
   "name": "python3"
  },
  "language_info": {
   "codemirror_mode": {
    "name": "ipython",
    "version": 3
   },
   "file_extension": ".py",
   "mimetype": "text/x-python",
   "name": "python",
   "nbconvert_exporter": "python",
   "pygments_lexer": "ipython3",
   "version": "3.9.13"
  },
  "orig_nbformat": 4
 },
 "nbformat": 4,
 "nbformat_minor": 2
}